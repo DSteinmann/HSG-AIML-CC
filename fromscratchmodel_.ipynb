{
  "cells": [
    {
      "cell_type": "markdown",
      "metadata": {
        "id": "view-in-github",
        "colab_type": "text"
      },
      "source": [
        "<a href=\"https://colab.research.google.com/github/DSteinmann/HSG-AIML-CC/blob/AP/fromscratchmodel_.ipynb\" target=\"_parent\"><img src=\"https://colab.research.google.com/assets/colab-badge.svg\" alt=\"Open In Colab\"/></a>"
      ]
    },
    {
      "cell_type": "markdown",
      "metadata": {
        "id": "TlkvJFLn1qkv"
      },
      "source": [
        "<img align=\"center\" style=\"max-width: 900px; height: auto\" src=\"https://github.com/DSteinmann/HSG-AIML-CC/blob/assets/banner.png?raw=1\">"
      ]
    },
    {
      "cell_type": "markdown",
      "metadata": {
        "id": "qAtFjzCe1qk1"
      },
      "source": [
        "###  Coding Challenge - Getting Started\n",
        "\n",
        "<img align=\"right\" style=\"max-width: 200px; height: auto\" src=\"https://github.com/DSteinmann/HSG-AIML-CC/blob/AP/hsg_logo.png?raw=1\">\n",
        "<img align=\"center\" style=\"max-width: 300px; height: auto\" src=\"https://github.com/DSteinmann/HSG-AIML-CC/blob/AP/sentinel2.jpg?raw=1\">\n",
        "\n",
        "8,860,1.00 MCS Machine Learning, Spring Term 2025, University of St.Gallen (HSG)\n",
        "\n",
        "The lab environment of the **8,860,1.00 Machine Learning** course is powered by Jupyter Notebooks (https://jupyter.org), which allows one to perform a great deal of data analysis and statistical validation. In this first lab, we want to touch on the basic concepts and techniques of such notebooks. Furthermore, its capabilities will be demonstrated based on a few simple and introductory examples."
      ]
    },
    {
      "cell_type": "markdown",
      "metadata": {
        "id": "oYBfEShq1qk3"
      },
      "source": [
        "### Objectives:"
      ]
    },
    {
      "cell_type": "markdown",
      "metadata": {
        "id": "MgbexNqy1qk4"
      },
      "source": [
        "With the help of this notebook you should be able to:\n",
        "    \n",
        "> 1. Understand the basic funcitonality of the rasterio framework\n",
        "> 2. Apply rasterio to load GTiff data\n",
        "> 3. Visualize multi-band satellite imagery\n",
        "> 4. Perform basic band arithmetic to compute the normalized difference vegetation index (NDVI)\n",
        "> 5. Load and display samples from the challenge testset"
      ]
    },
    {
      "cell_type": "markdown",
      "metadata": {
        "id": "wghMZeTe1qk4"
      },
      "source": [
        "## 2. Setup of the Jupyter Notebook Environment"
      ]
    },
    {
      "cell_type": "markdown",
      "metadata": {
        "id": "EtxehxAC1qk5"
      },
      "source": [
        "Similar to the previous labs, we need to import a couple of Python libraries that allow for data analysis and data visualization. We will use `os` and `glob` to collect the filepaths for the data samples, `numpy` for array operations, `matplotlib` to display images, and `rasterio` to handle raster data. You can find the documentation of the `rasterio` library with an overview of its functionality [here](https://rasterio.readthedocs.io)."
      ]
    },
    {
      "cell_type": "code",
      "source": [
        "\n",
        "\n",
        "!pip install rasterio\n",
        "import os\n",
        "import glob\n",
        "import numpy as np\n",
        "import rasterio as rio\n",
        "from rasterio.plot import reshape_as_image\n",
        "import matplotlib.pyplot as plt\n",
        "%matplotlib inline\n",
        "\n"
      ],
      "metadata": {
        "colab": {
          "base_uri": "https://localhost:8080/"
        },
        "id": "GsBs_Nke2rb5",
        "outputId": "dd6c8a21-7ba2-42de-ef75-6cf15d579fdf"
      },
      "execution_count": null,
      "outputs": [
        {
          "output_type": "stream",
          "name": "stdout",
          "text": [
            "Collecting rasterio\n",
            "  Downloading rasterio-1.4.3-cp311-cp311-manylinux_2_17_x86_64.manylinux2014_x86_64.whl.metadata (9.1 kB)\n",
            "Collecting affine (from rasterio)\n",
            "  Downloading affine-2.4.0-py3-none-any.whl.metadata (4.0 kB)\n",
            "Requirement already satisfied: attrs in /usr/local/lib/python3.11/dist-packages (from rasterio) (25.3.0)\n",
            "Requirement already satisfied: certifi in /usr/local/lib/python3.11/dist-packages (from rasterio) (2025.1.31)\n",
            "Requirement already satisfied: click>=4.0 in /usr/local/lib/python3.11/dist-packages (from rasterio) (8.1.8)\n",
            "Collecting cligj>=0.5 (from rasterio)\n",
            "  Downloading cligj-0.7.2-py3-none-any.whl.metadata (5.0 kB)\n",
            "Requirement already satisfied: numpy>=1.24 in /usr/local/lib/python3.11/dist-packages (from rasterio) (2.0.2)\n",
            "Collecting click-plugins (from rasterio)\n",
            "  Downloading click_plugins-1.1.1-py2.py3-none-any.whl.metadata (6.4 kB)\n",
            "Requirement already satisfied: pyparsing in /usr/local/lib/python3.11/dist-packages (from rasterio) (3.2.3)\n",
            "Downloading rasterio-1.4.3-cp311-cp311-manylinux_2_17_x86_64.manylinux2014_x86_64.whl (22.2 MB)\n",
            "\u001b[2K   \u001b[90m━━━━━━━━━━━━━━━━━━━━━━━━━━━━━━━━━━━━━━━━\u001b[0m \u001b[32m22.2/22.2 MB\u001b[0m \u001b[31m17.7 MB/s\u001b[0m eta \u001b[36m0:00:00\u001b[0m\n",
            "\u001b[?25hDownloading cligj-0.7.2-py3-none-any.whl (7.1 kB)\n",
            "Downloading affine-2.4.0-py3-none-any.whl (15 kB)\n",
            "Downloading click_plugins-1.1.1-py2.py3-none-any.whl (7.5 kB)\n",
            "Installing collected packages: cligj, click-plugins, affine, rasterio\n",
            "Successfully installed affine-2.4.0 click-plugins-1.1.1 cligj-0.7.2 rasterio-1.4.3\n"
          ]
        }
      ]
    },
    {
      "cell_type": "markdown",
      "metadata": {
        "id": "_YwfNLbV1qk8"
      },
      "source": [
        "### Dataset Download\n",
        "<img align=\"center\" style=\"max-width: 300px; height: auto\" src=\"https://github.com/DSteinmann/HSG-AIML-CC/blob/AP/eurosat.png?raw=1\">"
      ]
    },
    {
      "cell_type": "markdown",
      "metadata": {
        "id": "9RcltHDK1qk9"
      },
      "source": [
        "The Eurosat dataset is available on [github](https://github.com/phelber/EuroSAT). You can download and unpack the data from there. Note that this repository includes RGB and multi-spectral versions of Eurosat. Note that the testdata is multi-spectral.\n",
        "\n",
        "The multi-spectral (MS) version can be downloaded with the following command:"
      ]
    },
    {
      "cell_type": "code",
      "execution_count": null,
      "metadata": {
        "colab": {
          "base_uri": "https://localhost:8080/"
        },
        "id": "gTIhnQqQ1qk-",
        "outputId": "68c193dd-be50-42a9-eefa-67acabacab8f"
      },
      "outputs": [
        {
          "output_type": "stream",
          "name": "stdout",
          "text": [
            "--2025-04-09 08:30:56--  https://madm.dfki.de/files/sentinel/EuroSATallBands.zip\n",
            "Resolving madm.dfki.de (madm.dfki.de)... 131.246.195.183\n",
            "Connecting to madm.dfki.de (madm.dfki.de)|131.246.195.183|:443... connected.\n",
            "WARNING: cannot verify madm.dfki.de's certificate, issued by ‘CN=GEANT OV RSA CA 4,O=GEANT Vereniging,C=NL’:\n",
            "  Unable to locally verify the issuer's authority.\n",
            "HTTP request sent, awaiting response... 200 OK\n",
            "Length: 2067725275 (1.9G) [application/zip]\n",
            "Saving to: ‘EuroSATallBands.zip’\n",
            "\n",
            "EuroSATallBands.zip 100%[===================>]   1.92G  11.5MB/s    in 3m 53s  \n",
            "\n",
            "2025-04-09 08:34:50 (8.46 MB/s) - ‘EuroSATallBands.zip’ saved [2067725275/2067725275]\n",
            "\n"
          ]
        }
      ],
      "source": [
        "\n",
        "\n",
        "!wget https://madm.dfki.de/files/sentinel/EuroSATallBands.zip --no-check-certificate\n",
        "\n"
      ]
    },
    {
      "cell_type": "code",
      "source": [
        "#unzip file\n",
        "!unzip -q EuroSATallBands.zip"
      ],
      "metadata": {
        "id": "fa13l5lb2yUK"
      },
      "execution_count": null,
      "outputs": []
    },
    {
      "cell_type": "markdown",
      "metadata": {
        "id": "QZbQXgf41qk_"
      },
      "source": [
        "### Eurosat classes\n",
        "\n",
        "The class-labels can be derived from the directory structure of the downloaded `zip` file. The 10 classes are as follows:"
      ]
    },
    {
      "cell_type": "code",
      "execution_count": null,
      "metadata": {
        "id": "mgYfNLBq1qk_"
      },
      "outputs": [],
      "source": [
        "classes = [\n",
        "    \"AnnualCrop\",\n",
        "    \"Forest\",\n",
        "    \"HerbaceousVegetation\",\n",
        "    \"Highway\",\n",
        "    \"Industrial\",\n",
        "    \"Pasture\",\n",
        "    \"PermanentCrop\",\n",
        "    \"Residential\",\n",
        "    \"River\",\n",
        "    \"SeaLake\",\n",
        "]"
      ]
    },
    {
      "cell_type": "markdown",
      "metadata": {
        "id": "DuKCnhYw1qlA"
      },
      "source": [
        "### Data visualization\n",
        "Let's define a function to visualize the Eurosat data with `matplotlib`. In the 13-band multispectral images of Sentinel-2, the 13 values of each pixel correspond to the reflectance values at different wavelengths. These numbers are not normalized for visualization with `matplotlib`, which expects inputs to be `int` in the `[0-255]` or `float` in the `[0.-1.]` range."
      ]
    },
    {
      "cell_type": "code",
      "execution_count": null,
      "metadata": {
        "id": "aUIXASA-1qlB"
      },
      "outputs": [],
      "source": [
        "def normalize_for_display(band_data):\n",
        "    \"\"\"Normalize multi-spectral imagery across bands.\n",
        "    The input is expected to be in HxWxC format, e.g. 64x64x13.\n",
        "    To account for outliers (e.g. extremly high values due to\n",
        "    reflective surfaces), we normalize with the 2- and 98-percentiles\n",
        "    instead of minimum and maximum of each band.\n",
        "    \"\"\"\n",
        "    band_data = np.array(band_data)\n",
        "    lower_perc = np.percentile(band_data, 2, axis=(0,1))\n",
        "    upper_perc = np.percentile(band_data, 98, axis=(0,1))\n",
        "\n",
        "    return (band_data - lower_perc) / (upper_perc - lower_perc)"
      ]
    },
    {
      "cell_type": "markdown",
      "metadata": {
        "id": "hEkQBuC71qlB"
      },
      "source": [
        "## EuroSat Data Loading\n",
        "\n",
        "First, let's collect all the files that we downloaded"
      ]
    },
    {
      "cell_type": "code",
      "execution_count": null,
      "metadata": {
        "id": "jUJzIoYK1qlC"
      },
      "outputs": [],
      "source": [
        "# change this to your eurosat path\n",
        "eurosat_dir = \"./ds/images/remote_sensing/otherDatasets/sentinel_2/tif\""
      ]
    },
    {
      "cell_type": "code",
      "execution_count": null,
      "metadata": {
        "colab": {
          "base_uri": "https://localhost:8080/"
        },
        "id": "vTM9nEeX1qlC",
        "outputId": "a58353d8-213f-46b3-ce40-85ca8f1d59c6"
      },
      "outputs": [
        {
          "output_type": "execute_result",
          "data": {
            "text/plain": [
              "27000"
            ]
          },
          "metadata": {},
          "execution_count": 7
        }
      ],
      "source": [
        "samples = glob.glob(os.path.join(eurosat_dir, \"*\", \"*.tif\"))\n",
        "len(samples)"
      ]
    },
    {
      "cell_type": "markdown",
      "metadata": {
        "id": "P6tqcZHD1qlD"
      },
      "source": [
        "We have 27,000 files across 10 classes.\n",
        "\n",
        "Let's load one of those multi-spectral images and try to visualize it."
      ]
    },
    {
      "cell_type": "code",
      "execution_count": null,
      "metadata": {
        "id": "qyety4rx1qlD"
      },
      "outputs": [],
      "source": [
        "sample_idx = 1\n",
        "sample = samples[sample_idx]\n",
        "label = sample.split('/')[-1].split('_')[0]"
      ]
    },
    {
      "cell_type": "markdown",
      "metadata": {
        "id": "aj2PM1401qlE"
      },
      "source": [
        "We can use `rasterio.open` to open the `GTiff` file. We can then `read` from the file. By default `read()` without arguments will load all bands. Individual bands can be specified as a list with one-based indices. Therefore, the RGB bands can be read with `read([4,3,2])`."
      ]
    },
    {
      "cell_type": "code",
      "execution_count": null,
      "metadata": {
        "colab": {
          "base_uri": "https://localhost:8080/"
        },
        "id": "SY2uNJfd1qlF",
        "outputId": "449ee454-5cf3-4065-da62-e599981fbb5c"
      },
      "outputs": [
        {
          "output_type": "execute_result",
          "data": {
            "text/plain": [
              "(13, 64, 64)"
            ]
          },
          "metadata": {},
          "execution_count": 9
        }
      ],
      "source": [
        "with rio.open(sample, \"r\") as d:\n",
        "    # img = d.read() # read all bands\n",
        "\n",
        "    # read specific bands:\n",
        "    # B1,B2,B3,B4,B5,B6,B7,B8,B8A,B9,B10,B11,B12\n",
        "    img = d.read([1,2,3,4,5,6,7,8,9,10,11,12,13])\n",
        "\n",
        "img.shape"
      ]
    },
    {
      "cell_type": "markdown",
      "metadata": {
        "id": "3qNBe1_01qlG"
      },
      "source": [
        "We load the data into the `img` variable. This results in a `numpy` array with shape `(13,64,64)`, i.e. `CxHxW`. This differs from the convention of most image libraries like `matplotlib`, which work on image data in the `HxWxC` orientation. `rasterio` provides a function to easily fix this:"
      ]
    },
    {
      "cell_type": "code",
      "execution_count": null,
      "metadata": {
        "colab": {
          "base_uri": "https://localhost:8080/"
        },
        "id": "wgyPcHsO1qlG",
        "outputId": "11154ad2-8647-4dbe-f4a7-822bb31898c2"
      },
      "outputs": [
        {
          "output_type": "execute_result",
          "data": {
            "text/plain": [
              "(64, 64, 13)"
            ]
          },
          "metadata": {},
          "execution_count": 10
        }
      ],
      "source": [
        "img = reshape_as_image(img)\n",
        "img.shape"
      ]
    },
    {
      "cell_type": "markdown",
      "metadata": {
        "id": "k2HZWMNe1qlH"
      },
      "source": [
        "Now let's normalize the data."
      ]
    },
    {
      "cell_type": "code",
      "execution_count": null,
      "metadata": {
        "id": "dqT36ShH1qlI"
      },
      "outputs": [],
      "source": [
        "normalized_img = normalize_for_display(img)"
      ]
    },
    {
      "cell_type": "markdown",
      "metadata": {
        "id": "Ho7qn79h1qlI"
      },
      "source": [
        "Finally, we can extract the RGB bands and visualize them with `matplotlib`."
      ]
    },
    {
      "cell_type": "code",
      "execution_count": null,
      "metadata": {
        "id": "mDY5DLWg1qlJ"
      },
      "outputs": [],
      "source": [
        "rgb_img = normalized_img[:, :, [3,2,1]]"
      ]
    },
    {
      "cell_type": "code",
      "execution_count": null,
      "metadata": {
        "colab": {
          "base_uri": "https://localhost:8080/",
          "height": 545
        },
        "id": "njlwPx-w1qlK",
        "outputId": "ee59a72d-02b0-4692-d2b5-c82185a783b7"
      },
      "outputs": [
        {
          "output_type": "stream",
          "name": "stderr",
          "text": [
            "WARNING:matplotlib.image:Clipping input data to the valid range for imshow with RGB data ([0..1] for floats or [0..255] for integers). Got range [-0.08368794326241134..1.5880398671096345].\n"
          ]
        },
        {
          "output_type": "display_data",
          "data": {
            "text/plain": [
              "<Figure size 500x500 with 1 Axes>"
            ],
            "image/png": "[encoded data removed]"
          },
          "metadata": {}
        }
      ],
      "source": [
        "fig, ax = plt.subplots(1, figsize=(5,5))\n",
        "ax.imshow(rgb_img)\n",
        "ax.set_title(f\"{label}\")\n",
        "ax.axis(False)\n",
        "plt.tight_layout()\n",
        "\n",
        "plt.show()"
      ]
    },
    {
      "cell_type": "markdown",
      "metadata": {
        "id": "_jHUvgTC1qlK"
      },
      "source": [
        "Note the `matplotlib` warning. Since we normalized the data by percentiles instead of maximum and minimum some (rare) pixels exceed the `[0.-1.]` range that `matplotlib` can handle. In such cases, the values are clipped to `1.`."
      ]
    },
    {
      "cell_type": "markdown",
      "metadata": {
        "id": "63ghRvfE1qlL"
      },
      "source": [
        "# Testset Data Loading\n",
        "\n",
        "The testset has a slightly different structure than Eurosat. There are no labels and the data is stored in `numpy` `.npy` instead of GTiff.\n",
        "\n",
        "First, we have to download the data from [Kaggle](https://www.kaggle.com/competitions/8-860-1-00-coding-challenge-2025/data)."
      ]
    },
    {
      "cell_type": "code",
      "source": [
        "!pip install kaggle\n",
        "!kaggle competitions download -c 8-860-1-00-coding-challenge-2025\n",
        "#unzip\n",
        "!unzip -q 8-860-1-00-coding-challenge-2025.zip"
      ],
      "metadata": {
        "colab": {
          "base_uri": "https://localhost:8080/"
        },
        "id": "wQt2V7nz3AY8",
        "outputId": "487ecfcf-a64b-4b10-dd53-88c5702ecb7d"
      },
      "execution_count": null,
      "outputs": [
        {
          "output_type": "stream",
          "name": "stdout",
          "text": [
            "Requirement already satisfied: kaggle in /usr/local/lib/python3.11/dist-packages (1.7.4.2)\n",
            "Requirement already satisfied: bleach in /usr/local/lib/python3.11/dist-packages (from kaggle) (6.2.0)\n",
            "Requirement already satisfied: certifi>=14.05.14 in /usr/local/lib/python3.11/dist-packages (from kaggle) (2025.1.31)\n",
            "Requirement already satisfied: charset-normalizer in /usr/local/lib/python3.11/dist-packages (from kaggle) (3.4.1)\n",
            "Requirement already satisfied: idna in /usr/local/lib/python3.11/dist-packages (from kaggle) (3.10)\n",
            "Requirement already satisfied: protobuf in /usr/local/lib/python3.11/dist-packages (from kaggle) (5.29.4)\n",
            "Requirement already satisfied: python-dateutil>=2.5.3 in /usr/local/lib/python3.11/dist-packages (from kaggle) (2.8.2)\n",
            "Requirement already satisfied: python-slugify in /usr/local/lib/python3.11/dist-packages (from kaggle) (8.0.4)\n",
            "Requirement already satisfied: requests in /usr/local/lib/python3.11/dist-packages (from kaggle) (2.32.3)\n",
            "Requirement already satisfied: setuptools>=21.0.0 in /usr/local/lib/python3.11/dist-packages (from kaggle) (75.2.0)\n",
            "Requirement already satisfied: six>=1.10 in /usr/local/lib/python3.11/dist-packages (from kaggle) (1.17.0)\n",
            "Requirement already satisfied: text-unidecode in /usr/local/lib/python3.11/dist-packages (from kaggle) (1.3)\n",
            "Requirement already satisfied: tqdm in /usr/local/lib/python3.11/dist-packages (from kaggle) (4.67.1)\n",
            "Requirement already satisfied: urllib3>=1.15.1 in /usr/local/lib/python3.11/dist-packages (from kaggle) (2.3.0)\n",
            "Requirement already satisfied: webencodings in /usr/local/lib/python3.11/dist-packages (from kaggle) (0.5.1)\n",
            "Warning: Your Kaggle API key is readable by other users on this system! To fix this, you can run 'chmod 600 /root/.config/kaggle/kaggle.json'\n"
          ]
        }
      ]
    },
    {
      "cell_type": "code",
      "execution_count": null,
      "metadata": {
        "colab": {
          "base_uri": "https://localhost:8080/"
        },
        "id": "yhnNRF_l1qlL",
        "outputId": "c939b0b5-5e43-43e7-b527-6d1a6afba0e7"
      },
      "outputs": [
        {
          "output_type": "execute_result",
          "data": {
            "text/plain": [
              "4232"
            ]
          },
          "metadata": {},
          "execution_count": 16
        }
      ],
      "source": [
        "testset_dir = os.path.join(\"./testset/\", \"testset\")\n",
        "test_samples = glob.glob(os.path.join(testset_dir, \"*.npy\"))\n",
        "len(test_samples)"
      ]
    },
    {
      "cell_type": "markdown",
      "metadata": {
        "id": "S4Fa6Ed71qlM"
      },
      "source": [
        "Now let's visualize a sample as we did for Eurosat"
      ]
    },
    {
      "cell_type": "code",
      "execution_count": null,
      "metadata": {
        "id": "m89IZUYd1qlM"
      },
      "outputs": [],
      "source": [
        "test_idx = 0"
      ]
    },
    {
      "cell_type": "code",
      "execution_count": null,
      "metadata": {
        "colab": {
          "base_uri": "https://localhost:8080/"
        },
        "id": "qkPK1WsP1qlN",
        "outputId": "69c63913-3727-4923-9483-47f94bbf53e0"
      },
      "outputs": [
        {
          "output_type": "execute_result",
          "data": {
            "text/plain": [
              "(64, 64, 12)"
            ]
          },
          "metadata": {},
          "execution_count": 18
        }
      ],
      "source": [
        "test_img = np.load(test_samples[test_idx])\n",
        "test_img.shape"
      ]
    },
    {
      "cell_type": "markdown",
      "metadata": {
        "id": "8veDLqYM1qlO"
      },
      "source": [
        "Then normalize the data and extract RGB channels"
      ]
    },
    {
      "cell_type": "code",
      "execution_count": null,
      "metadata": {
        "id": "vnVkpjZr1qlO"
      },
      "outputs": [],
      "source": [
        "normalized_img = normalize_for_display(test_img)"
      ]
    },
    {
      "cell_type": "code",
      "execution_count": null,
      "metadata": {
        "id": "m4r-jrEn1qlO"
      },
      "outputs": [],
      "source": [
        "rgb_img = normalized_img[:, :, [3,2,1]]"
      ]
    },
    {
      "cell_type": "code",
      "execution_count": null,
      "metadata": {
        "colab": {
          "base_uri": "https://localhost:8080/",
          "height": 545
        },
        "id": "7142JHce1qlP",
        "outputId": "83806ff8-fb2e-4699-8669-548257a4b867"
      },
      "outputs": [
        {
          "output_type": "stream",
          "name": "stderr",
          "text": [
            "WARNING:matplotlib.image:Clipping input data to the valid range for imshow with RGB data ([0..1] for floats or [0..255] for integers). Got range [-0.12320743284185015..2.083726192721102].\n"
          ]
        },
        {
          "output_type": "display_data",
          "data": {
            "text/plain": [
              "<Figure size 500x500 with 1 Axes>"
            ],
            "image/png": "[encoded data removed]"
          },
          "metadata": {}
        }
      ],
      "source": [
        "fig, ax = plt.subplots(1, figsize=(5,5))\n",
        "ax.imshow(rgb_img)\n",
        "ax.set_title(f\"Test sample\")\n",
        "ax.axis(False)\n",
        "plt.tight_layout()\n",
        "\n",
        "plt.show()"
      ]
    },
    {
      "cell_type": "markdown",
      "metadata": {
        "id": "-oBgS7HO1qlQ"
      },
      "source": [
        "### Bonus: Band arithmetic\n",
        "The normalized difference vegetation index, or NDVI, is one of the most useful indices that can be derived from multi-spectral remote sensing data and indicates the presence of live green vegeation in an area.\n",
        "\n",
        "> The pigment in plant leaves, chlorophyll, strongly absorbs visible light (from 400 to 700 nm) for use in photosynthesis. The cell structure of the leaves, on the other hand, strongly reflects near-infrared light (from 700 to 1100 nm).\n",
        "\n",
        "From [Wikipedia](https://en.wikipedia.org/wiki/Normalized_difference_vegetation_index)\n",
        "\n",
        "The NDVI exploits this difference in reflective properties of plants. It is computed as the ratio of the difference with the sum of near-infrared and red color bands. For the Sentinel2 data, this corresponds to the following:\n",
        "\n",
        "`NDVI = (B8-B4)/(B8+B4)`"
      ]
    },
    {
      "cell_type": "code",
      "execution_count": null,
      "metadata": {
        "id": "i5yI62vC1qlS"
      },
      "outputs": [],
      "source": [
        "sample = samples[10]\n",
        "label = sample.split('/')[-1].split('_')[0]\n",
        "\n",
        "with rio.open(sample, \"r\") as d:\n",
        "    img = d.read([1,2,3,4,5,6,7,8,9,10,11,12,13])\n",
        "\n",
        "img = reshape_as_image(img)\n",
        "normalized_img = normalize_for_display(img)\n",
        "rgb_img = normalized_img[:, :, [3,2,1]]"
      ]
    },
    {
      "cell_type": "markdown",
      "metadata": {
        "id": "J4A8Koys1qlS"
      },
      "source": [
        "Extract bands 4 and 8 from the data."
      ]
    },
    {
      "cell_type": "code",
      "execution_count": null,
      "metadata": {
        "id": "XJFZbpRN1qlS"
      },
      "outputs": [],
      "source": [
        "b8 = img[:, :, 7]\n",
        "b4 = img[:, :, 3]"
      ]
    },
    {
      "cell_type": "code",
      "execution_count": null,
      "metadata": {
        "colab": {
          "base_uri": "https://localhost:8080/",
          "height": 523
        },
        "id": "sqOTo6KA1qlT",
        "outputId": "092cf8f1-ac69-4382-d043-ecdf0e1d6964"
      },
      "outputs": [
        {
          "output_type": "display_data",
          "data": {
            "text/plain": [
              "<Figure size 1000x500 with 2 Axes>"
            ],
            "image/png": "[encoded data removed]"
          },
          "metadata": {}
        }
      ],
      "source": [
        "fig, axs = plt.subplots(1,2, figsize=(10,5))\n",
        "\n",
        "axs[0].imshow(b4, cmap=\"gray\")\n",
        "axs[0].set_title(\"B4\")\n",
        "axs[0].axis(False)\n",
        "\n",
        "axs[1].imshow(b8, cmap=\"gray\")\n",
        "axs[1].set_title(\"B8\")\n",
        "axs[1].axis(False)\n",
        "\n",
        "plt.tight_layout()\n",
        "plt.show()"
      ]
    },
    {
      "cell_type": "markdown",
      "metadata": {
        "id": "6411Labv1qlT"
      },
      "source": [
        "Compute the NDVI:"
      ]
    },
    {
      "cell_type": "code",
      "execution_count": null,
      "metadata": {
        "id": "D2NE3ovH1qlU"
      },
      "outputs": [],
      "source": [
        "ndvi = (b8-b4) / (b8+b4)"
      ]
    },
    {
      "cell_type": "code",
      "execution_count": null,
      "metadata": {
        "colab": {
          "base_uri": "https://localhost:8080/",
          "height": 524
        },
        "id": "Ek5x7QIh1qlU",
        "outputId": "b632fbbc-843e-4261-9902-8c13006bae48"
      },
      "outputs": [
        {
          "output_type": "stream",
          "name": "stderr",
          "text": [
            "WARNING:matplotlib.image:Clipping input data to the valid range for imshow with RGB data ([0..1] for floats or [0..255] for integers). Got range [-0.07871761843423508..2.4216401889222863].\n"
          ]
        },
        {
          "output_type": "display_data",
          "data": {
            "text/plain": [
              "<Figure size 1500x500 with 3 Axes>"
            ],
            "image/png": "[encoded data removed]"
          },
          "metadata": {}
        }
      ],
      "source": [
        "fig, (ax1, ax2, ax3) = plt.subplots(1, 3, figsize=(15,5))\n",
        "\n",
        "ax1.imshow(rgb_img)\n",
        "ax1.set_title(f\"{label}\")\n",
        "ax1.axis(False)\n",
        "\n",
        "ax2.imshow(ndvi)\n",
        "ax2.set_title(f\"NDVI\")\n",
        "ax2.axis(False)\n",
        "\n",
        "ax3.imshow(ndvi > .5)\n",
        "ax3.set_title(f\"NDVI > 0.5\")\n",
        "ax3.axis(False)\n",
        "\n",
        "plt.tight_layout()\n",
        "plt.show()"
      ]
    },
    {
      "cell_type": "markdown",
      "metadata": {
        "id": "3oyIG1Ge1qlV"
      },
      "source": [
        "We can easily threshold NDVI values to obtain a segmentation mask of the vegetation in the image."
      ]
    },
    {
      "cell_type": "markdown",
      "metadata": {
        "id": "MdvD957k1qlW"
      },
      "source": [
        "Let's also look at the bands individually."
      ]
    },
    {
      "cell_type": "code",
      "execution_count": null,
      "metadata": {
        "colab": {
          "base_uri": "https://localhost:8080/",
          "height": 1000
        },
        "id": "6Sy2lAom1qlW",
        "outputId": "49751d75-06a7-45e4-ed82-861c61352d2a"
      },
      "outputs": [
        {
          "output_type": "display_data",
          "data": {
            "text/plain": [
              "<Figure size 1500x1500 with 16 Axes>"
            ],
            "image/png": "[encoded data removed]"
          },
          "metadata": {}
        }
      ],
      "source": [
        "fig, axs = plt.subplots(4,4, figsize=(15,15))\n",
        "\n",
        "band_idx = 0\n",
        "bands = [\"B1\",\"B2\",\"B3\",\"B4\",\"B5\",\"B6\",\"B7\",\"B8\",\"B8A\",\"B9\",\"B10\",\"B11\",\"B12\"]\n",
        "\n",
        "for i in range(4):\n",
        "    for j in range(4):\n",
        "        if band_idx < 13:\n",
        "            axs[i,j].imshow(normalized_img[:, :, band_idx], cmap=\"gray\")\n",
        "            axs[i,j].set_title(bands[band_idx])\n",
        "        else:\n",
        "            axs[i,j].imshow(np.ones((64,64,3)), cmap=\"gray\")\n",
        "\n",
        "        axs[i,j].axis(False)\n",
        "        band_idx += 1\n",
        "\n",
        "plt.tight_layout()\n",
        "plt.show()"
      ]
    },
    {
      "cell_type": "markdown",
      "metadata": {
        "id": "pK__TB6H1qlX"
      },
      "source": [
        "## Next steps\n",
        "\n",
        "Create a (deep learning) model to predict the most likely Eurosat class for each image of the testset. Think about creating the dataset class and data-loader for training, possible model architectures, and perhaps even how to best address the shift between train and test data."
      ]
    },
    {
      "cell_type": "code",
      "source": [
        "import torch\n",
        "import torch.nn as nn\n",
        "import torch.optim as optim\n",
        "from torch.utils.data import Dataset, DataLoader, random_split, Subset\n",
        "from torchvision import models, transforms\n",
        "import rasterio\n",
        "import numpy as np\n",
        "import torch.nn.functional as F\n",
        "import pandas as pd\n",
        "import os\n",
        "os.environ['PYTORCH_CUDA_ALLOC_CONF'] = 'expandable_segments:True'\n",
        "import random\n",
        "import time\n",
        "from torch.cuda.amp import GradScaler, autocast\n",
        "from torchvision.models import ResNet50_Weights, ConvNeXt_Base_Weights\n",
        "from sklearn.model_selection import train_test_split\n",
        "import traceback\n",
        "\n",
        "from pathlib import Path\n",
        "from tqdm import tqdm\n",
        "from typing import Tuple, List, Dict, Any, Optional, Callable\n",
        "\n",
        "\n"
      ],
      "metadata": {
        "id": "XrYBbC9hq7YX"
      },
      "execution_count": null,
      "outputs": []
    },
    {
      "cell_type": "code",
      "source": [
        "from kaggle.api.kaggle_api_extended import KaggleApi"
      ],
      "metadata": {
        "colab": {
          "base_uri": "https://localhost:8080/"
        },
        "id": "9tPOzYW0Sxzu",
        "outputId": "8d2968b6-1324-4a06-e8da-0ab08cfa59c6"
      },
      "execution_count": null,
      "outputs": [
        {
          "output_type": "stream",
          "name": "stdout",
          "text": [
            "Warning: Your Kaggle API key is readable by other users on this system! To fix this, you can run 'chmod 600 /root/.config/kaggle/kaggle.json'\n"
          ]
        }
      ]
    },
    {
      "cell_type": "markdown",
      "source": [
        "# with eval\n",
        "✅ CBAM Attention for better feature refinement.\n",
        "✅ CycleGAN for style transfer between remote sensing image domains.\n",
        "✅ Progressive Learning by gradually increasing image resolution during training.\n",
        "\n",
        "\n",
        "CycleGAN for Style Transfer:\n",
        "\n",
        "    Implement a Generator (ResNet-based U-Net) and Discriminator (PatchGAN).\n",
        "\n",
        "    Use cycle consistency loss to enforce meaningful translations.\n",
        "\n",
        "    Train it on satellite images to generate images in a different domain (e.g., cloud-free to cloud-covered).\n",
        "\n",
        "CBAM Attention Mechanism:\n",
        "\n",
        "    Add Channel & Spatial Attention to enhance feature maps in your classifier.\n",
        "\n",
        "    Improve feature learning for your Sentinel-2 classification model.\n",
        "\n",
        "Progressive Learning:\n",
        "\n",
        "    Train the model gradually by increasing image resolution and model complexity.\n",
        "\n",
        "    Start training with smaller images and fewer layers, then progressively increase resolution and depth.\n",
        "\n",
        "\n",
        "1️⃣ CycleGAN: Designed for Image Translation, Not Deep Feature Extraction\n",
        "\n",
        "    CycleGAN’s generators use fewer layers (e.g., ResNet blocks) because they transform images rather than classify them.\n",
        "\n",
        "    Too many layers could lead to blurring or loss of fine details during translation.\n",
        "\n",
        "    Discriminators in CycleGAN use PatchGAN, which focuses on local patches instead of full-image classification.\n",
        "\n",
        "🔹 Your CNN: Needs deep feature extraction (many layers).\n",
        "🔹 CycleGAN: Focuses on learning mappings between image styles, requiring fewer layers.\n",
        "2️⃣ CBAM: Lightweight Attention Mechanism\n",
        "\n",
        "    CBAM (Convolutional Block Attention Module) is an efficiency-focused module.\n",
        "\n",
        "    It selectively enhances important features without drastically increasing computational cost.\n",
        "\n",
        "    It uses global pooling and small convolutions (1x1, 7x7 filters) instead of deep stacks of layers.\n",
        "\n",
        "🔹 Your CNN: Uses deep feature extraction.\n",
        "🔹 CBAM: Just adds attention to existing feature maps, not an entire deep network.\n",
        "3️⃣ Your CNN is a Full Classifier, CycleGAN is for Image-to-Image Translation\n",
        "\n",
        "    Your CNN classifier must extract complex features from Sentinel-2 images to classify land cover types (e.g., forests, water, urban areas).\n",
        "\n",
        "    CycleGAN only needs to learn how to convert images from one domain to another (e.g., cloudy to cloud-free satellite images), requiring fewer layers.\n",
        "\n"
      ],
      "metadata": {
        "id": "Agi42awH9ZGw"
      }
    },
    {
      "cell_type": "code",
      "source": [
        "\n",
        "import warnings\n",
        "# --- Suppress all warnings ---\n",
        "warnings.filterwarnings(\"ignore\")\n",
        "##################################\n",
        "# --- CBAM Attention Mechanism ---\n",
        "class CBAM(nn.Module):\n",
        "    def __init__(self, channels, reduction=16):\n",
        "        super(CBAM, self).__init__()\n",
        "        # Channel Attention\n",
        "        self.avg_pool = nn.AdaptiveAvgPool2d(1)\n",
        "        self.max_pool = nn.AdaptiveMaxPool2d(1)\n",
        "        self.fc = nn.Sequential(\n",
        "            nn.Conv2d(channels, channels // reduction, 1, bias=False),\n",
        "            nn.ReLU(),\n",
        "            nn.Conv2d(channels // reduction, channels, 1, bias=False),\n",
        "        )\n",
        "        self.sigmoid = nn.Sigmoid()\n",
        "\n",
        "        # Spatial Attention\n",
        "        self.conv_spatial = nn.Conv2d(2, 1, kernel_size=7, padding=3, bias=False)\n",
        "\n",
        "    def forward(self, x):\n",
        "        # Channel Attention\n",
        "        avg_out = self.fc(self.avg_pool(x))\n",
        "        max_out = self.fc(self.max_pool(x))\n",
        "        channel_out = self.sigmoid(avg_out + max_out)\n",
        "        x = x * channel_out\n",
        "\n",
        "        # Spatial Attention\n",
        "        avg_out = torch.mean(x, dim=1, keepdim=True)\n",
        "        max_out, _ = torch.max(x, dim=1, keepdim=True)\n",
        "        spatial_out = self.sigmoid(self.conv_spatial(torch.cat([avg_out, max_out], dim=1)))\n",
        "        x = x * spatial_out\n",
        "        return x\n",
        "\n",
        "# --- CycleGAN Generator ---\n",
        "class ResNetBlock(nn.Module):\n",
        "    def __init__(self, channels):\n",
        "        super(ResNetBlock, self).__init__()\n",
        "        self.block = nn.Sequential(\n",
        "            nn.Conv2d(channels, channels, kernel_size=3, padding=1, bias=False),\n",
        "            nn.BatchNorm2d(channels),\n",
        "            nn.ReLU(),\n",
        "            nn.Conv2d(channels, channels, kernel_size=3, padding=1, bias=False),\n",
        "            nn.BatchNorm2d(channels)\n",
        "        )\n",
        "\n",
        "    def forward(self, x):\n",
        "        return x + self.block(x)\n",
        "\n",
        "class Generator(nn.Module):\n",
        "    def __init__(self, in_channels=3, out_channels=3, num_res_blocks=6):\n",
        "        super(Generator, self).__init__()\n",
        "        self.initial = nn.Sequential(\n",
        "            nn.Conv2d(in_channels, 64, kernel_size=7, padding=3, bias=False),\n",
        "            nn.BatchNorm2d(64),\n",
        "            nn.ReLU()\n",
        "        )\n",
        "\n",
        "        self.res_blocks = nn.Sequential(*[ResNetBlock(64) for _ in range(num_res_blocks)])\n",
        "        self.final = nn.Sequential(\n",
        "            nn.Conv2d(64, out_channels, kernel_size=7, padding=3, bias=False),\n",
        "            nn.Tanh()\n",
        "        )\n",
        "\n",
        "    def forward(self, x):\n",
        "        x = self.initial(x)\n",
        "        x = self.res_blocks(x)\n",
        "        return self.final(x)\n",
        "\n",
        "# --- CycleGAN Discriminator ---\n",
        "class Discriminator(nn.Module):\n",
        "    def __init__(self, in_channels=3):\n",
        "        super(Discriminator, self).__init__()\n",
        "        self.model = nn.Sequential(\n",
        "            nn.Conv2d(in_channels, 64, kernel_size=4, stride=2, padding=1),\n",
        "            nn.LeakyReLU(0.2),\n",
        "            nn.Conv2d(64, 128, kernel_size=4, stride=2, padding=1),\n",
        "            nn.BatchNorm2d(128),\n",
        "            nn.LeakyReLU(0.2),\n",
        "            nn.Conv2d(128, 256, kernel_size=4, stride=2, padding=1),\n",
        "            nn.BatchNorm2d(256),\n",
        "            nn.LeakyReLU(0.2),\n",
        "            nn.Conv2d(256, 1, kernel_size=4, padding=1)\n",
        "        )\n",
        "\n",
        "    def forward(self, x):\n",
        "        return torch.sigmoid(self.model(x))\n",
        "\n",
        "# --- Progressive Learning: Dynamic Resizing ---\n",
        "def progressive_resize(epoch, model, optimizer, initial_size=64, max_size=256):\n",
        "    \"\"\" Gradually increases image size during training. \"\"\"\n",
        "    new_size = min(initial_size + (epoch * 16), max_size)\n",
        "    global transform_train\n",
        "    transform_train = transforms.Compose([\n",
        "        transforms.Resize((new_size, new_size)),\n",
        "        transforms.ToTensor()\n",
        "    ])\n",
        "    print(f\"[Progressive Learning] Image size increased to: {new_size}x{new_size}\")\n",
        "\n",
        "# --- Initialize Models ---\n",
        "generator_XY = Generator()\n",
        "generator_YX = Generator()\n",
        "discriminator_X = Discriminator()\n",
        "discriminator_Y = Discriminator()\n",
        "\n",
        "# --- Losses & Optimizers ---\n",
        "cycle_loss_fn = nn.L1Loss()\n",
        "gan_loss_fn = nn.BCEWithLogitsLoss()\n",
        "optimizer_G = torch.optim.Adam(list(generator_XY.parameters()) + list(generator_YX.parameters()), lr=2e-4, betas=(0.5, 0.999))\n",
        "optimizer_D = torch.optim.Adam(list(discriminator_X.parameters()) + list(discriminator_Y.parameters()), lr=2e-4, betas=(0.5, 0.999))\n",
        "\n",
        "# --- Training Loop (Simplified) ---\n",
        "for epoch in range(100):  # Example: 100 epochs\n",
        "    progressive_resize(epoch, generator_XY, optimizer_G)\n",
        "    for batch in DataLoader(train_dataset, batch_size=8, shuffle=True):\n",
        "        real_X, real_Y = batch  # Assuming dataset loads paired images\n",
        "\n",
        "        fake_Y = generator_XY(real_X)\n",
        "        fake_X = generator_YX(real_Y)\n",
        "\n",
        "        cycle_X = generator_YX(fake_Y)\n",
        "        cycle_Y = generator_XY(fake_X)\n",
        "\n",
        "        loss_cycle = cycle_loss_fn(cycle_X, real_X) + cycle_loss_fn(cycle_Y, real_Y)\n",
        "        loss_gan = gan_loss_fn(discriminator_Y(fake_Y), torch.ones_like(fake_Y)) + \\\n",
        "                   gan_loss_fn(discriminator_X(fake_X), torch.ones_like(fake_X))\n",
        "\n",
        "        loss_G = loss_gan + 10 * loss_cycle  # Weighted cycle consistency loss\n",
        "        optimizer_G.zero_grad()\n",
        "        loss_G.backward()\n",
        "        optimizer_G.step()\n",
        "\n",
        "        print(f\"Epoch {epoch}, Loss_G: {loss_G.item():.4f}, Loss_Cycle: {loss_cycle.item():.4f}\")\n",
        "\n",
        "##################################\n",
        "# --- Configuration ---\n",
        "CONFIG = {\n",
        "    \"model\": {\n",
        "        \"load_path\": Path('./convnext_2stage_imgnorm.pth'),  # Path for saving/loading model\n",
        "        \"num_classes\": None,  # Determined dynamically\n",
        "        \"class_names\": None,  # Determined dynamically\n",
        "    },\n",
        "    \"data\": {\n",
        "        \"train_dir\": Path('./ds/images/remote_sensing/otherDatasets/sentinel_2/tif'),\n",
        "        \"validation_dir\": Path('./testset/testset'),\n",
        "        \"image_size\": 128,\n",
        "        \"batch_size\": 32,\n",
        "        \"num_workers\": 4,\n",
        "        \"train_ratio\": 0.9,\n",
        "    },\n",
        "    \"train\": {\n",
        "        \"seed\": 1337,\n",
        "        \"lr_stage1\": 1e-3,\n",
        "        \"lr_stage2\": 1e-3,\n",
        "        \"stage1_epochs\": 30,\n",
        "        \"stage2_epochs\": 30,\n",
        "        \"warmup_epochs\": 3,\n",
        "        \"initial_warmup_lr\": 1e-6,\n",
        "        \"weight_decay\": 3.7553e-05,\n",
        "        \"optimizer_name\": 'AdamW',\n",
        "        \"patience\": 10,\n",
        "        \"gradient_accumulation_steps\": 2\n",
        "    },\n",
        "    \"device\": \"cuda\" if torch.cuda.is_available() else \"cpu\",\n",
        "    \"amp_enabled\": True,\n",
        "    \"prediction\": {\n",
        "        \"predictions_csv_path\": Path('./outputs/track_1.csv'),\n",
        "        \"kaggle_competition\": 'aicrowd-geospatial-challenge',\n",
        "        \"kaggle_message\": 'Evaluation Script Submission',\n",
        "        \"submit_to_kaggle\": True,\n",
        "    }\n",
        "}\n",
        "\n",
        "# --- Device Setup ---\n",
        "USE_CUDA = torch.cuda.is_available()\n",
        "DEVICE = torch.device(\"cuda\" if USE_CUDA else \"cpu\")\n",
        "print(f\"Using device: {DEVICE}\")\n",
        "\n",
        "# --- Seed Setting ---\n",
        "def set_seed(seed: int):\n",
        "    random.seed(seed)\n",
        "    np.random.seed(seed)\n",
        "    torch.manual_seed(seed)\n",
        "    if torch.cuda.is_available():\n",
        "        torch.cuda.manual_seed(seed)\n",
        "        torch.cuda.manual_seed_all(seed)\n",
        "    torch.backends.cudnn.deterministic = True\n",
        "    torch.backends.cudnn.benchmark = False\n",
        "\n",
        "set_seed(CONFIG[\"train\"][\"seed\"])\n",
        "\n",
        "# --- Data Loading and Preprocessing ---\n",
        "def load_sentinel2_image(filepath: str) -> np.ndarray:\n",
        "    \"\"\"Loads a Sentinel-2 image (TIF or NPY), returns NumPy CHW (12 bands).\"\"\"\n",
        "    if filepath.endswith('.tif'):\n",
        "        with rasterio.open(filepath) as src:\n",
        "            if src.count < 13:\n",
        "                raise ValueError(f\"Expected >=13 bands, got {src.count} in {filepath}\")\n",
        "            bands = list(range(1, 10)) + list(range(11, 14))  # Exclude B10\n",
        "            image = src.read(bands)  # Shape: (12, H, W)\n",
        "\n",
        "    elif filepath.endswith('.npy'):\n",
        "        image = np.load(filepath)  # Load .npy as is, without modification\n",
        "\n",
        "        if image.shape[0] != 13 and image.shape[0] != 12:\n",
        "            raise ValueError(f\"Unexpected shape for .npy {filepath}: {image.shape}\")\n",
        "\n",
        "    else:\n",
        "        raise ValueError(f\"Unsupported file type: {filepath}\")\n",
        "\n",
        "    return image.astype(np.float32)\n",
        "\n",
        "# --- Per-Image Normalization Function ---\n",
        "def normalize_image_per_image(image_np: np.ndarray) -> np.ndarray:\n",
        "    \"\"\"Normalizes 12-channel NumPy image (C, H, W) using its own stats.\"\"\"\n",
        "    if image_np.ndim != 3 or image_np.shape[0] != 12:\n",
        "        raise ValueError(f\"Invalid shape for per-image normalization: {image_np.shape}. Expected (12, H, W).\")\n",
        "\n",
        "    mean = np.mean(image_np, axis=(1, 2), keepdims=True)  # Per-channel mean\n",
        "    std = np.std(image_np, axis=(1, 2), keepdims=True)  # Per-channel std\n",
        "\n",
        "    return (image_np - mean) / (std + 1e-7)  # Normalize & avoid division by zero\n",
        "\n",
        "# --- Dataset Class (Using Per-Image Normalization) ---\n",
        "class Sentinel2Dataset(Dataset):\n",
        "    \"\"\"Custom Dataset for Sentinel-2 images. Returns Tensor CHW (12 channels).\"\"\"\n",
        "    def __init__(self, paths_labels, transform=None):\n",
        "        self.paths_labels = paths_labels\n",
        "        self.transform = transform\n",
        "\n",
        "    def __len__(self):\n",
        "        return len(self.paths_labels)\n",
        "\n",
        "    def __getitem__(self, idx):\n",
        "        image_path, label = self.paths_labels[idx]\n",
        "        try:\n",
        "            image_np = load_sentinel2_image(image_path) # NumPy (C, H, W)\n",
        "            image_np = normalize_image_per_image(image_np) # Apply per-image normalization HERE\n",
        "\n",
        "            image_tensor = torch.from_numpy(image_np.copy()).float() # Convert to tensor AFTER normalization\n",
        "            label_tensor = torch.tensor(label, dtype=torch.long)\n",
        "\n",
        "            if self.transform:\n",
        "                image_tensor = self.transform(image_tensor) # Apply remaining transforms\n",
        "\n",
        "            return image_tensor, label_tensor, image_path\n",
        "\n",
        "        except Exception as e:\n",
        "            print(f\"Error loading/processing image {image_path}:\")\n",
        "            traceback.print_exc()\n",
        "            return None, None, None # Signal error\n",
        "\n",
        "# Prediction dataset also uses per-image normalization\n",
        "class NpyPredictionDataset(Dataset):\n",
        "    def __init__(self, root_dir, transform=None):\n",
        "        self.root_dir = root_dir\n",
        "        self.transform = transform\n",
        "        self.file_paths = sorted([os.path.join(root_dir, f) for f in os.listdir(root_dir) if f.endswith('.npy')])\n",
        "        if not self.file_paths: raise FileNotFoundError(f\"No .npy files in {root_dir}\")\n",
        "        print(f\"Found {len(self.file_paths)} .npy files for prediction.\")\n",
        "\n",
        "    def __len__(self):\n",
        "        return len(self.file_paths)\n",
        "\n",
        "    def __getitem__(self, idx):\n",
        "        image_path = self.file_paths[idx]\n",
        "        try:\n",
        "            image_np = load_sentinel2_image(image_path) # NumPy (C, H, W)\n",
        "            image_np = normalize_image_per_image(image_np) # Apply per-image normalization HERE\n",
        "            image_tensor = torch.from_numpy(image_np.copy()).float() # Convert to tensor\n",
        "\n",
        "            if self.transform:\n",
        "                image_tensor = self.transform(image_tensor) # Apply remaining transforms\n",
        "\n",
        "            return image_tensor, 0, image_path # Dummy label 0\n",
        "\n",
        "        except Exception as e:\n",
        "            print(f\"Error loading/processing image {image_path}:\")\n",
        "            traceback.print_exc()\n",
        "            return None, None, None\n",
        "\n",
        "# --- Data Transforms  ---\n",
        "class AddGaussianNoise(object):\n",
        "    def __init__(self, mean=0., std=0.1):\n",
        "        self.std = std\n",
        "        self.mean = mean\n",
        "\n",
        "    def __call__(self, tensor):\n",
        "        return tensor + torch.randn(tensor.size()) * self.std + self.mean\n",
        "\n",
        "    def __repr__(self):\n",
        "        return self.__class__.__name__ + '(mean={0}, std={1})'.format(self.mean, self.std)\n",
        "\n",
        "class RandomChannelScale(object):\n",
        "    def __init__(self, scale_range=(0.9, 1.1)):\n",
        "        self.scale_range = scale_range\n",
        "\n",
        "    def __call__(self, tensor):\n",
        "        scale_factors = torch.rand(tensor.shape[0]) * (self.scale_range[1] - self.scale_range[0]) + self.scale_range[0]\n",
        "        return tensor * scale_factors.view(tensor.shape[0], 1, 1)\n",
        "\n",
        "    def __repr__(self):\n",
        "        return self.__class__.__name__ + '(scale_range={0})'.format(self.scale_range)\n",
        "\n",
        "train_transforms = transforms.Compose([\n",
        "    transforms.RandomHorizontalFlip(),\n",
        "    transforms.RandomVerticalFlip(),\n",
        "    transforms.RandomRotation(degrees=20),\n",
        "    transforms.RandomAffine(degrees=20, translate=(0.1, 0.1), scale=(0.9, 1.1)),  # Small affine transformations\n",
        "    #transforms.ColorJitter(brightness=0.2, contrast=0.2),  # Slight brightness & contrast changes\n",
        "    AddGaussianNoise(mean=0., std=0.05),  # Add Gaussian noise\n",
        "    RandomChannelScale(scale_range=(0.9, 1.1)),  # Channel-wise scaling\n",
        "    transforms.Resize((CONFIG[\"data\"][\"image_size\"], CONFIG[\"data\"][\"image_size\"]), antialias=True),\n",
        "])\n",
        "\n",
        "val_transforms = transforms.Compose([\n",
        "    # Input is already a normalized 12-channel Tensor from __getitem__\n",
        "    transforms.Resize((CONFIG[\"data\"][\"image_size\"], CONFIG[\"data\"][\"image_size\"]), antialias=True), # Resize\n",
        "    # NO Normalize step here\n",
        "])\n",
        "\n",
        "# --- Create Datasets ---\n",
        "print(\"Creating and splitting dataset...\")\n",
        "full_dataset_paths_labels = []\n",
        "class_to_idx_map = {}\n",
        "class_names = []\n",
        "idx_counter = 0\n",
        "# Scan training directory\n",
        "for class_name in sorted(os.listdir(CONFIG[\"data\"][\"train_dir\"])):\n",
        "     class_dir = os.path.join(CONFIG[\"data\"][\"train_dir\"], class_name)\n",
        "     if os.path.isdir(class_dir) and not class_name.startswith('.'):\n",
        "         if class_name not in class_to_idx_map:\n",
        "             class_to_idx_map[class_name] = idx_counter\n",
        "             class_names.append(class_name)\n",
        "             idx_counter += 1\n",
        "         class_idx = class_to_idx_map[class_name]\n",
        "         for filename in os.listdir(class_dir):\n",
        "             if filename.lower().endswith(('.tif', '.tiff')):\n",
        "                 full_dataset_paths_labels.append((os.path.join(class_dir, filename), class_idx))\n",
        "\n",
        "num_classes = len(class_names)\n",
        "if num_classes == 0: raise FileNotFoundError(f\"No valid class folders found in {CONFIG['data']['train_dir']}\")\n",
        "print(f\"Found {len(full_dataset_paths_labels)} training images in {num_classes} classes: {class_names}\")\n",
        "\n",
        "# Stratified Split\n",
        "train_info, val_info = train_test_split(\n",
        "    full_dataset_paths_labels, train_size=CONFIG[\"data\"][\"train_ratio\"], random_state=CONFIG[\"train\"][\"seed\"],\n",
        "    stratify=[label for _, label in full_dataset_paths_labels]\n",
        ")\n",
        "\n",
        "# Create Dataset objects using the split lists\n",
        "train_dataset = Sentinel2Dataset(train_info, transform=train_transforms)\n",
        "val_tif_dataset = Sentinel2Dataset(val_info, transform=val_transforms)\n",
        "final_validation_dataset = NpyPredictionDataset(str(CONFIG[\"data\"][\"validation_dir\"]), transform=val_transforms) # Prediction set\n",
        "\n",
        "# --- Create DataLoaders ---\n",
        "def collate_fn(batch):\n",
        "    \"\"\" Filter out None samples before creating batch \"\"\"\n",
        "    batch = list(filter(lambda x: x is not None and x[0] is not None, batch))\n",
        "    if not batch: return None, None, None\n",
        "    try:\n",
        "        images = torch.stack([item[0] for item in batch])\n",
        "        labels = torch.stack([item[1] for item in batch])\n",
        "        paths = [item[2] for item in batch]\n",
        "        return images, labels, paths\n",
        "    except Exception as e:\n",
        "        print(f\"Error in collate_fn: {e}. Skipping batch.\")\n",
        "        # traceback.print_exc() # Can be verbose\n",
        "        return None, None, None\n",
        "\n",
        "train_loader = DataLoader(train_dataset, batch_size=CONFIG[\"data\"][\"batch_size\"], shuffle=True, num_workers=CONFIG[\"data\"][\"num_workers\"], generator=torch.Generator().manual_seed(CONFIG[\"train\"][\"seed\"]), pin_memory=True, collate_fn=collate_fn)\n",
        "val_loader_split = DataLoader(val_tif_dataset, batch_size=CONFIG[\"data\"][\"batch_size\"], pin_memory=True, shuffle=False, num_workers=CONFIG[\"data\"][\"num_workers\"], collate_fn=collate_fn)\n",
        "final_pred_loader = DataLoader(final_validation_dataset, batch_size=CONFIG[\"data\"][\"batch_size\"], shuffle=False, num_workers=CONFIG[\"data\"][\"num_workers\"], pin_memory=True, collate_fn=collate_fn)\n",
        "print(\"DataLoaders created.\")\n",
        "\n",
        "# --- Define the Model ---\n",
        "# Mish Activation Function\n",
        "class Mish(nn.Module):\n",
        "    def forward(self, x):\n",
        "        return x * torch.tanh(F.softplus(x))\n",
        "\n",
        "# Squeeze-and-Excitation Block (Attention Mechanism)\n",
        "class SEBlock(nn.Module):\n",
        "    def __init__(self, channels, reduction=16):\n",
        "        super().__init__()\n",
        "        self.squeeze = nn.AdaptiveAvgPool2d(1)  # Global Average Pooling\n",
        "        self.fc = nn.Sequential(\n",
        "            nn.Conv2d(channels, channels // reduction, kernel_size=1, bias=False),\n",
        "            Mish(),\n",
        "            nn.Conv2d(channels // reduction, channels, kernel_size=1, bias=False),\n",
        "            nn.Sigmoid()\n",
        "        )\n",
        "\n",
        "    def forward(self, x):\n",
        "        return x * self.fc(self.squeeze(x))\n",
        "\n",
        "# Improved Sentinel-2 Classifier\n",
        "class Sentinel2Classifier(nn.Module):\n",
        "    \"\"\" CNN with Residual Connections, Attention, Hybrid Pooling & Mish Activation \"\"\"\n",
        "    def __init__(self, num_classes):\n",
        "        super().__init__()\n",
        "\n",
        "        self.mish = Mish()\n",
        "\n",
        "        # CNN Layers\n",
        "        self.conv1 = nn.Conv2d(12, 64, kernel_size=3, padding=1)\n",
        "        self.bn1 = nn.BatchNorm2d(64)\n",
        "        self.conv2 = nn.Conv2d(64, 128, kernel_size=3, padding=1)\n",
        "        self.bn2 = nn.BatchNorm2d(128)\n",
        "        self.conv3 = nn.Conv2d(128, 256, kernel_size=3, padding=1)\n",
        "        self.bn3 = nn.BatchNorm2d(256)\n",
        "        self.conv4 = nn.Conv2d(256, 512, kernel_size=3, padding=1)\n",
        "        self.bn4 = nn.BatchNorm2d(512)\n",
        "        self.conv5 = nn.Conv2d(512, 1024, kernel_size=3, padding=1)\n",
        "        self.bn5 = nn.BatchNorm2d(1024)\n",
        "\n",
        "        # Attention Blocks\n",
        "        self.se1 = SEBlock(64)\n",
        "        self.se2 = SEBlock(128)\n",
        "        self.se3 = SEBlock(256)\n",
        "        self.se4 = SEBlock(512)\n",
        "        self.se5 = SEBlock(1024)\n",
        "\n",
        "        # Hybrid Pooling (Avg + Max)\n",
        "        self.avg_pool = nn.AdaptiveAvgPool2d(1)\n",
        "        self.max_pool = nn.AdaptiveMaxPool2d(1)\n",
        "\n",
        "        # Fully Connected Layers\n",
        "        self.fc1 = nn.Linear(1024, 512)\n",
        "        self.fc2 = nn.Linear(512, 256)\n",
        "        self.fc3 = nn.Linear(256, num_classes)\n",
        "        self.dropout = nn.Dropout(0.5)\n",
        "\n",
        "        # Residual 1x1 Convolutions\n",
        "        self.res_conv1 = nn.Conv2d(12, 64, kernel_size=1) # First residual layer\n",
        "        self.res_conv2 = nn.Conv2d(64, 128, kernel_size=1)\n",
        "        self.res_conv3 = nn.Conv2d(128, 256, kernel_size=1)\n",
        "        self.res_conv4 = nn.Conv2d(256, 512, kernel_size=1)\n",
        "        self.res_conv5 = nn.Conv2d(512, 1024, kernel_size=1)\n",
        "\n",
        "        self.apply(self._initialize_weights)\n",
        "\n",
        "    def _initialize_weights(self, m):\n",
        "        \"\"\" Xavier Initialization for Conv & Linear Layers \"\"\"\n",
        "        if isinstance(m, (nn.Conv2d, nn.Linear)):\n",
        "            nn.init.xavier_uniform_(m.weight)\n",
        "            if m.bias is not None:\n",
        "                nn.init.zeros_(m.bias)\n",
        "\n",
        "    def _apply_residual(self, x, residual):\n",
        "        \"\"\" Apply residual connection (add 1x1 conv if channels mismatch) \"\"\"\n",
        "        if x.shape[1] != residual.shape[1]:  # If channel sizes differ\n",
        "            residual = nn.Conv2d(residual.shape[1], x.shape[1], kernel_size=1, bias=False).to(x.device)(residual)\n",
        "        return x + residual\n",
        "\n",
        "    def forward(self, x):\n",
        "        # Feature Extraction with Skip Connections & Attention\n",
        "        residual = self.res_conv1(x) # Pass initial input through 1x1 conv to match channels\n",
        "        x = self.mish(self.bn1(self.conv1(x)))\n",
        "        x = self.se1(x) + residual  # Skip connection\n",
        "\n",
        "        residual = self.res_conv2(x) # Adjust residual using 1x1 convolution\n",
        "        x = self.mish(self.bn2(self.conv2(x)))\n",
        "        x = self.se2(x) + residual  # Skip connection\n",
        "\n",
        "        residual = self.res_conv3(x)\n",
        "        x = self.mish(self.bn3(self.conv3(x)))\n",
        "        x = self.se3(x) + residual  # Skip connection\n",
        "\n",
        "        residual = self.res_conv4(x)\n",
        "        x = self.mish(self.bn4(self.conv4(x)))\n",
        "        x = self.se4(x) + residual  # Skip connection\n",
        "\n",
        "        residual = self.res_conv5(x)\n",
        "        x = self.mish(self.bn5(self.conv5(x)))\n",
        "        x = self.se5(x) + residual  # Skip connection\n",
        "\n",
        "        # Hybrid Pooling (Avg + Max)\n",
        "        x = self.avg_pool(x) + self.max_pool(x)\n",
        "        x = torch.flatten(x, 1)\n",
        "\n",
        "        # Fully Connected Layers with Residuals\n",
        "        residual = x\n",
        "        x = self.mish(self.fc1(x))\n",
        "        x = self.dropout(x) + residual  # Skip connection\n",
        "\n",
        "        residual = x\n",
        "        x = self.mish(self.fc2(x))\n",
        "        x = self.dropout(x) + residual  # Skip connection\n",
        "\n",
        "        x = self.fc3(x)  # Final classification layer\n",
        "        return x\n",
        "\n",
        "# --- Helper Function for Training/Validation Epoch ---\n",
        "def run_epoch(model, loader, criterion, optimizer, scaler, device, is_training, epoch_num, num_epochs_total, current_lr, warmup_scheduler=None, current_stage_epoch=0, total_warmup_epochs=0):\n",
        "    \"\"\"Runs a single epoch of training or validation.\"\"\"\n",
        "    if is_training: model.train()\n",
        "    else: model.eval()\n",
        "    running_loss = 0.0\n",
        "    correct_predictions = 0\n",
        "    total_samples = 0\n",
        "    start_time = time.time()\n",
        "    context = torch.no_grad() if not is_training else torch.enable_grad()\n",
        "    loader_desc = \"Training\" if is_training else \"Validation\"\n",
        "    #gradient accummulation\n",
        "    gradient_accumulation_steps = CONFIG[\"train\"][\"gradient_accumulation_steps\"]\n",
        "\n",
        "    print(f'---> Starting Epoch {epoch_num}/{num_epochs_total} ({loader_desc}) | LR: {current_lr:.4e}')\n",
        "\n",
        "    for batch_idx, batch_data in enumerate(loader):\n",
        "        if batch_data is None or batch_data[0] is None: continue\n",
        "        inputs, targets, _ = batch_data # Unpack\n",
        "\n",
        "        inputs = inputs.to(device)\n",
        "        targets = targets.to(device)\n",
        "\n",
        "        # Autocast for forward pass\n",
        "        with torch.amp.autocast(device_type=device.type, enabled=USE_CUDA):\n",
        "            outputs = model(inputs)\n",
        "            loss = criterion(outputs, targets)\n",
        "\n",
        "        if is_training:\n",
        "          # Scale loss before backward pass\n",
        "            scaler.scale(loss / gradient_accumulation_steps).backward()\n",
        "\n",
        "            # Accumulate gradients\n",
        "            if (batch_idx + 1) % gradient_accumulation_steps == 0:\n",
        "                scaler.step(optimizer)\n",
        "                scaler.update()\n",
        "                optimizer.zero_grad(set_to_none=True)\n",
        "\n",
        "            if torch.isnan(loss) or torch.isinf(loss):\n",
        "                print(f\"WARNING: NaN/Inf loss detected at E{epoch_num} B{batch_idx+1}. Skipping update.\")\n",
        "                optimizer.zero_grad(set_to_none=True); continue\n",
        "\n",
        "        running_loss += loss.item() * inputs.size(0)\n",
        "        _, predicted = torch.max(outputs, 1)\n",
        "        correct_predictions += (predicted == targets).sum().item()\n",
        "        total_samples += targets.size(0)\n",
        "\n",
        "    epoch_loss = running_loss / total_samples\n",
        "    epoch_acc = correct_predictions / total_samples\n",
        "    epoch_duration = time.time() - start_time\n",
        "\n",
        "    print(f'    Epoch Loss: {epoch_loss:.4f} | Accuracy: {epoch_acc:.4f} | Duration: {epoch_duration:.2f}s')\n",
        "    return epoch_loss, epoch_acc\n",
        "\n",
        "# --- Main Execution Logic ---\n",
        "if __name__ == '__main__':\n",
        "    # --- Setup ---\n",
        "    if not os.path.exists('./outputs'):\n",
        "        os.makedirs('./outputs')\n",
        "\n",
        "    # --- Model Setup ---\n",
        "    model = Sentinel2Classifier(num_classes=num_classes)\n",
        "    model.to(DEVICE)\n",
        "\n",
        "    # --- Optimizer and Loss ---\n",
        "    criterion = nn.CrossEntropyLoss()\n",
        "\n",
        "    # --- Training Parameters from CONFIG ---\n",
        "    num_epochs = CONFIG[\"train\"][\"stage1_epochs\"] + CONFIG[\"train\"][\"stage2_epochs\"]\n",
        "    stage1_epochs = CONFIG[\"train\"][\"stage1_epochs\"]\n",
        "    lr_stage1 = CONFIG[\"train\"][\"lr_stage1\"]\n",
        "    lr_stage2 = CONFIG[\"train\"][\"lr_stage2\"]\n",
        "    warmup_epochs = CONFIG[\"train\"][\"warmup_epochs\"]\n",
        "    initial_warmup_lr = CONFIG[\"train\"][\"initial_warmup_lr\"]\n",
        "    patience = CONFIG[\"train\"][\"patience\"]\n",
        "    model_save_path = CONFIG[\"model\"][\"load_path\"]\n",
        "    best_weight_decay = CONFIG[\"train\"][\"weight_decay\"]\n",
        "    # --- Staged Fine-tuning Variables ---\n",
        "    overall_best_val_loss = float('inf')\n",
        "    best_model_state_dict = None\n",
        "    total_epochs_run = 0\n",
        "    scaler = torch.cuda.amp.GradScaler(enabled=USE_CUDA)\n",
        "\n",
        "    # --- Stage 1: Train Projector + Head ---\n",
        "    print(\"\\n--- Stage 1: Training Projector and Classifier Head ---\")\n",
        "    stage = 1\n",
        "    stage_epochs = stage1_epochs\n",
        "    stage_lr = lr_stage1\n",
        "\n",
        "    print(f\"Trainable parameters for Stage 1: {sum(p.numel() for p in model.parameters() if p.requires_grad)}\")\n",
        "\n",
        "    # Define optimizer with ONLY trainable parameters for this stage\n",
        "    optimizer = torch.optim.AdamW(model.parameters(), lr=stage_lr, weight_decay=best_weight_decay)\n",
        "\n",
        "    # Warmup only for the first stage\n",
        "    if warmup_epochs > 0:\n",
        "        warmup_steps_per_epoch_st1 = len(train_loader)\n",
        "        total_warmup_steps_st1 = warmup_steps_per_epoch_st1 * warmup_epochs\n",
        "        lr_lambda = lambda cs: initial_warmup_lr / stage_lr * (1.0-float(cs+1)/float(max(1,total_warmup_steps_st1))) + float(cs+1)/float(max(1,total_warmup_steps_st1)) if cs<total_warmup_steps_st1 else 1.0\n",
        "        warmup_scheduler = torch.optim.lr_scheduler.LambdaLR(optimizer, lr_lambda=lr_lambda); print(f\"Using linear warmup for {warmup_epochs} epochs in Stage 1.\")\n",
        "    else: warmup_scheduler = None\n",
        "    # Plateau scheduler for this stage\n",
        "    scheduler = torch.optim.lr_scheduler.ReduceLROnPlateau(optimizer, mode='min', factor=0.1, patience=patience // 2, verbose=False)\n",
        "    epochs_without_improvement = 0 # Reset for stage\n",
        "\n",
        "    for epoch in range(stage_epochs):\n",
        "        epoch_num = total_epochs_run + 1\n",
        "        current_lr = optimizer.param_groups[0]['lr'] # Get LR before epoch run\n",
        "        train_loss, train_accuracy = run_epoch(model, train_loader, criterion, optimizer, scaler, DEVICE, True, epoch_num, num_epochs, current_lr, warmup_scheduler, epoch, warmup_epochs)\n",
        "        avg_val_loss, val_accuracy = run_epoch(model, val_loader_split, criterion, None, scaler, DEVICE, False, epoch_num, num_epochs, current_lr)\n",
        "\n",
        "        # Step plateau scheduler AFTER warmup phase\n",
        "        if epoch_num > warmup_epochs: scheduler.step(avg_val_loss)\n",
        "\n",
        "        print(f'End of Epoch {epoch_num} - Current LR: {optimizer.param_groups[0][\"lr\"]:.6e}') # Print LR after step\n",
        "\n",
        "        if avg_val_loss < overall_best_val_loss:\n",
        "            overall_best_val_loss = avg_val_loss; epochs_without_improvement = 0\n",
        "            best_model_state_dict = model.state_dict(); torch.save(best_model_state_dict, model_save_path)\n",
        "            print(f'---> Overall Validation Loss Improved to {overall_best_val_loss:.4f}, model saved.')\n",
        "        else:\n",
        "            epochs_without_improvement += 1; print(f'---> Stage {stage} Val loss did not improve for {epochs_without_improvement} epochs.')\n",
        "            if epochs_without_improvement >= patience: print(f'Early stopping triggered during Stage {stage} at epoch {epoch_num}.'); break\n",
        "        total_epochs_run = epoch_num\n",
        "    print(f\"--- Finished Stage 1 (Epoch {total_epochs_run}) ---\")\n",
        "\n",
        "    # --- Stage 2: Unfreeze ALL and Train with Low LR ---\n",
        "    print(\"\\n--- Stage 2: Fine-tuning ALL Layers ---\")\n",
        "    stage = 2\n",
        "    stage_epochs = CONFIG[\"train\"][\"stage2_epochs\"] # Use stage2_epochs value\n",
        "    stage_lr = CONFIG[\"train\"][\"lr_stage2\"] # Use the very low LR defined for stage 2\n",
        "\n",
        "    if best_model_state_dict: model.load_state_dict(best_model_state_dict)\n",
        "    else: print(\"Warning: No best model from Stage 1, continuing with last state.\")\n",
        "\n",
        "    print(f\"Trainable parameters for Stage 2: {sum(p.numel() for p in model.parameters() if p.requires_grad)}\")\n",
        "    # Create NEW optimizer with all parameters and very low LR\n",
        "    optimizer = torch.optim.AdamW(model.parameters(), lr=stage_lr, weight_decay=best_weight_decay) # Use filter or just model.parameters()\n",
        "    # Recreate Plateau scheduler for this stage\n",
        "    scheduler = torch.optim.lr_scheduler.ReduceLROnPlateau(optimizer, mode='min', factor=0.1, patience=patience, verbose=False) # Maybe increase patience slightly\n",
        "    epochs_without_improvement = 0 # Reset patience count\n",
        "\n",
        "    for epoch in range(stage_epochs):\n",
        "        epoch_num = total_epochs_run + 1\n",
        "        current_lr = optimizer.param_groups[0]['lr']\n",
        "        # Run epoch - NO warmup needed for stage 2\n",
        "        train_loss, train_accuracy = run_epoch(model, train_loader, criterion, optimizer, scaler, DEVICE, True, epoch_num, num_epochs, current_lr)\n",
        "        avg_val_loss, val_accuracy = run_epoch(model, val_loader_split, criterion, None, scaler, DEVICE, False, epoch_num, num_epochs, current_lr)\n",
        "\n",
        "        scheduler.step(avg_val_loss) # Step epoch-level scheduler\n",
        "        print(f'End of Epoch {epoch_num} - Current LR: {optimizer.param_groups[0]['lr']:.6e}')\n",
        "\n",
        "        if avg_val_loss < overall_best_val_loss:\n",
        "            overall_best_val_loss = avg_val_loss; epochs_without_improvement = 0\n",
        "            best_model_state_dict = model.state_dict(); torch.save(best_model_state_dict, model_save_path)\n",
        "            print(f'---> Overall Validation Loss Improved to {overall_best_val_loss:.4f}, model saved.')\n",
        "        else:\n",
        "            epochs_without_improvement += 1; print(f'---> Stage {stage} Val loss did not improve for {epochs_without_improvement} epochs.')\n",
        "            if epochs_without_improvement >= patience: print(f'Early stopping triggered during Stage {stage} at epoch {epoch_num}.'); break\n",
        "        total_epochs_run = epoch_num\n",
        "    print(f\"--- Finished Stage 2 (Epoch {total_epochs_run}) ---\")\n",
        "\n",
        "    # --- Final Report ---\n",
        "    if best_model_state_dict is not None:\n",
        "        print(f'\\nBest model saved to {model_save_path} with validation loss: {overall_best_val_loss:.4f}')\n",
        "    else:\n",
        "        print(\"\\nTraining completed, but no improvement observed.\")\n",
        "\n",
        "    # --- Run Evaluation & Make Submission ---\n",
        "    evaluate_model(CONFIG, final_pred_loader, DEVICE, class_to_idx_map)\n",
        "    print(\"Evaluation and submission process are not active for now. Run these on a separate environment.\")\n",
        "\n",
        "    # --- Evaluation Function ---\n",
        "def evaluate_model(config: Dict[str, Any], final_pred_loader: DataLoader, device: torch.device, class_to_idx_map):\n",
        "    \"\"\"Loads model, runs prediction, saves CSV.\"\"\"\n",
        "\n",
        "    model = Sentinel2Classifier(config[\"model\"][\"num_classes\"]).to(device)\n",
        "\n",
        "    try:\n",
        "        model.load_state_dict(torch.load(config[\"model\"][\"load_path\"], map_location=device))\n",
        "        print(f\"Loaded model weights from {config['model']['load_path']}\")\n",
        "    except FileNotFoundError:\n",
        "        print(f\"Error: Model weights not found at {config['model']['load_path']}\")\n",
        "        return\n",
        "    except Exception as e:\n",
        "        print(f\"Error loading model: {e}\")\n",
        "        return\n",
        "\n",
        "    model.eval()\n",
        "    predictions = []\n",
        "    image_ids = []\n",
        "\n",
        "    with torch.no_grad():\n",
        "        for images, _, paths in tqdm(final_pred_loader, desc=\"Predicting\"):\n",
        "            if images is None:\n",
        "                print(\"Skipping batch due to None image data.\")\n",
        "                continue\n",
        "\n",
        "            images = images.to(device)\n",
        "            outputs = model(images)\n",
        "            _, predicted = torch.max(outputs.data, 1)\n",
        "            predictions.extend(predicted.cpu().numpy())\n",
        "            image_ids.extend([Path(p).stem for p in paths])\n",
        "\n",
        "    # Map predictions to class names\n",
        "    idx_to_class = {v: k for k, v in class_to_idx_map.items()}\n",
        "    predicted_classes = [idx_to_class[i] for i in predictions]\n",
        "\n",
        "    # Create DataFrame\n",
        "    df = pd.DataFrame({'test_id': image_ids, 'label': predicted_classes})\n",
        "    df['test_id'] = df['test_id'].str.replace('test_', '', regex=False)  # Clean test_id\n",
        "\n",
        "    # Save to CSV\n",
        "    csv_path = config[\"prediction\"][\"predictions_csv_path\"]\n",
        "    df.to_csv(csv_path, index=False)\n",
        "    print(f\"Predictions saved to {csv_path}\")\n"
      ],
      "metadata": {
        "id": "I6Iok4YU-5YA"
      },
      "execution_count": null,
      "outputs": []
    },
    {
      "cell_type": "markdown",
      "source": [
        "# without"
      ],
      "metadata": {
        "id": "LfqOftJn9db2"
      }
    },
    {
      "cell_type": "code",
      "source": [
        "# --- Setup ---\n",
        "if not os.path.exists('./outputs'):\n",
        "    os.mkdir('./outputs')\n",
        "\n",
        "# Define the paths\n",
        "train_dir = './ds/images/remote_sensing/otherDatasets/sentinel_2/tif'\n",
        "validation_dir = './testset/testset'\n",
        "model_save_path = 'convnext_2stage_imgnorm.pth' # New name for this strategy\n",
        "predictions_csv_path = 'track_1.csv'\n",
        "\n",
        "USE_CUDA = torch.cuda.is_available()\n",
        "DEVICE = torch.device(\"cuda\" if USE_CUDA else \"cpu\")\n",
        "print(f\"Using device: {DEVICE}\")\n",
        "\n",
        "# --- Configuration & Hyperparameters ---\n",
        "seed = 1337\n",
        "random.seed(seed)\n",
        "np.random.seed(seed)\n",
        "torch.manual_seed(seed)\n",
        "if torch.cuda.is_available():\n",
        "    torch.cuda.manual_seed(seed)\n",
        "    torch.cuda.manual_seed_all(seed)\n",
        "torch.backends.cudnn.deterministic = True\n",
        "torch.backends.cudnn.benchmark = False\n",
        "\n",
        "best_image_size = 128\n",
        "best_batch_size = 32\n",
        "best_weight_decay = 3.7553e-05 # Reverted to previous value\n",
        "best_optimizer_name = 'AdamW'\n",
        "\n",
        "# Learning Rates for 2 Stages\n",
        "lr_stage1 = 1e-3 # Train head + projector\n",
        "lr_stage2 = 1e-3 # Fine-tune ALL layers (very low LR)\n",
        "\n",
        "stage1_epochs = 30  # Train head/projector a bit longer\n",
        "stage2_epochs = 30  # Allow more time for full fine-tuning\n",
        "\n",
        "num_epochs = stage1_epochs + stage2_epochs # Total max\n",
        "\n",
        "# Warmup only for Stage 1\n",
        "warmup_epochs = 3\n",
        "initial_warmup_lr = 1e-6\n",
        "num_workers = 4\n",
        "train_ratio = 0.9\n",
        "patience = 10 # Early stopping patience per stage (increased slightly)\n",
        "# num_classes determined from data scan\n",
        "\n",
        "# --- REMOVED Global Normalization Stats ---\n",
        "# --- Data Loading Function ---\n",
        "def load_sentinel2_image(filepath):\n",
        "    \"\"\"Loads a Sentinel-2 image (12 bands), returns NumPy CHW.\"\"\"\n",
        "\n",
        "    if filepath.endswith('.tif'):\n",
        "        with rasterio.open(filepath) as src:\n",
        "            if src.count < 13:\n",
        "                raise ValueError(f\"Expected >=13 bands, got {src.count} in {filepath}\")\n",
        "            bands = list(range(1, 10)) + list(range(11, 14))  # Exclude B10\n",
        "            image = src.read(bands)  # Shape: (12, H, W)\n",
        "\n",
        "    elif filepath.endswith('.npy'):\n",
        "        image = np.load(filepath)  # Load .npy as is, without modification\n",
        "\n",
        "        if image.shape[0] != 13 and image.shape[0] != 12:\n",
        "            raise ValueError(f\"Unexpected shape for .npy {filepath}: {image.shape}\")\n",
        "\n",
        "    else:\n",
        "        raise ValueError(f\"Unsupported file type: {filepath}\")\n",
        "\n",
        "    return image.astype(np.float32)\n",
        "\n",
        "# --- Per-Image Normalization Function ---\n",
        "def normalize_image_per_image(image_np):\n",
        "    \"\"\"Normalizes 12-channel NumPy image (C, H, W) using its own stats.\"\"\"\n",
        "    if image_np.ndim != 3 or image_np.shape[0] != 12:\n",
        "        raise ValueError(f\"Invalid shape for per-image normalization: {image_np.shape}. Expected (12, H, W).\")\n",
        "\n",
        "    mean = np.mean(image_np, axis=(1, 2), keepdims=True)  # Per-channel mean\n",
        "    std = np.std(image_np, axis=(1, 2), keepdims=True)  # Per-channel std\n",
        "\n",
        "    return (image_np - mean) / (std + 1e-7)  # Normalize & avoid division by zero\n",
        "\n",
        "# --- Dataset Class (Using Per-Image Normalization) ---\n",
        "class Sentinel2Dataset(Dataset):\n",
        "    \"\"\"Custom Dataset for Sentinel-2 images. Returns Tensor CHW (12 channels).\"\"\"\n",
        "    def __init__(self, paths_labels, transform=None):\n",
        "        self.paths_labels = paths_labels\n",
        "        self.transform = transform\n",
        "\n",
        "    def __len__(self):\n",
        "        return len(self.paths_labels)\n",
        "\n",
        "    def __getitem__(self, idx):\n",
        "        image_path, label = self.paths_labels[idx]\n",
        "        try:\n",
        "            image_np = load_sentinel2_image(image_path) # NumPy (C, H, W)\n",
        "            image_np = normalize_image_per_image(image_np) # Apply per-image normalization HERE\n",
        "\n",
        "            image_tensor = torch.from_numpy(image_np.copy()).float() # Convert to tensor AFTER normalization\n",
        "            label_tensor = torch.tensor(label, dtype=torch.long)\n",
        "\n",
        "            if self.transform:\n",
        "                image_tensor = self.transform(image_tensor) # Apply remaining transforms\n",
        "\n",
        "            return image_tensor, label_tensor, image_path\n",
        "\n",
        "        except Exception as e:\n",
        "            print(f\"Error loading/processing image {image_path}:\")\n",
        "            traceback.print_exc()\n",
        "            return None, None, None # Signal error\n",
        "\n",
        "# Prediction dataset also uses per-image normalization\n",
        "class NpyPredictionDataset(Dataset):\n",
        "    def __init__(self, root_dir, transform=None):\n",
        "        self.root_dir = root_dir\n",
        "        self.transform = transform\n",
        "        self.file_paths = sorted([os.path.join(root_dir, f) for f in os.listdir(root_dir) if f.endswith('.npy')])\n",
        "        if not self.file_paths: raise FileNotFoundError(f\"No .npy files in {root_dir}\")\n",
        "        print(f\"Found {len(self.file_paths)} .npy files for prediction.\")\n",
        "\n",
        "    def __len__(self):\n",
        "        return len(self.file_paths)\n",
        "\n",
        "    def __getitem__(self, idx):\n",
        "        image_path = self.file_paths[idx]\n",
        "        try:\n",
        "            image_np = load_sentinel2_image(image_path) # NumPy (C, H, W)\n",
        "            image_np = normalize_image_per_image(image_np) # Apply per-image normalization HERE\n",
        "            image_tensor = torch.from_numpy(image_np.copy()).float() # Convert to tensor\n",
        "\n",
        "            if self.transform:\n",
        "                image_tensor = self.transform(image_tensor) # Apply remaining transforms\n",
        "\n",
        "            return image_tensor, 0, image_path # Dummy label 0\n",
        "\n",
        "        except Exception as e:\n",
        "            print(f\"Error loading/processing image {image_path}:\")\n",
        "            traceback.print_exc()\n",
        "            return None, None, None\n",
        "\n",
        "\n",
        "# --- Data Transforms  ---\n",
        "class AddGaussianNoise(object):\n",
        "    def __init__(self, mean=0., std=0.1):\n",
        "        self.std = std\n",
        "        self.mean = mean\n",
        "\n",
        "    def __call__(self, tensor):\n",
        "        return tensor + torch.randn(tensor.size()) * self.std + self.mean\n",
        "\n",
        "    def __repr__(self):\n",
        "        return self.__class__.__name__ + '(mean={0}, std={1})'.format(self.mean, self.std)\n",
        "\n",
        "class RandomChannelScale(object):\n",
        "    def __init__(self, scale_range=(0.9, 1.1)):\n",
        "        self.scale_range = scale_range\n",
        "\n",
        "    def __call__(self, tensor):\n",
        "        scale_factors = torch.rand(tensor.shape[0]) * (self.scale_range[1] - self.scale_range[0]) + self.scale_range[0]\n",
        "        return tensor * scale_factors.view(tensor.shape[0], 1, 1)\n",
        "\n",
        "    def __repr__(self):\n",
        "        return self.__class__.__name__ + '(scale_range={0})'.format(self.scale_range)\n",
        "\n",
        "train_transforms = transforms.Compose([\n",
        "    transforms.RandomHorizontalFlip(),\n",
        "    transforms.RandomVerticalFlip(),\n",
        "    transforms.RandomRotation(degrees=20),\n",
        "    transforms.RandomAffine(degrees=20, translate=(0.1, 0.1), scale=(0.9, 1.1)),  # Small affine transformations\n",
        "    #transforms.ColorJitter(brightness=0.2, contrast=0.2),  # Slight brightness & contrast changes\n",
        "    AddGaussianNoise(mean=0., std=0.05),  # Add Gaussian noise\n",
        "    RandomChannelScale(scale_range=(0.9, 1.1)),  # Channel-wise scaling\n",
        "    transforms.Resize((best_image_size, best_image_size), antialias=True),\n",
        "])\n",
        "\n",
        "val_transforms = transforms.Compose([\n",
        "    # Input is already a normalized 12-channel Tensor from __getitem__\n",
        "    transforms.Resize((best_image_size, best_image_size), antialias=True), # Resize\n",
        "    # NO Normalize step here\n",
        "])\n",
        "\n",
        "\n",
        "# --- Create Datasets ---\n",
        "print(\"Creating and splitting dataset...\")\n",
        "full_dataset_paths_labels = []\n",
        "class_to_idx_map = {}\n",
        "class_names = []\n",
        "idx_counter = 0\n",
        "# Scan training directory\n",
        "for class_name in sorted(os.listdir(train_dir)):\n",
        "     class_dir = os.path.join(train_dir, class_name)\n",
        "     if os.path.isdir(class_dir) and not class_name.startswith('.'):\n",
        "         if class_name not in class_to_idx_map:\n",
        "             class_to_idx_map[class_name] = idx_counter\n",
        "             class_names.append(class_name)\n",
        "             idx_counter += 1\n",
        "         class_idx = class_to_idx_map[class_name]\n",
        "         for filename in os.listdir(class_dir):\n",
        "             if filename.lower().endswith(('.tif', '.tiff')):\n",
        "                 full_dataset_paths_labels.append((os.path.join(class_dir, filename), class_idx))\n",
        "\n",
        "num_classes = len(class_names)\n",
        "if num_classes == 0: raise FileNotFoundError(f\"No valid class folders found in {train_dir}\")\n",
        "print(f\"Found {len(full_dataset_paths_labels)} training images in {num_classes} classes: {class_names}\")\n",
        "\n",
        "# Stratified Split\n",
        "train_info, val_info = train_test_split(\n",
        "    full_dataset_paths_labels, train_size=train_ratio, random_state=seed,\n",
        "    stratify=[label for _, label in full_dataset_paths_labels]\n",
        ")\n",
        "\n",
        "# Create Dataset objects using the split lists\n",
        "train_dataset = Sentinel2Dataset(train_info, transform=train_transforms)\n",
        "val_tif_dataset = Sentinel2Dataset(val_info, transform=val_transforms)\n",
        "final_validation_dataset = NpyPredictionDataset(validation_dir, transform=val_transforms) # Prediction set\n",
        "\n",
        "\n",
        "# --- Create DataLoaders ---\n",
        "def collate_fn(batch):\n",
        "    \"\"\" Filter out None samples before creating batch \"\"\"\n",
        "    batch = list(filter(lambda x: x is not None and x[0] is not None, batch))\n",
        "    if not batch: return None, None, None\n",
        "    try:\n",
        "        images = torch.stack([item[0] for item in batch])\n",
        "        labels = torch.stack([item[1] for item in batch])\n",
        "        paths = [item[2] for item in batch]\n",
        "        return images, labels, paths\n",
        "    except Exception as e:\n",
        "        print(f\"Error in collate_fn: {e}. Skipping batch.\")\n",
        "        # traceback.print_exc() # Can be verbose\n",
        "        return None, None, None\n",
        "\n",
        "train_loader = DataLoader(train_dataset, batch_size=best_batch_size, shuffle=True, num_workers=num_workers, generator=torch.Generator().manual_seed(seed), pin_memory=True, collate_fn=collate_fn)\n",
        "val_loader_split = DataLoader(val_tif_dataset, batch_size=best_batch_size, pin_memory=True, shuffle=False, num_workers=num_workers, collate_fn=collate_fn)\n",
        "final_pred_loader = DataLoader(final_validation_dataset, batch_size=best_batch_size, shuffle=False, num_workers=num_workers, pin_memory=True, collate_fn=collate_fn)\n",
        "print(\"DataLoaders created.\")\n",
        "\n",
        "# Mish Activation Function\n",
        "class Mish(nn.Module):\n",
        "    def forward(self, x):\n",
        "        return x * torch.tanh(F.softplus(x))\n",
        "\n",
        "# Squeeze-and-Excitation Block (Attention Mechanism)\n",
        "class SEBlock(nn.Module):\n",
        "    def __init__(self, channels, reduction=16):\n",
        "        super().__init__()\n",
        "        self.squeeze = nn.AdaptiveAvgPool2d(1)  # Global Average Pooling\n",
        "        self.fc = nn.Sequential(\n",
        "            nn.Conv2d(channels, channels // reduction, kernel_size=1, bias=False),\n",
        "            Mish(),\n",
        "            nn.Conv2d(channels // reduction, channels, kernel_size=1, bias=False),\n",
        "            nn.Sigmoid()\n",
        "        )\n",
        "\n",
        "    def forward(self, x):\n",
        "        return x * self.fc(self.squeeze(x))\n",
        "\n",
        "# Improved Sentinel-2 Classifier\n",
        "class Sentinel2Classifier(nn.Module):\n",
        "    \"\"\" CNN with Residual Connections, Attention, Hybrid Pooling & Mish Activation \"\"\"\n",
        "    def __init__(self, num_classes):\n",
        "        super().__init__()\n",
        "\n",
        "        self.mish = Mish()\n",
        "\n",
        "        # CNN Layers\n",
        "        self.conv1 = nn.Conv2d(12, 64, kernel_size=3, padding=1)\n",
        "        self.bn1 = nn.BatchNorm2d(64)\n",
        "        self.conv2 = nn.Conv2d(64, 128, kernel_size=3, padding=1)\n",
        "        self.bn2 = nn.BatchNorm2d(128)\n",
        "        self.conv3 = nn.Conv2d(128, 256, kernel_size=3, padding=1)\n",
        "        self.bn3 = nn.BatchNorm2d(256)\n",
        "        self.conv4 = nn.Conv2d(256, 512, kernel_size=3, padding=1)\n",
        "        self.bn4 = nn.BatchNorm2d(512)\n",
        "        self.conv5 = nn.Conv2d(512, 1024, kernel_size=3, padding=1)\n",
        "        self.bn5 = nn.BatchNorm2d(1024)\n",
        "\n",
        "        # Attention Blocks\n",
        "        self.se1 = SEBlock(64)\n",
        "        self.se2 = SEBlock(128)\n",
        "        self.se3 = SEBlock(256)\n",
        "        self.se4 = SEBlock(512)\n",
        "        self.se5 = SEBlock(1024)\n",
        "\n",
        "        # Hybrid Pooling (Avg + Max)\n",
        "        self.avg_pool = nn.AdaptiveAvgPool2d(1)\n",
        "        self.max_pool = nn.AdaptiveMaxPool2d(1)\n",
        "\n",
        "        # Fully Connected Layers\n",
        "        self.fc1 = nn.Linear(1024, 512)\n",
        "        self.fc2 = nn.Linear(512, 256)\n",
        "        self.fc3 = nn.Linear(256, num_classes)\n",
        "        self.dropout = nn.Dropout(0.5)\n",
        "\n",
        "        # Residual 1x1 Convolutions\n",
        "        self.res_conv1 = nn.Conv2d(12, 64, kernel_size=1) # First residual layer\n",
        "        self.res_conv2 = nn.Conv2d(64, 128, kernel_size=1)\n",
        "        self.res_conv3 = nn.Conv2d(128, 256, kernel_size=1)\n",
        "        self.res_conv4 = nn.Conv2d(256, 512, kernel_size=1)\n",
        "        self.res_conv5 = nn.Conv2d(512, 1024, kernel_size=1)\n",
        "\n",
        "        self.apply(self._initialize_weights)\n",
        "\n",
        "    def _initialize_weights(self, m):\n",
        "        \"\"\" Xavier Initialization for Conv & Linear Layers \"\"\"\n",
        "        if isinstance(m, (nn.Conv2d, nn.Linear)):\n",
        "            nn.init.xavier_uniform_(m.weight)\n",
        "            if m.bias is not None:\n",
        "                nn.init.zeros_(m.bias)\n",
        "\n",
        "    def _apply_residual(self, x, residual):\n",
        "        \"\"\" Apply residual connection (add 1x1 conv if channels mismatch) \"\"\"\n",
        "        if x.shape[1] != residual.shape[1]:  # If channel sizes differ\n",
        "            residual = nn.Conv2d(residual.shape[1], x.shape[1], kernel_size=1, bias=False).to(x.device)(residual)\n",
        "        return x + residual\n",
        "\n",
        "    def forward(self, x):\n",
        "        # Feature Extraction with Skip Connections & Attention\n",
        "        residual = self.res_conv1(x) # Pass initial input through 1x1 conv to match channels\n",
        "        x = self.mish(self.bn1(self.conv1(x)))\n",
        "        x = self.se1(x) + residual  # Skip connection\n",
        "\n",
        "        residual = self.res_conv2(x) # Adjust residual using 1x1 convolution\n",
        "        x = self.mish(self.bn2(self.conv2(x)))\n",
        "        x = self.se2(x) + residual  # Skip connection\n",
        "\n",
        "        residual = self.res_conv3(x)\n",
        "        x = self.mish(self.bn3(self.conv3(x)))\n",
        "        x = self.se3(x) + residual  # Skip connection\n",
        "\n",
        "        residual = self.res_conv4(x)\n",
        "        x = self.mish(self.bn4(self.conv4(x)))\n",
        "        x = self.se4(x) + residual  # Skip connection\n",
        "\n",
        "        residual = self.res_conv5(x)\n",
        "        x = self.mish(self.bn5(self.conv5(x)))\n",
        "        x = self.se5(x) + residual  # Skip connection\n",
        "\n",
        "        # Hybrid Pooling (Avg + Max)\n",
        "        x = self.avg_pool(x) + self.max_pool(x)\n",
        "        x = torch.flatten(x, 1)\n",
        "\n",
        "        # Fully Connected Layers with Residuals\n",
        "        residual = x\n",
        "        x = self.mish(self.fc1(x))\n",
        "        x = self.dropout(x) + residual  # Skip connection\n",
        "\n",
        "        residual = x\n",
        "        x = self.mish(self.fc2(x))\n",
        "        x = self.dropout(x) + residual  # Skip connection\n",
        "\n",
        "        x = self.fc3(x)  # Final classification layer\n",
        "        return x\n",
        "\n",
        "# --- Helper Function for Training/Validation Epoch ---\n",
        "def run_epoch(model, loader, criterion, optimizer, scaler, device, is_training, epoch_num, num_epochs_total, current_lr, warmup_scheduler=None, current_stage_epoch=0, total_warmup_epochs=0):\n",
        "    \"\"\"Runs a single epoch of training or validation.\"\"\"\n",
        "    if is_training: model.train()\n",
        "    else: model.eval()\n",
        "    running_loss = 0.0\n",
        "    correct_predictions = 0\n",
        "    total_samples = 0\n",
        "    start_time = time.time()\n",
        "    context = torch.no_grad() if not is_training else torch.enable_grad()\n",
        "    loader_desc = \"Training\" if is_training else \"Validation\"\n",
        "    #gradient accummulation\n",
        "    gradient_accumulation_steps = 2\n",
        "\n",
        "    print(f'---> Starting Epoch {epoch_num}/{num_epochs_total} ({loader_desc}) | LR: {current_lr:.4e}')\n",
        "\n",
        "    for batch_idx, batch_data in enumerate(loader):\n",
        "        if batch_data is None or batch_data[0] is None: continue\n",
        "        inputs, targets, _ = batch_data # Unpack\n",
        "\n",
        "        inputs = inputs.to(device)\n",
        "        targets = targets.to(device)\n",
        "\n",
        "        # Autocast for forward pass\n",
        "        with torch.amp.autocast(device_type=device.type, enabled=USE_CUDA):\n",
        "            outputs = model(inputs)\n",
        "            loss = criterion(outputs, targets)\n",
        "\n",
        "        if is_training:\n",
        "          # Scale loss before backward pass\n",
        "            scaler.scale(loss / gradient_accumulation_steps).backward()\n",
        "\n",
        "            # Accumulate gradients\n",
        "            if (batch_idx + 1) % gradient_accumulation_steps == 0:\n",
        "                scaler.step(optimizer)\n",
        "                scaler.update()\n",
        "                optimizer.zero_grad(set_to_none=True)\n",
        "\n",
        "            if torch.isnan(loss) or torch.isinf(loss):\n",
        "                print(f\"WARNING: NaN/Inf loss detected at E{epoch_num} B{batch_idx+1}. Skipping update.\")\n",
        "                optimizer.zero_grad(set_to_none=True); continue\n",
        "            optimizer.zero_grad(set_to_none=True)\n",
        "            scaler.scale(loss).backward()\n",
        "\n",
        "            scaler.step(optimizer)\n",
        "            scaler.update()\n",
        "            # Step iteration-level scheduler (warmup phase) ONLY during warmup epochs of stage 1\n",
        "            if warmup_scheduler and epoch_num <= total_warmup_epochs:\n",
        "                warmup_scheduler.step()\n",
        "\n",
        "\n",
        "        running_loss += loss.item() * inputs.size(0)\n",
        "        _, predicted = torch.max(outputs.data, 1)\n",
        "        total_samples += targets.size(0)\n",
        "        correct_predictions += (predicted == targets).sum().item()\n",
        "\n",
        "    epoch_duration = time.time() - start_time\n",
        "    avg_loss = running_loss / total_samples if total_samples > 0 else 0\n",
        "    accuracy = 100. * correct_predictions / total_samples if total_samples > 0 else 0\n",
        "    print(f'Epoch [{epoch_num}/{num_epochs_total}] FINISHED ({loader_desc}) - Loss: {avg_loss:.4f}, Acc: {accuracy:.2f}%, Time: {epoch_duration:.2f}s')\n",
        "    return avg_loss, accuracy\n",
        "\n",
        "\n",
        "# --- Main Execution Logic ---\n",
        "if __name__ == '__main__':\n",
        "\n",
        "    # --- Create Model ---\n",
        "    model = Sentinel2Classifier(num_classes=num_classes)\n",
        "    model.to(DEVICE)\n",
        "\n",
        "    # --- Loss Function ---\n",
        "    criterion = nn.CrossEntropyLoss() # Define criterion here\n",
        "\n",
        "    # --- Staged Fine-tuning Variables ---\n",
        "    overall_best_val_loss = float('inf')\n",
        "    best_model_state_dict = None\n",
        "    total_epochs_run = 0\n",
        "    scaler = torch.amp.GradScaler(device=DEVICE.type, enabled=USE_CUDA) # Correct syntax\n",
        "\n",
        "    # --- Stage 1: Train Projector + Head ---\n",
        "    print(\"\\n--- Stage 1: Training Projector and Classifier Head ---\")\n",
        "    stage = 1\n",
        "    stage_epochs = stage1_epochs\n",
        "    stage_lr = lr_stage1\n",
        "    # Configure requires_grad for Stage 1\n",
        "\n",
        "    print(f\"Trainable parameters for Stage 1: {sum(p.numel() for p in model.parameters() if p.requires_grad)}\")\n",
        "\n",
        "    # Define optimizer with ONLY trainable parameters for this stage\n",
        "    optimizer = optim.AdamW(model.parameters(), lr=stage_lr, weight_decay=best_weight_decay)\n",
        "\n",
        "    # Warmup only for the first stage\n",
        "    if warmup_epochs > 0:\n",
        "        warmup_steps_per_epoch_st1 = len(train_loader); total_warmup_steps_st1 = warmup_steps_per_epoch_st1 * warmup_epochs\n",
        "        lr_lambda = lambda cs: initial_warmup_lr / stage_lr * (1.0-float(cs+1)/float(max(1,total_warmup_steps_st1))) + float(cs+1)/float(max(1,total_warmup_steps_st1)) if cs<total_warmup_steps_st1 else 1.0\n",
        "        warmup_scheduler = torch.optim.lr_scheduler.LambdaLR(optimizer, lr_lambda=lr_lambda); print(f\"Using linear warmup for {warmup_epochs} epochs in Stage 1.\")\n",
        "    else: warmup_scheduler = None\n",
        "    # Plateau scheduler for this stage\n",
        "    scheduler = torch.optim.lr_scheduler.ReduceLROnPlateau(optimizer, mode='min', factor=0.1, patience=patience // 2, verbose=False)\n",
        "    epochs_without_improvement = 0 # Reset for stage\n",
        "\n",
        "    for epoch in range(stage_epochs):\n",
        "        epoch_num = total_epochs_run + 1\n",
        "        current_lr = optimizer.param_groups[0]['lr'] # Get LR before epoch run\n",
        "        run_epoch(model, train_loader, criterion, optimizer, scaler, DEVICE, True, epoch_num, num_epochs, current_lr, warmup_scheduler, epoch, warmup_epochs)\n",
        "        avg_val_loss, val_accuracy = run_epoch(model, val_loader_split, criterion, None, scaler, DEVICE, False, epoch_num, num_epochs, current_lr)\n",
        "\n",
        "        # Step plateau scheduler AFTER warmup phase\n",
        "        if epoch_num > warmup_epochs: scheduler.step(avg_val_loss)\n",
        "\n",
        "        print(f'End of Epoch {epoch_num} - Current LR: {optimizer.param_groups[0][\"lr\"]:.6e}') # Print LR after step\n",
        "\n",
        "        if avg_val_loss < overall_best_val_loss:\n",
        "            overall_best_val_loss = avg_val_loss; epochs_without_improvement = 0\n",
        "            best_model_state_dict = model.state_dict(); torch.save(best_model_state_dict, model_save_path)\n",
        "            print(f'---> Overall Validation Loss Improved to {overall_best_val_loss:.4f}, model saved.')\n",
        "        else:\n",
        "            epochs_without_improvement += 1; print(f'---> Stage {stage} Val loss did not improve for {epochs_without_improvement} epochs.')\n",
        "            if epochs_without_improvement >= patience: print(f'Early stopping triggered during Stage {stage} at epoch {epoch_num}.'); break\n",
        "        total_epochs_run = epoch_num\n",
        "    print(f\"--- Finished Stage 1 (Epoch {total_epochs_run}) ---\")\n",
        "\n",
        "\n",
        "    # --- Stage 2: Unfreeze ALL and Train with Low LR ---\n",
        "    print(\"\\n--- Stage 2: Fine-tuning ALL Layers ---\")\n",
        "    stage = 2\n",
        "    stage_epochs = stage2_epochs # Use stage2_epochs value\n",
        "    stage_lr = lr_stage2 # Use the very low LR defined for stage 2\n",
        "\n",
        "    if best_model_state_dict: model.load_state_dict(best_model_state_dict)\n",
        "    else: print(\"Warning: No best model from Stage 1, continuing with last state.\")\n",
        "\n",
        "    print(f\"Trainable parameters for Stage 2: {sum(p.numel() for p in model.parameters() if p.requires_grad)}\")\n",
        "    # Create NEW optimizer with all parameters and very low LR\n",
        "    optimizer = optim.AdamW(model.parameters(), lr=stage_lr, weight_decay=best_weight_decay) # Use filter or just model.parameters()\n",
        "    # Recreate Plateau scheduler for this stage\n",
        "    scheduler = optim.lr_scheduler.ReduceLROnPlateau(optimizer, mode='min', factor=0.1, patience=patience, verbose=False) # Maybe increase patience slightly\n",
        "    epochs_without_improvement = 0 # Reset patience count\n",
        "\n",
        "    for epoch in range(stage_epochs):\n",
        "        epoch_num = total_epochs_run + 1\n",
        "        current_lr = optimizer.param_groups[0]['lr']\n",
        "        # Run epoch - NO warmup needed for stage 2\n",
        "        run_epoch(model, train_loader, criterion, optimizer, scaler, DEVICE, True, epoch_num, num_epochs, current_lr)\n",
        "        avg_val_loss, val_accuracy = run_epoch(model, val_loader_split, criterion, None, scaler, DEVICE, False, epoch_num, num_epochs, current_lr)\n",
        "\n",
        "        scheduler.step(avg_val_loss) # Step epoch-level scheduler\n",
        "        print(f'End of Epoch {epoch_num} - Current LR: {optimizer.param_groups[0][\"lr\"]:.6e}')\n",
        "\n",
        "        if avg_val_loss < overall_best_val_loss:\n",
        "            overall_best_val_loss = avg_val_loss; epochs_without_improvement = 0\n",
        "            best_model_state_dict = model.state_dict(); torch.save(best_model_state_dict, model_save_path)\n",
        "            print(f'---> Overall Validation Loss Improved to {overall_best_val_loss:.4f}, model saved.')\n",
        "        else:\n",
        "            epochs_without_improvement += 1; print(f'---> Stage {stage} Val loss did not improve for {epochs_without_improvement} epochs.')\n",
        "            if epochs_without_improvement >= patience: print(f'Early stopping triggered during Stage {stage} at epoch {epoch_num}.'); break\n",
        "        total_epochs_run = epoch_num\n",
        "    print(f\"--- Finished Stage 2 (Epoch {total_epochs_run}) ---\")\n",
        "\n",
        "\n",
        "    # --- Final Report ---\n",
        "    if best_model_state_dict is not None:\n",
        "        print(f'\\nBest model saved to {model_save_path} with validation loss: {overall_best_val_loss:.4f}')\n",
        "    else:\n",
        "        print(\"\\nTraining completed, but no improvement observed.\")\n",
        "\n",
        "    print(\"Script finished. Evaluation/Submission should be done in a separate script.\")\n",
        "    # --- Kaggle Submission (Requires API Key) ---\n",
        "\n",
        "\n",
        "    api = KaggleApi()\n",
        "    api.authenticate()  # Make sure your kaggle.json is set up\n",
        "\n",
        "    kaggle_competition = '8,860,1.00: Coding Challenge'  # Replace with your actual competition name\n",
        "    kaggle_message = 'track_1'\n",
        "\n",
        "    df = pd.read_csv('track_1.csv')\n",
        "    df['test_id'] = df['test_id'].str.replace('test_', '', regex=False)\n",
        "\n",
        "            # Save the modified DataFrame back to the CSV file\n",
        "    df.to_csv('track_1.csv', index=False)\n",
        "            # Upload the CSV file to Kaggle\n",
        "    api.competition_submit(competition=kaggle_competition, file_name=predictions_csv_path, message=kaggle_message)\n",
        "\n",
        "    print(f\"Submission uploaded to Kaggle: {kaggle_competition}\")"
      ],
      "metadata": {
        "id": "wAk_lQDjczgI",
        "colab": {
          "base_uri": "https://localhost:8080/",
          "height": 676
        },
        "outputId": "842a4a23-89ec-4f24-d161-2492c101856c"
      },
      "execution_count": null,
      "outputs": [
        {
          "output_type": "stream",
          "name": "stdout",
          "text": [
            "Using device: cuda\n",
            "Creating and splitting dataset...\n",
            "Found 27000 training images in 10 classes: ['AnnualCrop', 'Forest', 'HerbaceousVegetation', 'Highway', 'Industrial', 'Pasture', 'PermanentCrop', 'Residential', 'River', 'SeaLake']\n",
            "Found 4232 .npy files for prediction.\n",
            "DataLoaders created.\n",
            "\n",
            "--- Stage 1: Training Projector and Classifier Head ---\n",
            "Trainable parameters for Stage 1: 7812106\n",
            "Using linear warmup for 3 epochs in Stage 1.\n",
            "---> Starting Epoch 1/60 (Training) | LR: 1.4382e-06\n"
          ]
        },
        {
          "output_type": "stream",
          "name": "stderr",
          "text": [
            "/usr/local/lib/python3.11/dist-packages/torch/utils/data/dataloader.py:624: UserWarning: This DataLoader will create 4 worker processes in total. Our suggested max number of worker in current system is 2, which is smaller than what this DataLoader is going to create. Please be aware that excessive worker creation might get DataLoader running slow or even freeze, lower the worker number to avoid potential slowness/freeze if necessary.\n",
            "  warnings.warn(\n",
            "/usr/local/lib/python3.11/dist-packages/torch/optim/lr_scheduler.py:62: UserWarning: The verbose parameter is deprecated. Please use get_last_lr() to access the learning rate.\n",
            "  warnings.warn(\n"
          ]
        },
        {
          "output_type": "error",
          "ename": "OutOfMemoryError",
          "evalue": "CUDA out of memory. Tried to allocate 128.00 MiB. GPU 0 has a total capacity of 14.74 GiB of which 68.12 MiB is free. Process 65372 has 14.67 GiB memory in use. Of the allocated memory 14.47 GiB is allocated by PyTorch, and 81.66 MiB is reserved by PyTorch but unallocated. If reserved but unallocated memory is large try setting PYTORCH_CUDA_ALLOC_CONF=expandable_segments:True to avoid fragmentation.  See documentation for Memory Management  (https://pytorch.org/docs/stable/notes/cuda.html#environment-variables)",
          "traceback": [
            "\u001b[0;31m---------------------------------------------------------------------------\u001b[0m",
            "\u001b[0;31mOutOfMemoryError\u001b[0m                          Traceback (most recent call last)",
            "\u001b[0;32m<ipython-input-18-490a7ea898ec>\u001b[0m in \u001b[0;36m<cell line: 0>\u001b[0;34m()\u001b[0m\n\u001b[1;32m    456\u001b[0m         \u001b[0mepoch_num\u001b[0m \u001b[0;34m=\u001b[0m \u001b[0mtotal_epochs_run\u001b[0m \u001b[0;34m+\u001b[0m \u001b[0;36m1\u001b[0m\u001b[0;34m\u001b[0m\u001b[0;34m\u001b[0m\u001b[0m\n\u001b[1;32m    457\u001b[0m         \u001b[0mcurrent_lr\u001b[0m \u001b[0;34m=\u001b[0m \u001b[0moptimizer\u001b[0m\u001b[0;34m.\u001b[0m\u001b[0mparam_groups\u001b[0m\u001b[0;34m[\u001b[0m\u001b[0;36m0\u001b[0m\u001b[0;34m]\u001b[0m\u001b[0;34m[\u001b[0m\u001b[0;34m'lr'\u001b[0m\u001b[0;34m]\u001b[0m \u001b[0;31m# Get LR before epoch run\u001b[0m\u001b[0;34m\u001b[0m\u001b[0;34m\u001b[0m\u001b[0m\n\u001b[0;32m--> 458\u001b[0;31m         \u001b[0mrun_epoch\u001b[0m\u001b[0;34m(\u001b[0m\u001b[0mmodel\u001b[0m\u001b[0;34m,\u001b[0m \u001b[0mtrain_loader\u001b[0m\u001b[0;34m,\u001b[0m \u001b[0mcriterion\u001b[0m\u001b[0;34m,\u001b[0m \u001b[0moptimizer\u001b[0m\u001b[0;34m,\u001b[0m \u001b[0mscaler\u001b[0m\u001b[0;34m,\u001b[0m \u001b[0mDEVICE\u001b[0m\u001b[0;34m,\u001b[0m \u001b[0;32mTrue\u001b[0m\u001b[0;34m,\u001b[0m \u001b[0mepoch_num\u001b[0m\u001b[0;34m,\u001b[0m \u001b[0mnum_epochs\u001b[0m\u001b[0;34m,\u001b[0m \u001b[0mcurrent_lr\u001b[0m\u001b[0;34m,\u001b[0m \u001b[0mwarmup_scheduler\u001b[0m\u001b[0;34m,\u001b[0m \u001b[0mepoch\u001b[0m\u001b[0;34m,\u001b[0m \u001b[0mwarmup_epochs\u001b[0m\u001b[0;34m)\u001b[0m\u001b[0;34m\u001b[0m\u001b[0;34m\u001b[0m\u001b[0m\n\u001b[0m\u001b[1;32m    459\u001b[0m         \u001b[0mavg_val_loss\u001b[0m\u001b[0;34m,\u001b[0m \u001b[0mval_accuracy\u001b[0m \u001b[0;34m=\u001b[0m \u001b[0mrun_epoch\u001b[0m\u001b[0;34m(\u001b[0m\u001b[0mmodel\u001b[0m\u001b[0;34m,\u001b[0m \u001b[0mval_loader_split\u001b[0m\u001b[0;34m,\u001b[0m \u001b[0mcriterion\u001b[0m\u001b[0;34m,\u001b[0m \u001b[0;32mNone\u001b[0m\u001b[0;34m,\u001b[0m \u001b[0mscaler\u001b[0m\u001b[0;34m,\u001b[0m \u001b[0mDEVICE\u001b[0m\u001b[0;34m,\u001b[0m \u001b[0;32mFalse\u001b[0m\u001b[0;34m,\u001b[0m \u001b[0mepoch_num\u001b[0m\u001b[0;34m,\u001b[0m \u001b[0mnum_epochs\u001b[0m\u001b[0;34m,\u001b[0m \u001b[0mcurrent_lr\u001b[0m\u001b[0;34m)\u001b[0m\u001b[0;34m\u001b[0m\u001b[0;34m\u001b[0m\u001b[0m\n\u001b[1;32m    460\u001b[0m \u001b[0;34m\u001b[0m\u001b[0m\n",
            "\u001b[0;32m<ipython-input-18-490a7ea898ec>\u001b[0m in \u001b[0;36mrun_epoch\u001b[0;34m(model, loader, criterion, optimizer, scaler, device, is_training, epoch_num, num_epochs_total, current_lr, warmup_scheduler, current_stage_epoch, total_warmup_epochs)\u001b[0m\n\u001b[1;32m    377\u001b[0m         \u001b[0;31m# Autocast for forward pass\u001b[0m\u001b[0;34m\u001b[0m\u001b[0;34m\u001b[0m\u001b[0m\n\u001b[1;32m    378\u001b[0m         \u001b[0;32mwith\u001b[0m \u001b[0mtorch\u001b[0m\u001b[0;34m.\u001b[0m\u001b[0mamp\u001b[0m\u001b[0;34m.\u001b[0m\u001b[0mautocast\u001b[0m\u001b[0;34m(\u001b[0m\u001b[0mdevice_type\u001b[0m\u001b[0;34m=\u001b[0m\u001b[0mdevice\u001b[0m\u001b[0;34m.\u001b[0m\u001b[0mtype\u001b[0m\u001b[0;34m,\u001b[0m \u001b[0menabled\u001b[0m\u001b[0;34m=\u001b[0m\u001b[0mUSE_CUDA\u001b[0m\u001b[0;34m)\u001b[0m\u001b[0;34m:\u001b[0m\u001b[0;34m\u001b[0m\u001b[0;34m\u001b[0m\u001b[0m\n\u001b[0;32m--> 379\u001b[0;31m             \u001b[0moutputs\u001b[0m \u001b[0;34m=\u001b[0m \u001b[0mmodel\u001b[0m\u001b[0;34m(\u001b[0m\u001b[0minputs\u001b[0m\u001b[0;34m)\u001b[0m\u001b[0;34m\u001b[0m\u001b[0;34m\u001b[0m\u001b[0m\n\u001b[0m\u001b[1;32m    380\u001b[0m             \u001b[0mloss\u001b[0m \u001b[0;34m=\u001b[0m \u001b[0mcriterion\u001b[0m\u001b[0;34m(\u001b[0m\u001b[0moutputs\u001b[0m\u001b[0;34m,\u001b[0m \u001b[0mtargets\u001b[0m\u001b[0;34m)\u001b[0m\u001b[0;34m\u001b[0m\u001b[0;34m\u001b[0m\u001b[0m\n\u001b[1;32m    381\u001b[0m \u001b[0;34m\u001b[0m\u001b[0m\n",
            "\u001b[0;32m/usr/local/lib/python3.11/dist-packages/torch/nn/modules/module.py\u001b[0m in \u001b[0;36m_wrapped_call_impl\u001b[0;34m(self, *args, **kwargs)\u001b[0m\n\u001b[1;32m   1737\u001b[0m             \u001b[0;32mreturn\u001b[0m \u001b[0mself\u001b[0m\u001b[0;34m.\u001b[0m\u001b[0m_compiled_call_impl\u001b[0m\u001b[0;34m(\u001b[0m\u001b[0;34m*\u001b[0m\u001b[0margs\u001b[0m\u001b[0;34m,\u001b[0m \u001b[0;34m**\u001b[0m\u001b[0mkwargs\u001b[0m\u001b[0;34m)\u001b[0m  \u001b[0;31m# type: ignore[misc]\u001b[0m\u001b[0;34m\u001b[0m\u001b[0;34m\u001b[0m\u001b[0m\n\u001b[1;32m   1738\u001b[0m         \u001b[0;32melse\u001b[0m\u001b[0;34m:\u001b[0m\u001b[0;34m\u001b[0m\u001b[0;34m\u001b[0m\u001b[0m\n\u001b[0;32m-> 1739\u001b[0;31m             \u001b[0;32mreturn\u001b[0m \u001b[0mself\u001b[0m\u001b[0;34m.\u001b[0m\u001b[0m_call_impl\u001b[0m\u001b[0;34m(\u001b[0m\u001b[0;34m*\u001b[0m\u001b[0margs\u001b[0m\u001b[0;34m,\u001b[0m \u001b[0;34m**\u001b[0m\u001b[0mkwargs\u001b[0m\u001b[0;34m)\u001b[0m\u001b[0;34m\u001b[0m\u001b[0;34m\u001b[0m\u001b[0m\n\u001b[0m\u001b[1;32m   1740\u001b[0m \u001b[0;34m\u001b[0m\u001b[0m\n\u001b[1;32m   1741\u001b[0m     \u001b[0;31m# torchrec tests the code consistency with the following code\u001b[0m\u001b[0;34m\u001b[0m\u001b[0;34m\u001b[0m\u001b[0m\n",
            "\u001b[0;32m/usr/local/lib/python3.11/dist-packages/torch/nn/modules/module.py\u001b[0m in \u001b[0;36m_call_impl\u001b[0;34m(self, *args, **kwargs)\u001b[0m\n\u001b[1;32m   1748\u001b[0m                 \u001b[0;32mor\u001b[0m \u001b[0m_global_backward_pre_hooks\u001b[0m \u001b[0;32mor\u001b[0m \u001b[0m_global_backward_hooks\u001b[0m\u001b[0;34m\u001b[0m\u001b[0;34m\u001b[0m\u001b[0m\n\u001b[1;32m   1749\u001b[0m                 or _global_forward_hooks or _global_forward_pre_hooks):\n\u001b[0;32m-> 1750\u001b[0;31m             \u001b[0;32mreturn\u001b[0m \u001b[0mforward_call\u001b[0m\u001b[0;34m(\u001b[0m\u001b[0;34m*\u001b[0m\u001b[0margs\u001b[0m\u001b[0;34m,\u001b[0m \u001b[0;34m**\u001b[0m\u001b[0mkwargs\u001b[0m\u001b[0;34m)\u001b[0m\u001b[0;34m\u001b[0m\u001b[0;34m\u001b[0m\u001b[0m\n\u001b[0m\u001b[1;32m   1751\u001b[0m \u001b[0;34m\u001b[0m\u001b[0m\n\u001b[1;32m   1752\u001b[0m         \u001b[0mresult\u001b[0m \u001b[0;34m=\u001b[0m \u001b[0;32mNone\u001b[0m\u001b[0;34m\u001b[0m\u001b[0;34m\u001b[0m\u001b[0m\n",
            "\u001b[0;32m<ipython-input-18-490a7ea898ec>\u001b[0m in \u001b[0;36mforward\u001b[0;34m(self, x)\u001b[0m\n\u001b[1;32m    321\u001b[0m \u001b[0;34m\u001b[0m\u001b[0m\n\u001b[1;32m    322\u001b[0m         \u001b[0mresidual\u001b[0m \u001b[0;34m=\u001b[0m \u001b[0mself\u001b[0m\u001b[0;34m.\u001b[0m\u001b[0mres_conv2\u001b[0m\u001b[0;34m(\u001b[0m\u001b[0mx\u001b[0m\u001b[0;34m)\u001b[0m \u001b[0;31m# Adjust residual using 1x1 convolution\u001b[0m\u001b[0;34m\u001b[0m\u001b[0;34m\u001b[0m\u001b[0m\n\u001b[0;32m--> 323\u001b[0;31m         \u001b[0mx\u001b[0m \u001b[0;34m=\u001b[0m \u001b[0mself\u001b[0m\u001b[0;34m.\u001b[0m\u001b[0mmish\u001b[0m\u001b[0;34m(\u001b[0m\u001b[0mself\u001b[0m\u001b[0;34m.\u001b[0m\u001b[0mbn2\u001b[0m\u001b[0;34m(\u001b[0m\u001b[0mself\u001b[0m\u001b[0;34m.\u001b[0m\u001b[0mconv2\u001b[0m\u001b[0;34m(\u001b[0m\u001b[0mx\u001b[0m\u001b[0;34m)\u001b[0m\u001b[0;34m)\u001b[0m\u001b[0;34m)\u001b[0m\u001b[0;34m\u001b[0m\u001b[0;34m\u001b[0m\u001b[0m\n\u001b[0m\u001b[1;32m    324\u001b[0m         \u001b[0mx\u001b[0m \u001b[0;34m=\u001b[0m \u001b[0mself\u001b[0m\u001b[0;34m.\u001b[0m\u001b[0mse2\u001b[0m\u001b[0;34m(\u001b[0m\u001b[0mx\u001b[0m\u001b[0;34m)\u001b[0m \u001b[0;34m+\u001b[0m \u001b[0mresidual\u001b[0m  \u001b[0;31m# Skip connection\u001b[0m\u001b[0;34m\u001b[0m\u001b[0;34m\u001b[0m\u001b[0m\n\u001b[1;32m    325\u001b[0m \u001b[0;34m\u001b[0m\u001b[0m\n",
            "\u001b[0;32m/usr/local/lib/python3.11/dist-packages/torch/nn/modules/module.py\u001b[0m in \u001b[0;36m_wrapped_call_impl\u001b[0;34m(self, *args, **kwargs)\u001b[0m\n\u001b[1;32m   1737\u001b[0m             \u001b[0;32mreturn\u001b[0m \u001b[0mself\u001b[0m\u001b[0;34m.\u001b[0m\u001b[0m_compiled_call_impl\u001b[0m\u001b[0;34m(\u001b[0m\u001b[0;34m*\u001b[0m\u001b[0margs\u001b[0m\u001b[0;34m,\u001b[0m \u001b[0;34m**\u001b[0m\u001b[0mkwargs\u001b[0m\u001b[0;34m)\u001b[0m  \u001b[0;31m# type: ignore[misc]\u001b[0m\u001b[0;34m\u001b[0m\u001b[0;34m\u001b[0m\u001b[0m\n\u001b[1;32m   1738\u001b[0m         \u001b[0;32melse\u001b[0m\u001b[0;34m:\u001b[0m\u001b[0;34m\u001b[0m\u001b[0;34m\u001b[0m\u001b[0m\n\u001b[0;32m-> 1739\u001b[0;31m             \u001b[0;32mreturn\u001b[0m \u001b[0mself\u001b[0m\u001b[0;34m.\u001b[0m\u001b[0m_call_impl\u001b[0m\u001b[0;34m(\u001b[0m\u001b[0;34m*\u001b[0m\u001b[0margs\u001b[0m\u001b[0;34m,\u001b[0m \u001b[0;34m**\u001b[0m\u001b[0mkwargs\u001b[0m\u001b[0;34m)\u001b[0m\u001b[0;34m\u001b[0m\u001b[0;34m\u001b[0m\u001b[0m\n\u001b[0m\u001b[1;32m   1740\u001b[0m \u001b[0;34m\u001b[0m\u001b[0m\n\u001b[1;32m   1741\u001b[0m     \u001b[0;31m# torchrec tests the code consistency with the following code\u001b[0m\u001b[0;34m\u001b[0m\u001b[0;34m\u001b[0m\u001b[0m\n",
            "\u001b[0;32m/usr/local/lib/python3.11/dist-packages/torch/nn/modules/module.py\u001b[0m in \u001b[0;36m_call_impl\u001b[0;34m(self, *args, **kwargs)\u001b[0m\n\u001b[1;32m   1748\u001b[0m                 \u001b[0;32mor\u001b[0m \u001b[0m_global_backward_pre_hooks\u001b[0m \u001b[0;32mor\u001b[0m \u001b[0m_global_backward_hooks\u001b[0m\u001b[0;34m\u001b[0m\u001b[0;34m\u001b[0m\u001b[0m\n\u001b[1;32m   1749\u001b[0m                 or _global_forward_hooks or _global_forward_pre_hooks):\n\u001b[0;32m-> 1750\u001b[0;31m             \u001b[0;32mreturn\u001b[0m \u001b[0mforward_call\u001b[0m\u001b[0;34m(\u001b[0m\u001b[0;34m*\u001b[0m\u001b[0margs\u001b[0m\u001b[0;34m,\u001b[0m \u001b[0;34m**\u001b[0m\u001b[0mkwargs\u001b[0m\u001b[0;34m)\u001b[0m\u001b[0;34m\u001b[0m\u001b[0;34m\u001b[0m\u001b[0m\n\u001b[0m\u001b[1;32m   1751\u001b[0m \u001b[0;34m\u001b[0m\u001b[0m\n\u001b[1;32m   1752\u001b[0m         \u001b[0mresult\u001b[0m \u001b[0;34m=\u001b[0m \u001b[0;32mNone\u001b[0m\u001b[0;34m\u001b[0m\u001b[0;34m\u001b[0m\u001b[0m\n",
            "\u001b[0;32m/usr/local/lib/python3.11/dist-packages/torch/nn/modules/batchnorm.py\u001b[0m in \u001b[0;36mforward\u001b[0;34m(self, input)\u001b[0m\n\u001b[1;32m    191\u001b[0m         \u001b[0mused\u001b[0m \u001b[0;32mfor\u001b[0m \u001b[0mnormalization\u001b[0m \u001b[0;34m(\u001b[0m\u001b[0mi\u001b[0m\u001b[0;34m.\u001b[0m\u001b[0me\u001b[0m\u001b[0;34m.\u001b[0m \u001b[0;32min\u001b[0m \u001b[0meval\u001b[0m \u001b[0mmode\u001b[0m \u001b[0mwhen\u001b[0m \u001b[0mbuffers\u001b[0m \u001b[0mare\u001b[0m \u001b[0;32mnot\u001b[0m \u001b[0;32mNone\u001b[0m\u001b[0;34m)\u001b[0m\u001b[0;34m.\u001b[0m\u001b[0;34m\u001b[0m\u001b[0;34m\u001b[0m\u001b[0m\n\u001b[1;32m    192\u001b[0m         \"\"\"\n\u001b[0;32m--> 193\u001b[0;31m         return F.batch_norm(\n\u001b[0m\u001b[1;32m    194\u001b[0m             \u001b[0minput\u001b[0m\u001b[0;34m,\u001b[0m\u001b[0;34m\u001b[0m\u001b[0;34m\u001b[0m\u001b[0m\n\u001b[1;32m    195\u001b[0m             \u001b[0;31m# If buffers are not to be tracked, ensure that they won't be updated\u001b[0m\u001b[0;34m\u001b[0m\u001b[0;34m\u001b[0m\u001b[0m\n",
            "\u001b[0;32m/usr/local/lib/python3.11/dist-packages/torch/nn/functional.py\u001b[0m in \u001b[0;36mbatch_norm\u001b[0;34m(input, running_mean, running_var, weight, bias, training, momentum, eps)\u001b[0m\n\u001b[1;32m   2820\u001b[0m         \u001b[0m_verify_batch_size\u001b[0m\u001b[0;34m(\u001b[0m\u001b[0minput\u001b[0m\u001b[0;34m.\u001b[0m\u001b[0msize\u001b[0m\u001b[0;34m(\u001b[0m\u001b[0;34m)\u001b[0m\u001b[0;34m)\u001b[0m\u001b[0;34m\u001b[0m\u001b[0;34m\u001b[0m\u001b[0m\n\u001b[1;32m   2821\u001b[0m \u001b[0;34m\u001b[0m\u001b[0m\n\u001b[0;32m-> 2822\u001b[0;31m     return torch.batch_norm(\n\u001b[0m\u001b[1;32m   2823\u001b[0m         \u001b[0minput\u001b[0m\u001b[0;34m,\u001b[0m\u001b[0;34m\u001b[0m\u001b[0;34m\u001b[0m\u001b[0m\n\u001b[1;32m   2824\u001b[0m         \u001b[0mweight\u001b[0m\u001b[0;34m,\u001b[0m\u001b[0;34m\u001b[0m\u001b[0;34m\u001b[0m\u001b[0m\n",
            "\u001b[0;31mOutOfMemoryError\u001b[0m: CUDA out of memory. Tried to allocate 128.00 MiB. GPU 0 has a total capacity of 14.74 GiB of which 68.12 MiB is free. Process 65372 has 14.67 GiB memory in use. Of the allocated memory 14.47 GiB is allocated by PyTorch, and 81.66 MiB is reserved by PyTorch but unallocated. If reserved but unallocated memory is large try setting PYTORCH_CUDA_ALLOC_CONF=expandable_segments:True to avoid fragmentation.  See documentation for Memory Management  (https://pytorch.org/docs/stable/notes/cuda.html#environment-variables)"
          ]
        }
      ]
    }
  ],
  "metadata": {
    "kernelspec": {
      "display_name": "Python 3",
      "name": "python3"
    },
    "language_info": {
      "codemirror_mode": {
        "name": "ipython",
        "version": 3
      },
      "file_extension": ".py",
      "mimetype": "text/x-python",
      "name": "python",
      "nbconvert_exporter": "python",
      "pygments_lexer": "ipython3",
      "version": "3.8.5"
    },
    "colab": {
      "provenance": [],
      "gpuType": "T4",
      "collapsed_sections": [
        "LfqOftJn9db2"
      ],
      "include_colab_link": true
    },
    "accelerator": "GPU"
  },
  "nbformat": 4,
  "nbformat_minor": 0
}