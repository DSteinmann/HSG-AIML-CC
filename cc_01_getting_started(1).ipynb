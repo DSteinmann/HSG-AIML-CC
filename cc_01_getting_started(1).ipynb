{
  "cells": [
    {
      "cell_type": "markdown",
      "metadata": {
        "id": "view-in-github",
        "colab_type": "text"
      },
      "source": [
        "<a href=\"https://colab.research.google.com/github/DSteinmann/HSG-AIML-CC/blob/AP/cc_01_getting_started(1).ipynb\" target=\"_parent\"><img src=\"https://colab.research.google.com/assets/colab-badge.svg\" alt=\"Open In Colab\"/></a>"
      ]
    },
    {
      "cell_type": "markdown",
      "metadata": {
        "id": "TlkvJFLn1qkv"
      },
      "source": [
        "<img align=\"center\" style=\"max-width: 900px; height: auto\" src=\"../assets/banner.png\">"
      ]
    },
    {
      "cell_type": "markdown",
      "metadata": {
        "id": "qAtFjzCe1qk1"
      },
      "source": [
        "###  Coding Challenge - Getting Started\n",
        "\n",
        "<img align=\"right\" style=\"max-width: 200px; height: auto\" src=\"./hsg_logo.png\">\n",
        "<img align=\"center\" style=\"max-width: 300px; height: auto\" src=\"./sentinel2.jpg\">\n",
        "\n",
        "8,860,1.00 MCS Machine Learning, Spring Term 2025, University of St.Gallen (HSG)\n",
        "\n",
        "The lab environment of the **8,860,1.00 Machine Learning** course is powered by Jupyter Notebooks (https://jupyter.org), which allows one to perform a great deal of data analysis and statistical validation. In this first lab, we want to touch on the basic concepts and techniques of such notebooks. Furthermore, its capabilities will be demonstrated based on a few simple and introductory examples."
      ]
    },
    {
      "cell_type": "markdown",
      "metadata": {
        "id": "oYBfEShq1qk3"
      },
      "source": [
        "### Objectives:"
      ]
    },
    {
      "cell_type": "markdown",
      "metadata": {
        "id": "MgbexNqy1qk4"
      },
      "source": [
        "With the help of this notebook you should be able to:\n",
        "    \n",
        "> 1. Understand the basic funcitonality of the rasterio framework\n",
        "> 2. Apply rasterio to load GTiff data\n",
        "> 3. Visualize multi-band satellite imagery\n",
        "> 4. Perform basic band arithmetic to compute the normalized difference vegetation index (NDVI)\n",
        "> 5. Load and display samples from the challenge testset"
      ]
    },
    {
      "cell_type": "markdown",
      "metadata": {
        "id": "wghMZeTe1qk4"
      },
      "source": [
        "## 2. Setup of the Jupyter Notebook Environment"
      ]
    },
    {
      "cell_type": "markdown",
      "metadata": {
        "id": "EtxehxAC1qk5"
      },
      "source": [
        "Similar to the previous labs, we need to import a couple of Python libraries that allow for data analysis and data visualization. We will use `os` and `glob` to collect the filepaths for the data samples, `numpy` for array operations, `matplotlib` to display images, and `rasterio` to handle raster data. You can find the documentation of the `rasterio` library with an overview of its functionality [here](https://rasterio.readthedocs.io)."
      ]
    },
    {
      "cell_type": "code",
      "source": [
        "\n",
        "\n",
        "!pip install rasterio\n",
        "import os\n",
        "import glob\n",
        "import numpy as np\n",
        "import rasterio as rio\n",
        "from rasterio.plot import reshape_as_image\n",
        "import matplotlib.pyplot as plt\n",
        "%matplotlib inline\n",
        "\n"
      ],
      "metadata": {
        "colab": {
          "base_uri": "https://localhost:8080/"
        },
        "id": "GsBs_Nke2rb5",
        "outputId": "cb521f83-9cf6-4be7-83d0-9d92a6f7768b"
      },
      "execution_count": null,
      "outputs": [
        {
          "output_type": "stream",
          "name": "stdout",
          "text": [
            "Collecting rasterio\n",
            "  Downloading rasterio-1.4.3-cp311-cp311-manylinux_2_17_x86_64.manylinux2014_x86_64.whl.metadata (9.1 kB)\n",
            "Collecting affine (from rasterio)\n",
            "  Downloading affine-2.4.0-py3-none-any.whl.metadata (4.0 kB)\n",
            "Requirement already satisfied: attrs in /usr/local/lib/python3.11/dist-packages (from rasterio) (25.3.0)\n",
            "Requirement already satisfied: certifi in /usr/local/lib/python3.11/dist-packages (from rasterio) (2025.1.31)\n",
            "Requirement already satisfied: click>=4.0 in /usr/local/lib/python3.11/dist-packages (from rasterio) (8.1.8)\n",
            "Collecting cligj>=0.5 (from rasterio)\n",
            "  Downloading cligj-0.7.2-py3-none-any.whl.metadata (5.0 kB)\n",
            "Requirement already satisfied: numpy>=1.24 in /usr/local/lib/python3.11/dist-packages (from rasterio) (2.0.2)\n",
            "Collecting click-plugins (from rasterio)\n",
            "  Downloading click_plugins-1.1.1-py2.py3-none-any.whl.metadata (6.4 kB)\n",
            "Requirement already satisfied: pyparsing in /usr/local/lib/python3.11/dist-packages (from rasterio) (3.2.1)\n",
            "Downloading rasterio-1.4.3-cp311-cp311-manylinux_2_17_x86_64.manylinux2014_x86_64.whl (22.2 MB)\n",
            "\u001b[2K   \u001b[90m━━━━━━━━━━━━━━━━━━━━━━━━━━━━━━━━━━━━━━━━\u001b[0m \u001b[32m22.2/22.2 MB\u001b[0m \u001b[31m28.1 MB/s\u001b[0m eta \u001b[36m0:00:00\u001b[0m\n",
            "\u001b[?25hDownloading cligj-0.7.2-py3-none-any.whl (7.1 kB)\n",
            "Downloading affine-2.4.0-py3-none-any.whl (15 kB)\n",
            "Downloading click_plugins-1.1.1-py2.py3-none-any.whl (7.5 kB)\n",
            "Installing collected packages: cligj, click-plugins, affine, rasterio\n",
            "Successfully installed affine-2.4.0 click-plugins-1.1.1 cligj-0.7.2 rasterio-1.4.3\n"
          ]
        }
      ]
    },
    {
      "cell_type": "markdown",
      "metadata": {
        "id": "_YwfNLbV1qk8"
      },
      "source": [
        "### Dataset Download\n",
        "<img align=\"center\" style=\"max-width: 300px; height: auto\" src=\"./eurosat.png\">"
      ]
    },
    {
      "cell_type": "markdown",
      "metadata": {
        "id": "9RcltHDK1qk9"
      },
      "source": [
        "The Eurosat dataset is available on [github](https://github.com/phelber/EuroSAT). You can download and unpack the data from there. Note that this repository includes RGB and multi-spectral versions of Eurosat. Note that the testdata is multi-spectral.\n",
        "\n",
        "The multi-spectral (MS) version can be downloaded with the following command:"
      ]
    },
    {
      "cell_type": "code",
      "execution_count": null,
      "metadata": {
        "colab": {
          "base_uri": "https://localhost:8080/"
        },
        "id": "gTIhnQqQ1qk-",
        "outputId": "c6639e04-9e3d-455d-f787-810473114ee4"
      },
      "outputs": [
        {
          "output_type": "stream",
          "name": "stdout",
          "text": [
            "--2025-03-21 07:22:43--  https://madm.dfki.de/files/sentinel/EuroSATallBands.zip\n",
            "Resolving madm.dfki.de (madm.dfki.de)... 131.246.195.183\n",
            "Connecting to madm.dfki.de (madm.dfki.de)|131.246.195.183|:443... connected.\n",
            "WARNING: cannot verify madm.dfki.de's certificate, issued by ‘CN=GEANT OV RSA CA 4,O=GEANT Vereniging,C=NL’:\n",
            "  Unable to locally verify the issuer's authority.\n",
            "HTTP request sent, awaiting response... 200 OK\n",
            "Length: 2067725275 (1.9G) [application/zip]\n",
            "Saving to: ‘EuroSATallBands.zip’\n",
            "\n",
            "EuroSATallBands.zip 100%[===================>]   1.92G  67.7MB/s    in 28s     \n",
            "\n",
            "2025-03-21 07:23:11 (69.8 MB/s) - ‘EuroSATallBands.zip’ saved [2067725275/2067725275]\n",
            "\n"
          ]
        }
      ],
      "source": [
        "\n",
        "\n",
        "!wget https://madm.dfki.de/files/sentinel/EuroSATallBands.zip --no-check-certificate\n",
        "\n"
      ]
    },
    {
      "cell_type": "code",
      "source": [
        "#unzip file\n",
        "!unzip -q EuroSATallBands.zip"
      ],
      "metadata": {
        "id": "fa13l5lb2yUK"
      },
      "execution_count": null,
      "outputs": []
    },
    {
      "cell_type": "markdown",
      "metadata": {
        "id": "QZbQXgf41qk_"
      },
      "source": [
        "### Eurosat classes\n",
        "\n",
        "The class-labels can be derived from the directory structure of the downloaded `zip` file. The 10 classes are as follows:"
      ]
    },
    {
      "cell_type": "code",
      "execution_count": null,
      "metadata": {
        "id": "mgYfNLBq1qk_"
      },
      "outputs": [],
      "source": [
        "classes = [\n",
        "    \"AnnualCrop\",\n",
        "    \"Forest\",\n",
        "    \"HerbaceousVegetation\",\n",
        "    \"Highway\",\n",
        "    \"Industrial\",\n",
        "    \"Pasture\",\n",
        "    \"PermanentCrop\",\n",
        "    \"Residential\",\n",
        "    \"River\",\n",
        "    \"SeaLake\",\n",
        "]"
      ]
    },
    {
      "cell_type": "markdown",
      "metadata": {
        "id": "DuKCnhYw1qlA"
      },
      "source": [
        "### Data visualization\n",
        "Let's define a function to visualize the Eurosat data with `matplotlib`. In the 13-band multispectral images of Sentinel-2, the 13 values of each pixel correspond to the reflectance values at different wavelengths. These numbers are not normalized for visualization with `matplotlib`, which expects inputs to be `int` in the `[0-255]` or `float` in the `[0.-1.]` range."
      ]
    },
    {
      "cell_type": "code",
      "execution_count": null,
      "metadata": {
        "id": "aUIXASA-1qlB"
      },
      "outputs": [],
      "source": [
        "def normalize_for_display(band_data):\n",
        "    \"\"\"Normalize multi-spectral imagery across bands.\n",
        "    The input is expected to be in HxWxC format, e.g. 64x64x13.\n",
        "    To account for outliers (e.g. extremly high values due to\n",
        "    reflective surfaces), we normalize with the 2- and 98-percentiles\n",
        "    instead of minimum and maximum of each band.\n",
        "    \"\"\"\n",
        "    band_data = np.array(band_data)\n",
        "    lower_perc = np.percentile(band_data, 2, axis=(0,1))\n",
        "    upper_perc = np.percentile(band_data, 98, axis=(0,1))\n",
        "\n",
        "    return (band_data - lower_perc) / (upper_perc - lower_perc)"
      ]
    },
    {
      "cell_type": "markdown",
      "metadata": {
        "id": "hEkQBuC71qlB"
      },
      "source": [
        "## EuroSat Data Loading\n",
        "\n",
        "First, let's collect all the files that we downloaded"
      ]
    },
    {
      "cell_type": "code",
      "execution_count": null,
      "metadata": {
        "id": "jUJzIoYK1qlC"
      },
      "outputs": [],
      "source": [
        "# change this to your eurosat path\n",
        "eurosat_dir = \"./ds/images/remote_sensing/otherDatasets/sentinel_2/tif\""
      ]
    },
    {
      "cell_type": "code",
      "execution_count": null,
      "metadata": {
        "colab": {
          "base_uri": "https://localhost:8080/"
        },
        "id": "vTM9nEeX1qlC",
        "outputId": "c5672e2b-146a-445b-93e0-03a79ccaa890"
      },
      "outputs": [
        {
          "output_type": "execute_result",
          "data": {
            "text/plain": [
              "27000"
            ]
          },
          "metadata": {},
          "execution_count": 7
        }
      ],
      "source": [
        "samples = glob.glob(os.path.join(eurosat_dir, \"*\", \"*.tif\"))\n",
        "len(samples)"
      ]
    },
    {
      "cell_type": "markdown",
      "metadata": {
        "id": "P6tqcZHD1qlD"
      },
      "source": [
        "We have 27,000 files across 10 classes.\n",
        "\n",
        "Let's load one of those multi-spectral images and try to visualize it."
      ]
    },
    {
      "cell_type": "code",
      "execution_count": null,
      "metadata": {
        "id": "qyety4rx1qlD"
      },
      "outputs": [],
      "source": [
        "sample_idx = 1\n",
        "sample = samples[sample_idx]\n",
        "label = sample.split('/')[-1].split('_')[0]"
      ]
    },
    {
      "cell_type": "markdown",
      "metadata": {
        "id": "aj2PM1401qlE"
      },
      "source": [
        "We can use `rasterio.open` to open the `GTiff` file. We can then `read` from the file. By default `read()` without arguments will load all bands. Individual bands can be specified as a list with one-based indices. Therefore, the RGB bands can be read with `read([4,3,2])`."
      ]
    },
    {
      "cell_type": "code",
      "execution_count": null,
      "metadata": {
        "colab": {
          "base_uri": "https://localhost:8080/"
        },
        "id": "SY2uNJfd1qlF",
        "outputId": "4ad9b512-8bb9-4088-c5c4-4b2f75826995"
      },
      "outputs": [
        {
          "output_type": "execute_result",
          "data": {
            "text/plain": [
              "(13, 64, 64)"
            ]
          },
          "metadata": {},
          "execution_count": 9
        }
      ],
      "source": [
        "with rio.open(sample, \"r\") as d:\n",
        "    # img = d.read() # read all bands\n",
        "\n",
        "    # read specific bands:\n",
        "    # B1,B2,B3,B4,B5,B6,B7,B8,B8A,B9,B10,B11,B12\n",
        "    img = d.read([1,2,3,4,5,6,7,8,9,10,11,12,13])\n",
        "\n",
        "img.shape"
      ]
    },
    {
      "cell_type": "markdown",
      "metadata": {
        "id": "3qNBe1_01qlG"
      },
      "source": [
        "We load the data into the `img` variable. This results in a `numpy` array with shape `(13,64,64)`, i.e. `CxHxW`. This differs from the convention of most image libraries like `matplotlib`, which work on image data in the `HxWxC` orientation. `rasterio` provides a function to easily fix this:"
      ]
    },
    {
      "cell_type": "code",
      "execution_count": null,
      "metadata": {
        "colab": {
          "base_uri": "https://localhost:8080/"
        },
        "id": "wgyPcHsO1qlG",
        "outputId": "73e498dd-1afb-44d7-a66a-2fddfb71e2df"
      },
      "outputs": [
        {
          "output_type": "execute_result",
          "data": {
            "text/plain": [
              "(64, 64, 13)"
            ]
          },
          "metadata": {},
          "execution_count": 10
        }
      ],
      "source": [
        "img = reshape_as_image(img)\n",
        "img.shape"
      ]
    },
    {
      "cell_type": "markdown",
      "metadata": {
        "id": "k2HZWMNe1qlH"
      },
      "source": [
        "Now let's normalize the data."
      ]
    },
    {
      "cell_type": "code",
      "execution_count": null,
      "metadata": {
        "id": "dqT36ShH1qlI"
      },
      "outputs": [],
      "source": [
        "normalized_img = normalize_for_display(img)"
      ]
    },
    {
      "cell_type": "markdown",
      "metadata": {
        "id": "Ho7qn79h1qlI"
      },
      "source": [
        "Finally, we can extract the RGB bands and visualize them with `matplotlib`."
      ]
    },
    {
      "cell_type": "code",
      "execution_count": null,
      "metadata": {
        "id": "mDY5DLWg1qlJ"
      },
      "outputs": [],
      "source": [
        "rgb_img = normalized_img[:, :, [3,2,1]]"
      ]
    },
    {
      "cell_type": "code",
      "execution_count": null,
      "metadata": {
        "colab": {
          "base_uri": "https://localhost:8080/",
          "height": 544
        },
        "id": "njlwPx-w1qlK",
        "outputId": "377915cc-6e60-4997-9948-75793595de96"
      },
      "outputs": [
        {
          "output_type": "stream",
          "name": "stderr",
          "text": [
            "WARNING:matplotlib.image:Clipping input data to the valid range for imshow with RGB data ([0..1] for floats or [0..255] for integers). Got range [-0.3283532536520584..2.4676616915422884].\n"
          ]
        },
        {
          "output_type": "display_data",
          "data": {
            "text/plain": [
              "<Figure size 500x500 with 1 Axes>"
            ],
            "image/png": "[encoded data removed]"
          },
          "metadata": {}
        }
      ],
      "source": [
        "fig, ax = plt.subplots(1, figsize=(5,5))\n",
        "ax.imshow(rgb_img)\n",
        "ax.set_title(f\"{label}\")\n",
        "ax.axis(False)\n",
        "plt.tight_layout()\n",
        "\n",
        "plt.show()"
      ]
    },
    {
      "cell_type": "markdown",
      "metadata": {
        "id": "_jHUvgTC1qlK"
      },
      "source": [
        "Note the `matplotlib` warning. Since we normalized the data by percentiles instead of maximum and minimum some (rare) pixels exceed the `[0.-1.]` range that `matplotlib` can handle. In such cases, the values are clipped to `1.`."
      ]
    },
    {
      "cell_type": "markdown",
      "metadata": {
        "id": "63ghRvfE1qlL"
      },
      "source": [
        "# Testset Data Loading\n",
        "\n",
        "The testset has a slightly different structure than Eurosat. There are no labels and the data is stored in `numpy` `.npy` instead of GTiff.\n",
        "\n",
        "First, we have to download the data from [Kaggle](https://www.kaggle.com/competitions/8-860-1-00-coding-challenge-2025/data)."
      ]
    },
    {
      "cell_type": "code",
      "source": [
        "!pip install kaggle\n",
        "!kaggle competitions download -c 8-860-1-00-coding-challenge-2025\n",
        "#unzip\n",
        "!unzip -q 8-860-1-00-coding-challenge-2025.zip"
      ],
      "metadata": {
        "colab": {
          "base_uri": "https://localhost:8080/"
        },
        "id": "wQt2V7nz3AY8",
        "outputId": "b0e54dc9-dc03-4b32-8902-dae2c166e8b4"
      },
      "execution_count": null,
      "outputs": [
        {
          "output_type": "stream",
          "name": "stdout",
          "text": [
            "Requirement already satisfied: kaggle in /usr/local/lib/python3.11/dist-packages (1.7.4.2)\n",
            "Requirement already satisfied: bleach in /usr/local/lib/python3.11/dist-packages (from kaggle) (6.2.0)\n",
            "Requirement already satisfied: certifi>=14.05.14 in /usr/local/lib/python3.11/dist-packages (from kaggle) (2025.1.31)\n",
            "Requirement already satisfied: charset-normalizer in /usr/local/lib/python3.11/dist-packages (from kaggle) (3.4.1)\n",
            "Requirement already satisfied: idna in /usr/local/lib/python3.11/dist-packages (from kaggle) (3.10)\n",
            "Requirement already satisfied: protobuf in /usr/local/lib/python3.11/dist-packages (from kaggle) (5.29.3)\n",
            "Requirement already satisfied: python-dateutil>=2.5.3 in /usr/local/lib/python3.11/dist-packages (from kaggle) (2.8.2)\n",
            "Requirement already satisfied: python-slugify in /usr/local/lib/python3.11/dist-packages (from kaggle) (8.0.4)\n",
            "Requirement already satisfied: requests in /usr/local/lib/python3.11/dist-packages (from kaggle) (2.32.3)\n",
            "Requirement already satisfied: setuptools>=21.0.0 in /usr/local/lib/python3.11/dist-packages (from kaggle) (75.1.0)\n",
            "Requirement already satisfied: six>=1.10 in /usr/local/lib/python3.11/dist-packages (from kaggle) (1.17.0)\n",
            "Requirement already satisfied: text-unidecode in /usr/local/lib/python3.11/dist-packages (from kaggle) (1.3)\n",
            "Requirement already satisfied: tqdm in /usr/local/lib/python3.11/dist-packages (from kaggle) (4.67.1)\n",
            "Requirement already satisfied: urllib3>=1.15.1 in /usr/local/lib/python3.11/dist-packages (from kaggle) (2.3.0)\n",
            "Requirement already satisfied: webencodings in /usr/local/lib/python3.11/dist-packages (from kaggle) (0.5.1)\n",
            "Warning: Your Kaggle API key is readable by other users on this system! To fix this, you can run 'chmod 600 /root/.config/kaggle/kaggle.json'\n"
          ]
        }
      ]
    },
    {
      "cell_type": "code",
      "execution_count": null,
      "metadata": {
        "colab": {
          "base_uri": "https://localhost:8080/"
        },
        "id": "yhnNRF_l1qlL",
        "outputId": "7fdafd09-6013-4641-caf1-5f548085e702"
      },
      "outputs": [
        {
          "output_type": "execute_result",
          "data": {
            "text/plain": [
              "4232"
            ]
          },
          "metadata": {},
          "execution_count": 29
        }
      ],
      "source": [
        "testset_dir = os.path.join(\"./testset/\", \"testset\")\n",
        "test_samples = glob.glob(os.path.join(testset_dir, \"*.npy\"))\n",
        "len(test_samples)"
      ]
    },
    {
      "cell_type": "markdown",
      "metadata": {
        "id": "S4Fa6Ed71qlM"
      },
      "source": [
        "Now let's visualize a sample as we did for Eurosat"
      ]
    },
    {
      "cell_type": "code",
      "execution_count": null,
      "metadata": {
        "id": "m89IZUYd1qlM"
      },
      "outputs": [],
      "source": [
        "test_idx = 0"
      ]
    },
    {
      "cell_type": "code",
      "execution_count": null,
      "metadata": {
        "colab": {
          "base_uri": "https://localhost:8080/"
        },
        "id": "qkPK1WsP1qlN",
        "outputId": "9e46041c-89c9-4987-cd99-667cf715bc86"
      },
      "outputs": [
        {
          "output_type": "execute_result",
          "data": {
            "text/plain": [
              "(64, 64, 12)"
            ]
          },
          "metadata": {},
          "execution_count": 31
        }
      ],
      "source": [
        "test_img = np.load(test_samples[test_idx])\n",
        "test_img.shape"
      ]
    },
    {
      "cell_type": "markdown",
      "metadata": {
        "id": "8veDLqYM1qlO"
      },
      "source": [
        "Then normalize the data and extract RGB channels"
      ]
    },
    {
      "cell_type": "code",
      "execution_count": null,
      "metadata": {
        "id": "vnVkpjZr1qlO"
      },
      "outputs": [],
      "source": [
        "normalized_img = normalize_for_display(test_img)"
      ]
    },
    {
      "cell_type": "code",
      "execution_count": null,
      "metadata": {
        "id": "m4r-jrEn1qlO"
      },
      "outputs": [],
      "source": [
        "rgb_img = normalized_img[:, :, [3,2,1]]"
      ]
    },
    {
      "cell_type": "code",
      "execution_count": null,
      "metadata": {
        "colab": {
          "base_uri": "https://localhost:8080/",
          "height": 544
        },
        "id": "7142JHce1qlP",
        "outputId": "80fa2a45-f1df-4da6-c72f-fd7960659890"
      },
      "outputs": [
        {
          "output_type": "stream",
          "name": "stderr",
          "text": [
            "WARNING:matplotlib.image:Clipping input data to the valid range for imshow with RGB data ([0..1] for floats or [0..255] for integers). Got range [-0.5098039215686274..1.709090909090909].\n"
          ]
        },
        {
          "output_type": "display_data",
          "data": {
            "text/plain": [
              "<Figure size 500x500 with 1 Axes>"
            ],
            "image/png": "[encoded data removed]"
          },
          "metadata": {}
        }
      ],
      "source": [
        "fig, ax = plt.subplots(1, figsize=(5,5))\n",
        "ax.imshow(rgb_img)\n",
        "ax.set_title(f\"Test sample\")\n",
        "ax.axis(False)\n",
        "plt.tight_layout()\n",
        "\n",
        "plt.show()"
      ]
    },
    {
      "cell_type": "markdown",
      "metadata": {
        "id": "-oBgS7HO1qlQ"
      },
      "source": [
        "### Bonus: Band arithmetic\n",
        "The normalized difference vegetation index, or NDVI, is one of the most useful indices that can be derived from multi-spectral remote sensing data and indicates the presence of live green vegeation in an area.\n",
        "\n",
        "> The pigment in plant leaves, chlorophyll, strongly absorbs visible light (from 400 to 700 nm) for use in photosynthesis. The cell structure of the leaves, on the other hand, strongly reflects near-infrared light (from 700 to 1100 nm).\n",
        "\n",
        "From [Wikipedia](https://en.wikipedia.org/wiki/Normalized_difference_vegetation_index)\n",
        "\n",
        "The NDVI exploits this difference in reflective properties of plants. It is computed as the ratio of the difference with the sum of near-infrared and red color bands. For the Sentinel2 data, this corresponds to the following:\n",
        "\n",
        "`NDVI = (B8-B4)/(B8+B4)`"
      ]
    },
    {
      "cell_type": "code",
      "execution_count": null,
      "metadata": {
        "id": "i5yI62vC1qlS"
      },
      "outputs": [],
      "source": [
        "sample = samples[10]\n",
        "label = sample.split('/')[-1].split('_')[0]\n",
        "\n",
        "with rio.open(sample, \"r\") as d:\n",
        "    img = d.read([1,2,3,4,5,6,7,8,9,10,11,12,13])\n",
        "\n",
        "img = reshape_as_image(img)\n",
        "normalized_img = normalize_for_display(img)\n",
        "rgb_img = normalized_img[:, :, [3,2,1]]"
      ]
    },
    {
      "cell_type": "markdown",
      "metadata": {
        "id": "J4A8Koys1qlS"
      },
      "source": [
        "Extract bands 4 and 8 from the data."
      ]
    },
    {
      "cell_type": "code",
      "execution_count": null,
      "metadata": {
        "id": "XJFZbpRN1qlS"
      },
      "outputs": [],
      "source": [
        "b8 = img[:, :, 7]\n",
        "b4 = img[:, :, 3]"
      ]
    },
    {
      "cell_type": "code",
      "execution_count": null,
      "metadata": {
        "colab": {
          "base_uri": "https://localhost:8080/",
          "height": 523
        },
        "id": "sqOTo6KA1qlT",
        "outputId": "c535039a-3f45-4ba1-af96-d639e38e3a79"
      },
      "outputs": [
        {
          "output_type": "display_data",
          "data": {
            "text/plain": [
              "<Figure size 1000x500 with 2 Axes>"
            ],
            "image/png": "[encoded data removed]"
          },
          "metadata": {}
        }
      ],
      "source": [
        "fig, axs = plt.subplots(1,2, figsize=(10,5))\n",
        "\n",
        "axs[0].imshow(b4, cmap=\"gray\")\n",
        "axs[0].set_title(\"B4\")\n",
        "axs[0].axis(False)\n",
        "\n",
        "axs[1].imshow(b8, cmap=\"gray\")\n",
        "axs[1].set_title(\"B8\")\n",
        "axs[1].axis(False)\n",
        "\n",
        "plt.tight_layout()\n",
        "plt.show()"
      ]
    },
    {
      "cell_type": "markdown",
      "metadata": {
        "id": "6411Labv1qlT"
      },
      "source": [
        "Compute the NDVI:"
      ]
    },
    {
      "cell_type": "code",
      "execution_count": null,
      "metadata": {
        "id": "D2NE3ovH1qlU"
      },
      "outputs": [],
      "source": [
        "ndvi = (b8-b4) / (b8+b4)"
      ]
    },
    {
      "cell_type": "code",
      "execution_count": null,
      "metadata": {
        "colab": {
          "base_uri": "https://localhost:8080/",
          "height": 465
        },
        "id": "Ek5x7QIh1qlU",
        "outputId": "7e8f9c55-900a-4451-b681-e01b7fcd452c"
      },
      "outputs": [
        {
          "output_type": "stream",
          "name": "stderr",
          "text": [
            "WARNING:matplotlib.image:Clipping input data to the valid range for imshow with RGB data ([0..1] for floats or [0..255] for integers). Got range [-0.3635041802980735..4.10032715376227].\n"
          ]
        },
        {
          "output_type": "display_data",
          "data": {
            "text/plain": [
              "<Figure size 1500x500 with 3 Axes>"
            ],
            "image/png": "[encoded data removed]"
          },
          "metadata": {}
        }
      ],
      "source": [
        "fig, (ax1, ax2, ax3) = plt.subplots(1, 3, figsize=(15,5))\n",
        "\n",
        "ax1.imshow(rgb_img)\n",
        "ax1.set_title(f\"{label}\")\n",
        "ax1.axis(False)\n",
        "\n",
        "ax2.imshow(ndvi)\n",
        "ax2.set_title(f\"NDVI\")\n",
        "ax2.axis(False)\n",
        "\n",
        "ax3.imshow(ndvi > .5)\n",
        "ax3.set_title(f\"NDVI > 0.5\")\n",
        "ax3.axis(False)\n",
        "\n",
        "plt.tight_layout()\n",
        "plt.show()"
      ]
    },
    {
      "cell_type": "markdown",
      "metadata": {
        "id": "3oyIG1Ge1qlV"
      },
      "source": [
        "We can easily threshold NDVI values to obtain a segmentation mask of the vegetation in the image."
      ]
    },
    {
      "cell_type": "markdown",
      "metadata": {
        "id": "MdvD957k1qlW"
      },
      "source": [
        "Let's also look at the bands individually."
      ]
    },
    {
      "cell_type": "code",
      "execution_count": null,
      "metadata": {
        "colab": {
          "base_uri": "https://localhost:8080/",
          "height": 1000
        },
        "id": "6Sy2lAom1qlW",
        "outputId": "43404450-a45a-4416-d09e-9c427cc956c9"
      },
      "outputs": [
        {
          "output_type": "display_data",
          "data": {
            "text/plain": [
              "<Figure size 1500x1500 with 16 Axes>"
            ],
            "image/png": "[encoded data removed]"
          },
          "metadata": {}
        }
      ],
      "source": [
        "fig, axs = plt.subplots(4,4, figsize=(15,15))\n",
        "\n",
        "band_idx = 0\n",
        "bands = [\"B1\",\"B2\",\"B3\",\"B4\",\"B5\",\"B6\",\"B7\",\"B8\",\"B8A\",\"B9\",\"B10\",\"B11\",\"B12\"]\n",
        "\n",
        "for i in range(4):\n",
        "    for j in range(4):\n",
        "        if band_idx < 13:\n",
        "            axs[i,j].imshow(normalized_img[:, :, band_idx], cmap=\"gray\")\n",
        "            axs[i,j].set_title(bands[band_idx])\n",
        "        else:\n",
        "            axs[i,j].imshow(np.ones((64,64,3)), cmap=\"gray\")\n",
        "\n",
        "        axs[i,j].axis(False)\n",
        "        band_idx += 1\n",
        "\n",
        "plt.tight_layout()\n",
        "plt.show()"
      ]
    },
    {
      "cell_type": "markdown",
      "metadata": {
        "id": "pK__TB6H1qlX"
      },
      "source": [
        "## Next steps\n",
        "\n",
        "Create a (deep learning) model to predict the most likely Eurosat class for each image of the testset. Think about creating the dataset class and data-loader for training, possible model architectures, and perhaps even how to best address the shift between train and test data."
      ]
    },
    {
      "cell_type": "code",
      "source": [
        "import torch\n",
        "import torch.nn as nn\n",
        "import torch.optim as optim\n",
        "from torch.utils.data import Dataset, DataLoader\n",
        "import torchvision.transforms as transforms\n",
        "import numpy as np\n",
        "\n",
        "import glob\n",
        "from PIL import Image\n",
        "import rasterio as rio\n",
        "from rasterio.plot import reshape_as_image\n",
        "\n",
        "\n",
        "\n",
        "import tensorflow as tf\n",
        "from tensorflow import keras\n",
        "from tensorflow.keras import layers, Input\n",
        "from torchvision import transforms\n",
        "import os\n",
        "\n",
        "from sklearn.model_selection import train_test_split\n",
        "from tensorflow.keras.utils import to_categorical\n"
      ],
      "metadata": {
        "id": "XrYBbC9hq7YX"
      },
      "execution_count": null,
      "outputs": []
    },
    {
      "cell_type": "code",
      "execution_count": null,
      "metadata": {
        "id": "1wV70onk1qlX"
      },
      "outputs": [],
      "source": [
        "import os\n",
        "import numpy as np\n",
        "import tensorflow as tf\n",
        "import rasterio as rio\n",
        "from tensorflow import keras\n",
        "from tensorflow.keras import layers\n",
        "import torchvision.transforms as transforms\n",
        "\n",
        "class EuroDataset:\n",
        "    def __init__(self, data_dir, test_dir, bands_to_exclude=[10], img_size=(64, 64), batch_size=16, num_classes=10):\n",
        "        self.data_dir = data_dir\n",
        "        self.test_dir = test_dir\n",
        "        self.bands_to_exclude = bands_to_exclude\n",
        "        self.img_size = img_size\n",
        "        self.batch_size = batch_size\n",
        "        self.num_classes = num_classes\n",
        "\n",
        "        # Compute mean and std dynamically after removing excluded bands\n",
        "        self.mean_values, self.std_values = self.compute_mean_std()\n",
        "\n",
        "        # Define transformations\n",
        "        self.train_transforms = transforms.Compose([\n",
        "            transforms.RandomHorizontalFlip(),\n",
        "            transforms.RandomVerticalFlip(),\n",
        "            transforms.RandomRotation(degrees=30),\n",
        "            transforms.RandomResizedCrop(size=self.img_size, scale=(0.8, 1.0)),\n",
        "            transforms.Normalize(mean=self.mean_values, std=self.std_values)\n",
        "        ])\n",
        "\n",
        "        self.val_transforms = transforms.Compose([\n",
        "            transforms.Resize(self.img_size),\n",
        "            transforms.Normalize(mean=self.mean_values, std=self.std_values)\n",
        "        ])\n",
        "\n",
        "    def compute_mean_std(self):\n",
        "        \"\"\" Compute mean & std per band, ignoring excluded bands \"\"\"\n",
        "        means, stds = [], []\n",
        "        num_images = 0\n",
        "\n",
        "        for root, _, files in os.walk(self.data_dir):\n",
        "            for file in files:\n",
        "                if file.endswith(\".tif\"):\n",
        "                    img_path = os.path.join(root, file)\n",
        "                    with rio.open(img_path) as img:\n",
        "                        img_array = img.read()  # Shape: (Bands, H, W)\n",
        "\n",
        "                        # Remove excluded bands\n",
        "                        img_array = np.delete(img_array, self.bands_to_exclude, axis=0)\n",
        "\n",
        "                        means.append(np.mean(img_array, axis=(1, 2)))  # Per-band mean\n",
        "                        stds.append(np.std(img_array, axis=(1, 2)))    # Per-band std\n",
        "                        num_images += 1\n",
        "\n",
        "        means = np.mean(np.stack(means), axis=0)\n",
        "        stds = np.mean(np.stack(stds), axis=0)\n",
        "\n",
        "        return means, stds\n",
        "\n",
        "    def process_image(self, img_path):\n",
        "        \"\"\" Load and process an image: remove excluded bands, resize, normalize \"\"\"\n",
        "        img_path = img_path.decode() if isinstance(img_path, bytes) else img_path\n",
        "        with rio.open(img_path) as img:\n",
        "            img_array = img.read()  # Shape: (Bands, H, W)\n",
        "\n",
        "            # Remove B10\n",
        "            img_array = np.delete(img_array, self.bands_to_exclude, axis=0)\n",
        "\n",
        "            img_array = np.transpose(img_array, (1, 2, 0))  # Convert to (H, W, C)\n",
        "            img_array = tf.image.resize(img_array, self.img_size)  # Resize\n",
        "            img_array = (img_array - np.mean(img_array)) / np.std(img_array)  # Normalize\n",
        "\n",
        "            # Enforce correct shape\n",
        "            expected_channels = 12 - len(self.bands_to_exclude)\n",
        "            img_array.set_shape([self.img_size[0], self.img_size[1], expected_channels])\n",
        "\n",
        "        return img_array\n",
        "\n",
        "    def data_generator(self):\n",
        "        \"\"\" Generate training dataset \"\"\"\n",
        "        class_names = sorted(os.listdir(self.data_dir))\n",
        "        file_paths, labels = [], []\n",
        "\n",
        "        for class_idx, class_name in enumerate(class_names):\n",
        "            class_path = os.path.join(self.data_dir, class_name)\n",
        "            if not os.path.isdir(class_path):\n",
        "                continue\n",
        "            for img_name in os.listdir(class_path):\n",
        "                file_paths.append(os.path.join(class_path, img_name))\n",
        "                labels.append(class_idx)\n",
        "\n",
        "        dataset = tf.data.Dataset.from_tensor_slices((file_paths, labels))\n",
        "\n",
        "        def load_image(file_path, label):\n",
        "            img = tf.py_function(lambda x: self.process_image(x.numpy()), [file_path], tf.float32)\n",
        "            img.set_shape([self.img_size[0], self.img_size[1], 11])  # 11 bands after removing B10\n",
        "            return img, tf.one_hot(label, self.num_classes)\n",
        "\n",
        "        dataset = dataset.map(load_image, num_parallel_calls=tf.data.AUTOTUNE)\n",
        "        dataset = dataset.batch(self.batch_size).prefetch(tf.data.AUTOTUNE)\n",
        "        return dataset\n",
        "\n",
        "    def load_test_data(self):\n",
        "        \"\"\" Load test dataset (.npy format) \"\"\"\n",
        "        test_files = [os.path.join(self.test_dir, f) for f in os.listdir(self.test_dir) if f.endswith('.npy')]\n",
        "        processed_images = []\n",
        "\n",
        "        for file_path in test_files:\n",
        "            data = np.load(file_path)  # Load .npy file\n",
        "\n",
        "            # Remove excluded bands (assuming last dimension is channels)\n",
        "            if data.shape[-1] > len(self.bands_to_exclude):\n",
        "                data = np.delete(data, self.bands_to_exclude, axis=-1)\n",
        "            else:\n",
        "                raise ValueError(f\"Invalid shape after band removal in {file_path}: {data.shape}\")\n",
        "\n",
        "            data = tf.image.resize(data, self.img_size)  # Resize\n",
        "            data = (data - np.mean(data)) / np.std(data)  # Standardize\n",
        "\n",
        "            # Convert to tensor and enforce correct shape\n",
        "            data = tf.convert_to_tensor(data, dtype=tf.float32)\n",
        "            data.set_shape([self.img_size[0], self.img_size[1], 11])  # 11 bands\n",
        "\n",
        "            processed_images.append(data)\n",
        "\n",
        "        test_dataset = tf.data.Dataset.from_tensor_slices(processed_images)\n",
        "        test_dataset = test_dataset.batch(self.batch_size).prefetch(tf.data.AUTOTUNE)\n",
        "        return test_dataset\n",
        "\n",
        "class CNN:\n",
        "    def __init__(self, input_shape=(64, 64, 11), num_classes=10):\n",
        "        self.input_shape = input_shape\n",
        "        self.num_classes = num_classes\n",
        "        self.model = self.build_model()\n",
        "\n",
        "    def build_model(self):\n",
        "        \"\"\" Build CNN model \"\"\"\n",
        "        model = keras.Sequential([\n",
        "            layers.Conv2D(32, (3, 3), activation='relu', padding='same', input_shape=self.input_shape),\n",
        "            layers.BatchNormalization(),\n",
        "            layers.MaxPooling2D((2, 2)),\n",
        "            layers.Dropout(0.25),\n",
        "\n",
        "            layers.Conv2D(64, (3, 3), activation='relu', padding='same'),\n",
        "            layers.BatchNormalization(),\n",
        "            layers.MaxPooling2D((2, 2)),\n",
        "            layers.Dropout(0.25),\n",
        "\n",
        "            layers.Flatten(),\n",
        "            layers.Dense(512, activation='relu'),\n",
        "            layers.Dropout(0.5),\n",
        "            layers.Dense(self.num_classes, activation='softmax')\n",
        "        ])\n",
        "        model.compile(optimizer=keras.optimizers.Adam(learning_rate=0.0002),\n",
        "                      loss='categorical_crossentropy',\n",
        "                      metrics=['accuracy'])\n",
        "        return model\n",
        "\n",
        "    def train(self, train_dataset, epochs=1):\n",
        "        \"\"\" Train the CNN model \"\"\"\n",
        "        return self.model.fit(train_dataset, epochs=epochs)\n",
        "\n",
        "    def predict(self, test_dataset):\n",
        "        \"\"\" Predict test dataset labels \"\"\"\n",
        "        y_pred = self.model.predict(test_dataset)\n",
        "        return np.argmax(y_pred, axis=1)\n",
        "\n",
        "# Define dataset paths\n",
        "data_dir = \"./ds/images/remote_sensing/otherDatasets/sentinel_2/tif\"\n",
        "test_dir = \"./testset/testset\"\n",
        "\n",
        "# Load dataset with B10 removed\n",
        "dataset = EuroDataset(data_dir, test_dir)\n",
        "train_dataset = dataset.data_generator()\n",
        "test_dataset = dataset.load_test_data()\n",
        "\n",
        "# Train model\n",
        "cnn = CNN()\n",
        "history = cnn.train(train_dataset, epochs=1)\n",
        "\n",
        "# Predict test set\n",
        "y_pred = cnn.predict(test_dataset)\n",
        "print(\"Predictions:\", y_pred)\n"
      ]
    },
    {
      "cell_type": "code",
      "source": [
        "import torch                     #DAK MODEL\n",
        "import torch.nn as nn\n",
        "import torch.optim as optim\n",
        "from torch.utils.data import Dataset, DataLoader\n",
        "import torchvision.transforms as transforms\n",
        "import pandas as pd\n",
        "import numpy as np\n",
        "import os\n",
        "import rasterio\n",
        "from collections import Counter\n",
        "from sklearn.model_selection import train_test_split\n",
        "\n",
        "\n",
        "# --- Setup ---\n",
        "USE_CUDA = torch.cuda.is_available()\n",
        "DEVICE = torch.device(\"cuda\" if USE_CUDA else \"cpu\")\n",
        "print(f\"Using device: {DEVICE}\")\n",
        "\n",
        "BATCH_SIZE = 32\n",
        "NUM_EPOCHS = 50\n",
        "LEARNING_RATE = 0.001\n",
        "WEIGHT_DECAY = 0.001\n",
        "\n",
        "train_dir = './ds/images/remote_sensing/otherDatasets/sentinel_2/tif'\n",
        "validation_dir = './testset/testset'\n",
        "model_save_path = 'standalone_resnet.pth'\n",
        "predictions_csv_path = 'track_1.csv'\n",
        "\n",
        "\n",
        "\n",
        "def normalize_image(image):\n",
        "    # Common normalization logic here\n",
        "    return (image - np.mean(image, axis=(1, 2), keepdims=True)) / (\n",
        "                np.std(image, axis=(1, 2), keepdims=True) + 1e-7)\n",
        "\n",
        "\n",
        "class NpyDataset(Dataset):\n",
        "    def __init__(self, root_dir, transform=None):\n",
        "        self.root_dir = root_dir\n",
        "        self.transform = transform\n",
        "        self.file_paths = []\n",
        "        self.labels = []\n",
        "\n",
        "        for file in os.listdir(root_dir):\n",
        "            if file.endswith('.npy'):\n",
        "                self.file_paths.append(os.path.join(root_dir, file))\n",
        "                # Assuming labels are not provided, assign a dummy label for now\n",
        "                self.labels.append(0)  # Replace with actual labels if available\n",
        "\n",
        "    def __len__(self):\n",
        "        return len(self.file_paths)\n",
        "\n",
        "    def __getitem__(self, idx):\n",
        "        file_path = self.file_paths[idx]\n",
        "        data = np.load(file_path)\n",
        "\n",
        "        # Ensure data is in the correct format: [channels, height, width]\n",
        "        if data.shape[0] != 12:  # Assuming 12 channels\n",
        "            data = data.transpose((2, 0, 1))  # Convert to [channels, height, width]\n",
        "\n",
        "        data = torch.from_numpy(data).float()\n",
        "\n",
        "        # Normalize data if necessary\n",
        "        data = normalize_image(data)\n",
        "        label = torch.tensor(self.labels[idx], dtype=torch.long)\n",
        "\n",
        "        if self.transform:\n",
        "            data = self.transform(data)\n",
        "\n",
        "        return data, label, os.path.basename(file_path)\n",
        "# --- Custom Dataset ---\n",
        "class Sentinel2Dataset(Dataset):\n",
        "    def __init__(self, file_paths, transform=None):\n",
        "        self.file_paths = [fp for fp in file_paths if os.path.exists(fp)]\n",
        "        self.transform = transform\n",
        "        self.labels = []\n",
        "\n",
        "        # Assign labels based on file paths or other logic\n",
        "        for file_path in self.file_paths:\n",
        "            # Example logic to assign labels\n",
        "            self.labels.append(0)  # Replace with actual label logic\n",
        "\n",
        "        self.classes = sorted(list(set(self.labels)))\n",
        "        self.class_to_idx = {cls_name: i for i, cls_name in enumerate(self.classes)}\n",
        "        self.labels = [self.class_to_idx[label] for label in self.labels]\n",
        "\n",
        "    def __len__(self):\n",
        "        return len(self.file_paths)\n",
        "\n",
        "    def __getitem__(self, idx):\n",
        "        file_path = self.file_paths[idx]\n",
        "        if not os.path.exists(file_path):\n",
        "            raise FileNotFoundError(f\"File not found: {file_path}\")\n",
        "        # Load image from file_path\n",
        "        image = rasterio.open(file_path).read()\n",
        "\n",
        "        # Remove the 10th band (index 9 in zero-based indexing)\n",
        "        image = np.delete(image, 9, axis=0)\n",
        "\n",
        "        # Normalize the image\n",
        "        image = (image - np.mean(image, axis=(1, 2), keepdims=True)) / (\n",
        "                np.std(image, axis=(1, 2), keepdims=True) + 1e-7)\n",
        "\n",
        "        image = torch.from_numpy(image).float()\n",
        "        label = torch.tensor(self.labels[idx], dtype=torch.long)\n",
        "\n",
        "        if self.transform:\n",
        "            image = self.transform(image)\n",
        "\n",
        "        return image, label, os.path.basename(file_path)\n",
        "# --- Data Augmentation ---\n",
        "train_transforms = transforms.Compose([\n",
        "    transforms.Resize(1024),\n",
        "    transforms.RandomHorizontalFlip(),\n",
        "    transforms.RandomVerticalFlip(),\n",
        "    transforms.RandomRotation(degrees=30),\n",
        "    transforms.RandomResizedCrop(size=(64, 64), scale=(0.8, 1.0)),\n",
        "    transforms.Normalize([0.485] * 12, [0.229] * 12)  # Ensure this matches your data's channels\n",
        "])\n",
        "\n",
        "val_transforms = transforms.Compose([\n",
        "    transforms.Resize(1024),\n",
        "    transforms.Normalize([0.485] * 12, [0.229] * 12)\n",
        "])\n",
        "# --- Create Datasets and DataLoaders ---\n",
        "\n",
        "train_dataset = Sentinel2Dataset(train_dir, transform=train_transforms)\n",
        "validation_dataset = NpyDataset(validation_dir)\n",
        "file_paths = train_dataset.file_paths\n",
        "labels = train_dataset.labels\n",
        "unique_labels = sorted(list(set(labels)))\n",
        "label_to_idx = {label: i for i, label in enumerate(unique_labels)}\n",
        "labels = [label_to_idx[label] for label in labels]\n",
        "\n",
        "# Now, file_paths and labels should have the same length\n",
        "assert len(file_paths) == len(labels), \"File paths and labels must have the same length\"\n",
        "train_paths, val_paths, train_labels, val_labels = train_test_split(file_paths, labels, test_size=0.2, random_state=42, stratify=labels)\n",
        "train_dataset = Sentinel2Dataset(train_paths, transform=train_transforms)\n",
        "validation_dataset_train = Sentinel2Dataset(val_paths, transform=val_transforms)\n",
        "\n",
        "\n",
        "\n",
        "train_loader = DataLoader(train_dataset, batch_size=BATCH_SIZE, shuffle=True)\n",
        "validation_loader = DataLoader(validation_dataset_train, batch_size=BATCH_SIZE, shuffle=False)\n",
        "final_val_loader = DataLoader(validation_dataset, batch_size=BATCH_SIZE, shuffle=False)\n",
        "\n",
        "\n",
        "# --- Define Standalone ResNet-like Model ---\n",
        "class ResidualBlock(nn.Module):\n",
        "    def __init__(self, in_channels, out_channels, stride=1):\n",
        "        super().__init__()\n",
        "        self.conv1 = nn.Conv2d(in_channels, out_channels, kernel_size=3, stride=stride, padding=1)\n",
        "        self.bn1 = nn.BatchNorm2d(out_channels)\n",
        "        self.relu = nn.ReLU(inplace=False)\n",
        "        self.conv2 = nn.Conv2d(out_channels, out_channels, kernel_size=3, padding=1)\n",
        "        self.bn2 = nn.BatchNorm2d(out_channels)\n",
        "\n",
        "        if stride != 1 or in_channels != out_channels:\n",
        "            self.downsample = nn.Sequential(\n",
        "                nn.Conv2d(in_channels, out_channels, kernel_size=1, stride=stride),\n",
        "                nn.BatchNorm2d(out_channels)\n",
        "            )\n",
        "        else:\n",
        "            self.downsample = None\n",
        "\n",
        "    def forward(self, x):\n",
        "        residual = x if self.downsample is None else self.downsample(x)\n",
        "        x = self.relu(self.bn1(self.conv1(x)))\n",
        "        x = self.relu(self.bn2(self.conv2(x)))\n",
        "        x = x + residual\n",
        "        return self.relu(x)\n",
        "\n",
        "\n",
        "class StandaloneResNet(nn.Module):\n",
        "    def __init__(self, num_classes):\n",
        "        super().__init__()\n",
        "        self.conv1 = nn.Conv2d(12, 64, kernel_size=7, stride=2, padding=3)\n",
        "        self.bn1 = nn.BatchNorm2d(64)\n",
        "        self.relu = nn.ReLU()\n",
        "        self.maxpool = nn.MaxPool2d(kernel_size=3, stride=2)\n",
        "\n",
        "        # ResNet-like layers\n",
        "        self.layer1 = ResidualBlock(64, 128)  # Downsampling here\n",
        "        self.layer2 = ResidualBlock(128, 256)  # Downsampling here\n",
        "        self.layer3 = ResidualBlock(256, 512)  # Downsampling here\n",
        "        self.layer4 = ResidualBlock(512, 1024)  # Downsampling here\n",
        "        self.layer5 = ResidualBlock(1024, 2048)  # Downsampling here\n",
        "\n",
        "        # Final layers\n",
        "        self.avgpool = nn.AdaptiveAvgPool2d((1, 1))\n",
        "        self.fc = nn.Linear(2048, 256)\n",
        "        self.fc2 = nn.Linear(256, 128)\n",
        "        self.fc3 = nn.Linear(128, num_classes)\n",
        "\n",
        "    def forward(self, x):\n",
        "        x = self.maxpool(self.relu(self.bn1(self.conv1(x))))\n",
        "        x = self.layer1(x)\n",
        "        x = self.layer2(x)\n",
        "        x = self.layer3(x)\n",
        "        x = self.layer4(x)\n",
        "        x = self.layer5(x)\n",
        "        x = self.avgpool(x)\n",
        "        x = torch.flatten(x, 1)\n",
        "        x = self.relu(self.fc(x))\n",
        "        x = self.relu(self.fc2(x))\n",
        "        return self.fc3(x)\n",
        "\n",
        "model = StandaloneResNet(num_classes=len(train_dataset.classes))\n",
        "model.to(DEVICE)\n",
        "# --- Training Loop ---\n",
        "# Calculate class frequencies\n",
        "label_counts = Counter(train_dataset.labels)\n",
        "total_samples = sum(label_counts.values())\n",
        "class_frequencies = {label: count / total_samples for label, count in label_counts.items()}\n",
        "\n",
        "# Convert class frequencies to class weights\n",
        "class_weights = []\n",
        "for label in sorted(train_dataset.class_to_idx.keys()):\n",
        "    class_weights.append(1 / class_frequencies[train_dataset.class_to_idx[label]])\n",
        "\n",
        "class_weights = torch.tensor(class_weights).to(DEVICE)  # Move class weights to GPU\n",
        "# Define the loss function with class weights\n",
        "criterion = nn.CrossEntropyLoss(weight=class_weights)\n",
        "optimizer = optim.AdamW(model.parameters(), lr=LEARNING_RATE)\n",
        "patience = 5  # Number of epochs to wait before stopping\n",
        "early_stopping_counter = 0\n",
        "best_val_loss = float('inf')\n",
        "for epoch in range(NUM_EPOCHS):\n",
        "    model.train()\n",
        "    epoch_loss = 0\n",
        "    correct = 0\n",
        "    total = 0\n",
        "    for inputs, labels, _ in train_loader:\n",
        "        inputs, labels = inputs.to(DEVICE), labels.to(DEVICE)\n",
        "\n",
        "        optimizer.zero_grad()\n",
        "\n",
        "        outputs = model(inputs)\n",
        "        loss = criterion(outputs, labels)\n",
        "\n",
        "        loss.backward()\n",
        "        optimizer.step()\n",
        "\n",
        "        epoch_loss += loss.item()\n",
        "        _, predicted = torch.max(outputs, 1)\n",
        "        correct += (predicted == labels).sum().item()\n",
        "        total += labels.size(0)\n",
        "\n",
        "    epoch_loss /= len(train_loader)\n",
        "    accuracy = correct / total\n",
        "\n",
        "    print(f\"Epoch {epoch + 1} Train Loss: {epoch_loss:.4f}, Train Acc: {accuracy * 100:.2f}%\")\n",
        "\n",
        "    # Evaluate on validation set\n",
        "    model.eval()\n",
        "    val_loss = 0\n",
        "    correct = 0\n",
        "    total = 0\n",
        "    with torch.no_grad():\n",
        "        for inputs, labels, _ in validation_loader:\n",
        "            inputs, labels = inputs.to(DEVICE), labels.to(DEVICE)\n",
        "            outputs = model(inputs)\n",
        "            loss = criterion(outputs, labels)\n",
        "            val_loss += loss.item()\n",
        "            _, predicted = torch.max(outputs, 1)\n",
        "            correct += (predicted == labels).sum().item()\n",
        "            total += labels.size(0)\n",
        "\n",
        "    val_loss /= len(validation_loader)\n",
        "    val_accuracy = correct / total\n",
        "\n",
        "    print(f\"Epoch {epoch + 1} Validation Loss: {val_loss:.4f}, Validation Acc: {val_accuracy * 100:.2f}%\")\n",
        "\n",
        "    if val_loss < best_val_loss and epoch > 1:\n",
        "        best_val_loss = val_loss\n",
        "        torch.save(model.state_dict(), model_save_path)\n",
        "        print(f\"Model saved at epoch {epoch + 1} with validation loss: {val_loss:.4f}\")\n",
        "        early_stopping_counter = 0\n",
        "    else:\n",
        "        early_stopping_counter += 1\n",
        "        if early_stopping_counter >= patience:\n",
        "            print(f\"Early stopping triggered at epoch {epoch + 1}!\")\n",
        "            break\n",
        "# --- Save Predictions to CSV ---\n",
        "\n",
        "# --- Prediction on Validation Set and Create CSV ---\n",
        "all_predictions = []\n",
        "all_filenames = []\n",
        "best_model = StandaloneResNet(num_classes=len(train_dataset.classes))\n",
        "best_model.load_state_dict(torch.load(model_save_path))\n",
        "best_model.to(DEVICE)\n",
        "best_model.eval()  # Set to evaluation mode\n",
        "\n",
        "with torch.no_grad():\n",
        "    for inputs, _, image_paths in final_val_loader:  # Get filenames!\n",
        "        inputs = inputs.to(DEVICE)\n",
        "        outputs = best_model(inputs)\n",
        "        _, predicted = torch.max(outputs, 1)\n",
        "        # Map numerical labels back to class names\n",
        "        predicted_classes = [train_dataset.classes[pred.item()] for pred in predicted]\n",
        "        all_predictions.extend(predicted_classes)\n",
        "        all_filenames.extend([os.path.basename(path) for path in image_paths])  # Correct filename\n",
        "\n",
        "# Create the DataFrame with 'test_id' and 'label'\n",
        "predictions_df = pd.DataFrame({\n",
        "    'test_id': [os.path.splitext(filename)[0] for filename in all_filenames],  # Extract filename\n",
        "    'label': all_predictions\n",
        "})\n",
        "\n",
        "predictions_df.to_csv(predictions_csv_path, index=False)\n",
        "print(f\"Validation set predictions saved to: {predictions_csv_path}\")\n",
        "\n",
        "# --- Kaggle Submission (Requires API Key) ---\n",
        "from kaggle.api.kaggle_api_extended import KaggleApi\n",
        "\n",
        "api = KaggleApi()\n",
        "api.authenticate()  # Make sure your kaggle.json is set up\n",
        "\n",
        "kaggle_competition = 'your-competition-name'  # Replace with your actual competition name\n",
        "kaggle_message = 'track_1'\n",
        "\n",
        "df = pd.read_csv('track_1.csv')\n",
        "df['test_id'] = df['test_id'].str.replace('test_', '', regex=False)\n",
        "\n",
        "# Save the modified DataFrame back to the CSV file\n",
        "df.to_csv('track_1.csv', index=False)\n",
        "# Upload the CSV file to Kaggle\n",
        "api.competition_submit(competition=kaggle_competition, file_name=predictions_csv_path, message=kaggle_message)\n",
        "\n",
        "print(f\"Submission uploaded to Kaggle: {kaggle_competition}\")"
      ],
      "metadata": {
        "id": "znP7GthSLEwT"
      },
      "execution_count": null,
      "outputs": []
    },
    {
      "cell_type": "code",
      "source": [
        "import torch              #RES2MODEL\n",
        "import torch.nn as nn\n",
        "import torch.optim as optim\n",
        "from torch.utils.data import Dataset, DataLoader, random_split, Subset\n",
        "from torchvision import models, transforms # Keep torchvision transforms\n",
        "import rasterio\n",
        "import numpy as np\n",
        "import pandas as pd\n",
        "import os\n",
        "import random\n",
        "from torch.cuda.amp import GradScaler, autocast\n",
        "from torchvision.models import ResNet50_Weights, ConvNeXt_Base_Weights\n",
        "from sklearn.model_selection import train_test_split\n",
        "import traceback\n",
        "\n",
        "# --- Setup ---\n",
        "if not os.path.exists('./outputs'):\n",
        "    os.mkdir('./outputs')\n",
        "\n",
        "# Define the paths\n",
        "train_dir = './ds/images/remote_sensing/otherDatasets/sentinel_2/tif'\n",
        "validation_dir = './testset/testset'\n",
        "model_save_path = 'convnext_final_model.pth'\n",
        "predictions_csv_path = 'track_2.csv'\n",
        "\n",
        "USE_CUDA = torch.cuda.is_available()\n",
        "DEVICE = torch.device(\"cuda\" if USE_CUDA else \"cpu\")\n",
        "print(f\"Using device: {DEVICE}\")\n",
        "\n",
        "# --- Configuration & Hyperparameters ---\n",
        "seed = 1337\n",
        "random.seed(seed)\n",
        "np.random.seed(seed)\n",
        "torch.manual_seed(seed)\n",
        "if torch.cuda.is_available():\n",
        "    torch.cuda.manual_seed(seed)\n",
        "    torch.cuda.manual_seed_all(seed)\n",
        "torch.backends.cudnn.deterministic = True\n",
        "torch.backends.cudnn.benchmark = False\n",
        "\n",
        "best_image_size = 256\n",
        "best_batch_size = 64\n",
        "best_learning_rate = 1e-5\n",
        "best_weight_decay =  3.7553e-05\n",
        "best_optimizer_name = 'AdamW'\n",
        "\n",
        "num_epochs = 100\n",
        "warmup_epochs = 5\n",
        "initial_warmup_lr = 1e-6\n",
        "num_workers = 4\n",
        "train_ratio = 0.9\n",
        "patience = 10\n",
        "num_classes = 10\n",
        "\n",
        "# --- Normalization Stats (Defined as Tensors for transforms.Normalize) ---\n",
        "print(\"Using predefined 12-channel normalization stats.\")\n",
        "train_mean_12ch = torch.tensor([1353.73, 1117.20, 1041.88, 946.55, 1199.19, 2003.01, 2374.01, 2301.22, 732.18, 1820.70, 1118.20, 2599.78], dtype=torch.float32)\n",
        "train_std_12ch = torch.tensor([245.21, 327.28, 388.61, 586.99, 565.84, 859.51, 1085.12, 1108.11, 403.78, 1001.43, 759.43, 1229.73], dtype=torch.float32)\n",
        "# Add epsilon for safety BEFORE passing to Normalize\n",
        "train_std_12ch = torch.clamp(train_std_12ch, min=1e-7)\n",
        "\n",
        "\n",
        "# --- Data Loading Function ---\n",
        "def load_sentinel2_image(filepath):\n",
        "    \"\"\"Loads a Sentinel-2 image (12 bands), returns NumPy CHW.\"\"\"\n",
        "    if filepath.endswith('.tif'):\n",
        "        with rasterio.open(filepath) as src:\n",
        "            if src.count < 13: raise ValueError(f\"Expected >=13 bands, got {src.count} in {filepath}\")\n",
        "            bands = list(range(1, 10)) + list(range(11, 14))\n",
        "            image = src.read(bands) # Reads as (C, H, W)\n",
        "    elif filepath.endswith('.npy'):\n",
        "        image = np.load(filepath)\n",
        "        if image.shape[0] == 13:\n",
        "            image = np.concatenate((image[:9], image[10:]), axis=0) # (C, H, W)\n",
        "        # Ensure CHW format if loaded as HWC\n",
        "        if len(image.shape) == 3 and image.shape[0] != 12 and image.shape[2] == 12:\n",
        "            image = image.transpose(2, 0, 1) # HWC -> CHW\n",
        "        elif image.shape[0] != 12:\n",
        "             raise ValueError(f\"Unexpected shape for .npy {filepath}: {image.shape}\")\n",
        "    else:\n",
        "        raise ValueError(\"Unsupported file type.\")\n",
        "    # NO normalization here, done in transforms now\n",
        "    return image.astype(np.float32) # Ensure float32\n",
        "\n",
        "\n",
        "# --- Dataset Class (Simplified __getitem__) ---\n",
        "class Sentinel2Dataset(Dataset):\n",
        "    \"\"\"Custom Dataset for Sentinel-2 images. Returns Tensor CHW (12 channels).\"\"\"\n",
        "    def __init__(self, paths_labels, transform=None): # Takes paths_labels directly\n",
        "        self.paths_labels = paths_labels\n",
        "        self.transform = transform\n",
        "        # Get classes/mapping if this is the training dataset\n",
        "        if isinstance(paths_labels[0][1], int): # Check if labels are indices\n",
        "            unique_labels = sorted(list(set(l for _, l in paths_labels)))\n",
        "            self.classes = [f\"class_{i}\" for i in unique_labels] # Placeholder names\n",
        "            self.class_to_idx = {name: i for i, name in enumerate(self.classes)}\n",
        "\n",
        "\n",
        "    def __len__(self):\n",
        "        return len(self.paths_labels)\n",
        "\n",
        "    def __getitem__(self, idx):\n",
        "        image_path, label = self.paths_labels[idx]\n",
        "        try:\n",
        "            image_np = load_sentinel2_image(image_path) # NumPy (C, H, W)\n",
        "\n",
        "            # Convert to Tensor FIRST (Tensor CHW)\n",
        "            image_tensor = torch.from_numpy(image_np).float()\n",
        "\n",
        "            label_tensor = torch.tensor(label, dtype=torch.long)\n",
        "\n",
        "            # Apply transforms (which now include Normalize)\n",
        "            if self.transform:\n",
        "                image_tensor = self.transform(image_tensor) # Pass the TENSOR\n",
        "\n",
        "            return image_tensor, label_tensor, image_path\n",
        "\n",
        "        except Exception as e:\n",
        "            print(f\"Error loading/processing image {image_path}:\")\n",
        "            traceback.print_exc()\n",
        "            return None, None, None # Signal error\n",
        "\n",
        "# --- Data Transforms (REVISED AGAIN - No ToTensor, Normalize uses 12ch stats) ---\n",
        "train_transforms = transforms.Compose([\n",
        "    # Input is already a 12-channel Tensor from __getitem__\n",
        "    # Geometric augmentations work on multi-channel tensors\n",
        "    transforms.RandomHorizontalFlip(),\n",
        "    transforms.RandomVerticalFlip(),\n",
        "    transforms.RandomRotation(degrees=30),\n",
        "    transforms.Resize((best_image_size, best_image_size), antialias=True), # Apply Resize\n",
        "    # Cannot use ColorJitter, RandomResizedCrop easily on 12 channels here\n",
        "    transforms.Normalize(mean=train_mean_12ch, std=train_std_12ch) # Use 12-channel stats\n",
        "])\n",
        "\n",
        "val_transforms = transforms.Compose([\n",
        "    # Input is already a 12-channel Tensor from __getitem__\n",
        "    transforms.Resize((best_image_size, best_image_size), antialias=True), # Resize\n",
        "    transforms.Normalize(mean=train_mean_12ch, std=train_std_12ch) # Use 12-channel stats\n",
        "])\n",
        "\n",
        "# --- Create Datasets ---\n",
        "print(\"Creating and splitting dataset...\")\n",
        "full_dataset_paths_labels = [] # Store (path, label_idx)\n",
        "class_to_idx_map = {}\n",
        "class_names = []\n",
        "idx_counter = 0\n",
        "# Scan training directory\n",
        "for class_name in sorted(os.listdir(train_dir)):\n",
        "     class_dir = os.path.join(train_dir, class_name)\n",
        "     if os.path.isdir(class_dir) and not class_name.startswith('.'):\n",
        "         if class_name not in class_to_idx_map:\n",
        "             class_to_idx_map[class_name] = idx_counter\n",
        "             class_names.append(class_name)\n",
        "             idx_counter += 1\n",
        "         class_idx = class_to_idx_map[class_name]\n",
        "         for filename in os.listdir(class_dir):\n",
        "             if filename.lower().endswith(('.tif', '.tiff')):\n",
        "                 full_dataset_paths_labels.append((os.path.join(class_dir, filename), class_idx))\n",
        "\n",
        "num_classes = len(class_names) # Update num_classes\n",
        "print(f\"Found {len(full_dataset_paths_labels)} training images in {num_classes} classes.\")\n",
        "print(f\"Class names: {class_names}\")\n",
        "\n",
        "\n",
        "# Stratified Split\n",
        "train_info, val_info = train_test_split(\n",
        "    full_dataset_paths_labels,\n",
        "    train_size=train_ratio,\n",
        "    random_state=seed,\n",
        "    stratify=[label for _, label in full_dataset_paths_labels]\n",
        ")\n",
        "\n",
        "# Create Dataset objects using the split lists\n",
        "train_dataset = Sentinel2Dataset(train_info, transform=train_transforms)\n",
        "train_dataset.classes = class_names # Manually assign class info if needed later\n",
        "train_dataset.class_to_idx = class_to_idx_map\n",
        "\n",
        "val_tif_dataset = Sentinel2Dataset(val_info, transform=val_transforms)\n",
        "val_tif_dataset.classes = class_names\n",
        "val_tif_dataset.class_to_idx = class_to_idx_map\n",
        "\n",
        "\n",
        "# Validation dataset for FINAL evaluation (using .npy files)\n",
        "class NpyPredictionDataset(Dataset):\n",
        "    def __init__(self, root_dir, transform=None):\n",
        "        self.root_dir = root_dir\n",
        "        self.transform = transform\n",
        "        self.file_paths = sorted([os.path.join(root_dir, f) for f in os.listdir(root_dir) if f.endswith('.npy')])\n",
        "\n",
        "    def __len__(self):\n",
        "        return len(self.file_paths)\n",
        "\n",
        "    def __getitem__(self, idx):\n",
        "        image_path = self.file_paths[idx]\n",
        "        try:\n",
        "            image_np = load_sentinel2_image(image_path) # NumPy (C, H, W)\n",
        "            # NO normalization on NumPy here\n",
        "\n",
        "            image_tensor = torch.from_numpy(image_np).float() # Tensor (C, H, W)\n",
        "\n",
        "            if self.transform:\n",
        "                image_tensor = self.transform(image_tensor) # Apply val_transforms\n",
        "\n",
        "            return image_tensor, 0, image_path # Dummy label 0\n",
        "\n",
        "        except Exception as e:\n",
        "            print(f\"Error loading/processing image {image_path}:\")\n",
        "            traceback.print_exc()\n",
        "            return None, None, None\n",
        "\n",
        "final_validation_dataset = NpyPredictionDataset(validation_dir, transform=val_transforms)\n",
        "\n",
        "\n",
        "# --- Create DataLoaders ---\n",
        "def collate_fn(batch):\n",
        "    \"\"\" Filter out None samples before creating batch \"\"\"\n",
        "    batch = list(filter(lambda x: x is not None and x[0] is not None, batch))\n",
        "    if not batch: return None, None, None\n",
        "    images = torch.stack([item[0] for item in batch])\n",
        "    labels = torch.stack([item[1] for item in batch])\n",
        "    paths = [item[2] for item in batch]\n",
        "    return images, labels, paths\n",
        "\n",
        "train_loader = DataLoader(train_dataset, batch_size=best_batch_size, shuffle=True, num_workers=num_workers,\n",
        "                          generator=torch.Generator().manual_seed(seed), pin_memory=True, collate_fn=collate_fn)\n",
        "val_loader_split = DataLoader(val_tif_dataset, batch_size=best_batch_size, pin_memory=True, shuffle=False,\n",
        "                              num_workers=num_workers, collate_fn=collate_fn)\n",
        "final_pred_loader = DataLoader(final_validation_dataset, batch_size=best_batch_size, shuffle=False, num_workers=num_workers, pin_memory=True, collate_fn=collate_fn)\n",
        "\n",
        "print(\"DataLoaders created.\")\n",
        "\n",
        "\n",
        "# --- Model Definition (ConvNeXt adapted for 12->3 channels internally) ---\n",
        "class ConvNeXtSentinel2(nn.Module):\n",
        "    \"\"\" ConvNeXt model adapted for 12-channel input using an initial 1x1 conv. \"\"\"\n",
        "    def __init__(self, num_classes, pretrained=True):\n",
        "        super().__init__()\n",
        "        # --- 1. Define the 1x1 Channel Projector ---\n",
        "        self.channel_projector = nn.Conv2d(12, 3, kernel_size=1, bias=False)\n",
        "\n",
        "        # --- 2. Load base ConvNeXt model ---\n",
        "        self.convnext_base = models.convnext_base(weights=ConvNeXt_Base_Weights.DEFAULT if pretrained else None)\n",
        "\n",
        "        # --- 3. Initialize Projector Weights ---\n",
        "        if pretrained:\n",
        "            print(\"Initializing 1x1 channel projector weights...\")\n",
        "            with torch.no_grad():\n",
        "                # Use spatially averaged weights from ResNet50 conv1 as a starting point\n",
        "                try:\n",
        "                    rn_weights = ResNet50_Weights.IMAGENET1K_V1.get_state_dict()['conv1.weight']\n",
        "                    rn_weights_avg = rn_weights.mean(dim=[2, 3]) # Avg spatial dims -> [64, 3]\n",
        "                    proj_weights = self.channel_projector.weight.data # [3, 12, 1, 1]\n",
        "                    proj_weights.zero_()\n",
        "                    for out_ch in range(3):\n",
        "                        for in_ch in range(12):\n",
        "                            source_out_ch = out_ch\n",
        "                            source_in_ch = in_ch % 3\n",
        "                            proj_weights[out_ch, in_ch, 0, 0] = rn_weights_avg[source_out_ch, source_in_ch]\n",
        "                    print(\"Initialized conv1x1 using averaged ResNet weights.\")\n",
        "                except Exception as init_e:\n",
        "                    print(f\"Warning: Failed to initialize conv1x1 from ResNet ({init_e}). Using Kaiming init.\")\n",
        "                    nn.init.kaiming_normal_(self.channel_projector.weight, mode='fan_out', nonlinearity='relu')\n",
        "\n",
        "        # --- 4. Store original components (if needed, but likely not) ---\n",
        "        # self.features = self.convnext_base.features # Direct access might change\n",
        "        # self.avgpool = self.convnext_base.avgpool\n",
        "        # original_classifier = self.convnext_base.classifier\n",
        "\n",
        "        # --- 5. Replace the classifier ---\n",
        "        num_features_in = self.convnext_base.classifier[-1].in_features\n",
        "        self.convnext_base.classifier = nn.Sequential(\n",
        "             # Keep structure similar if needed (LayerNorm, Flatten)\n",
        "             self.convnext_base.classifier[0], # LayerNorm\n",
        "             self.convnext_base.classifier[1], # Flatten\n",
        "             nn.Dropout(p=0.5),\n",
        "             nn.Linear(num_features_in, num_classes)\n",
        "        )\n",
        "        print(f\"Replaced classifier head for {num_classes} classes.\")\n",
        "\n",
        "        # --- 6. Initialize New Classifier Head ---\n",
        "        nn.init.normal_(self.convnext_base.classifier[-1].weight, 0, 0.01)\n",
        "        nn.init.zeros_(self.convnext_base.classifier[-1].bias)\n",
        "\n",
        "        # --- 7. Set requires_grad for Fine-Tuning ---\n",
        "        print(\"Configuring model for fine-tuning...\")\n",
        "        # Freeze everything initially\n",
        "        for param in self.parameters():\n",
        "            param.requires_grad = False\n",
        "        # Unfreeze the projector, pre-classifier norm (if exists), and classifier\n",
        "        for param in self.channel_projector.parameters(): # Unfreeze projector\n",
        "            param.requires_grad = True\n",
        "        for param in self.convnext_base.classifier.parameters(): # Unfreeze new classifier\n",
        "            param.requires_grad = True\n",
        "\n",
        "        # Unfreeze the last stage of the backbone\n",
        "        if hasattr(self.convnext_base, 'features') and isinstance(self.convnext_base.features, nn.Sequential):\n",
        "            last_stage_idx = -1\n",
        "            for i in range(len(self.convnext_base.features) - 1, -1, -1):\n",
        "                 if isinstance(self.convnext_base.features[i], (nn.Sequential, models.convnext.CNBlock)):\n",
        "                     last_stage_idx = i\n",
        "                     break\n",
        "            if last_stage_idx != -1:\n",
        "                for param in self.convnext_base.features[last_stage_idx].parameters():\n",
        "                    param.requires_grad = True\n",
        "                print(f\"Unfroze channel_projector, classifier, and last stage (idx {last_stage_idx}).\")\n",
        "            else:\n",
        "                 print(\"Unfroze channel_projector and classifier only.\")\n",
        "\n",
        "\n",
        "    def forward(self, x: torch.Tensor) -> torch.Tensor:\n",
        "        # 1. Project 12 channels to 3\n",
        "        x = self.channel_projector(x)\n",
        "        # 2. Pass through the *original* ConvNeXt base model's forward path\n",
        "        x = self.convnext_base(x) # This will use the modified classifier internally\n",
        "        return x\n",
        "\n",
        "\n",
        "model = ConvNeXtSentinel2(num_classes=num_classes, pretrained=True) # Use the specific class\n",
        "model.to(DEVICE)\n",
        "\n",
        "trainable_params = sum(p.numel() for p in model.parameters() if p.requires_grad)\n",
        "print(f\"Number of trainable parameters: {trainable_params}\")\n",
        "\n",
        "\n",
        "# --- Loss Function, Optimizer, and Scheduler ---\n",
        "criterion = nn.CrossEntropyLoss()\n",
        "optimizer_params = filter(lambda p: p.requires_grad, model.parameters())\n",
        "if best_optimizer_name.lower() == 'adamw':\n",
        "    optimizer = torch.optim.AdamW(optimizer_params, lr=best_learning_rate, weight_decay=best_weight_decay)\n",
        "elif best_optimizer_name.lower() == 'adam':\n",
        "    optimizer = torch.optim.Adam(optimizer_params, lr=best_learning_rate, weight_decay=best_weight_decay)\n",
        "else:\n",
        "    raise ValueError(f\"Invalid optimizer name: {best_optimizer_name}\")\n",
        "\n",
        "# Warmup Scheduler\n",
        "if warmup_epochs > 0:\n",
        "    warmup_steps_per_epoch = len(train_loader)\n",
        "    total_warmup_steps = warmup_steps_per_epoch * warmup_epochs\n",
        "    def lr_lambda(current_step):\n",
        "        if current_step < total_warmup_steps:\n",
        "            scale_factor = float(current_step + 1) / float(max(1, total_warmup_steps))\n",
        "            lr_mult = initial_warmup_lr / best_learning_rate * (1.0 - scale_factor) + scale_factor\n",
        "            return lr_mult\n",
        "        return 1.0\n",
        "    warmup_scheduler = torch.optim.lr_scheduler.LambdaLR(optimizer, lr_lambda=lr_lambda)\n",
        "    print(f\"Using linear warmup for {warmup_epochs} epochs ({total_warmup_steps} steps).\")\n",
        "else:\n",
        "    warmup_scheduler = None\n",
        "\n",
        "# Main epoch-level scheduler\n",
        "scheduler = torch.optim.lr_scheduler.ReduceLROnPlateau(optimizer, mode='min', factor=0.1, patience=patience // 2)\n",
        "\n",
        "scaler = torch.amp.GradScaler(device=DEVICE.type, enabled=USE_CUDA) # Correct syntax\n",
        "\n",
        "# --- Training Loop ---\n",
        "best_val_loss = float('inf')\n",
        "epochs_without_improvement = 0\n",
        "best_model_state = None\n",
        "\n",
        "print(\"\\n--- Starting Final Training ---\")\n",
        "for epoch in range(num_epochs):\n",
        "    model.train()\n",
        "    total_train_loss = 0\n",
        "    correct_train_predictions = 0\n",
        "    total_train_samples = 0\n",
        "    print(f'\\nEpoch {epoch + 1}/{num_epochs}')\n",
        "\n",
        "    for batch_idx, batch_data in enumerate(train_loader):\n",
        "        if batch_data is None or batch_data[0] is None:\n",
        "            # print(f\"Warning: Skipping empty/invalid batch {batch_idx}\") # Less verbose\n",
        "            continue\n",
        "        inputs, targets, _ = batch_data # Unpack correctly\n",
        "\n",
        "        inputs = inputs.to(DEVICE)\n",
        "        targets = targets.to(DEVICE)\n",
        "\n",
        "        optimizer.zero_grad(set_to_none=True) # Use set_to_none=True\n",
        "\n",
        "        with torch.amp.autocast(device_type=DEVICE.type, enabled=USE_CUDA):\n",
        "            outputs = model(inputs)\n",
        "            loss = criterion(outputs, targets)\n",
        "\n",
        "        # Check for NaN loss before scaling/backward\n",
        "        if torch.isnan(loss):\n",
        "            print(f\"WARNING: NaN loss detected at Epoch {epoch+1}, Batch {batch_idx+1}. Skipping batch.\")\n",
        "            optimizer.zero_grad() # Clear potentially bad gradients\n",
        "            continue # Skip this batch\n",
        "\n",
        "        scaler.scale(loss).backward()\n",
        "\n",
        "        # Optional gradient clipping\n",
        "        # scaler.unscale_(optimizer)\n",
        "        # torch.nn.utils.clip_grad_norm_(model.parameters(), max_norm=1.0)\n",
        "\n",
        "        scaler.step(optimizer)\n",
        "        scaler.update()\n",
        "\n",
        "        # Step iteration-level scheduler (warmup phase)\n",
        "        if warmup_scheduler and epoch < warmup_epochs:\n",
        "             warmup_scheduler.step()\n",
        "\n",
        "        # --- Accumulate ---\n",
        "        total_train_loss += loss.item() * inputs.size(0) # Use inputs.size(0)\n",
        "        _, predicted = torch.max(outputs.data, 1)\n",
        "        total_train_samples += targets.size(0)\n",
        "        correct_train_predictions += (predicted == targets).sum().item()\n",
        "\n",
        "        if (batch_idx + 1) % 50 == 0: # Print less frequently\n",
        "            print(f'  Train Step [{batch_idx + 1}/{len(train_loader)}], Loss: {loss.item():.4f}')\n",
        "\n",
        "    avg_train_loss = total_train_loss / total_train_samples if total_train_samples > 0 else 0\n",
        "    train_accuracy = 100. * correct_train_predictions / total_train_samples if total_train_samples > 0 else 0\n",
        "    print(f'Epoch [{epoch + 1}/{num_epochs}] Avg Train Loss: {avg_train_loss:.4f}, Train Acc: {train_accuracy:.2f}%')\n",
        "\n",
        "    # --- Validation (using val_loader_split with .tif files) ---\n",
        "    model.eval()\n",
        "    total_val_loss = 0\n",
        "    correct_val_predictions = 0\n",
        "    total_val_samples = 0\n",
        "    with torch.no_grad():\n",
        "        for batch_data in val_loader_split: # Use the correct loader for internal val\n",
        "            if batch_data is None or batch_data[0] is None:\n",
        "                # print(f\"Warning: Skipping empty/invalid validation batch\") # Less verbose\n",
        "                continue\n",
        "            inputs, targets, _ = batch_data # Unpack\n",
        "\n",
        "            inputs = inputs.to(DEVICE)\n",
        "            targets = targets.to(DEVICE)\n",
        "            with torch.amp.autocast(device_type=DEVICE.type, enabled=USE_CUDA): # Add autocast\n",
        "                outputs = model(inputs)\n",
        "                loss = criterion(outputs, targets)\n",
        "\n",
        "            # Check for NaN loss in validation (less likely but possible)\n",
        "            if torch.isnan(loss):\n",
        "                 print(f\"WARNING: NaN loss detected during validation epoch {epoch+1}.\")\n",
        "                 continue\n",
        "\n",
        "            total_val_loss += loss.item() * inputs.size(0) # Use inputs.size(0)\n",
        "            _, predicted = torch.max(outputs.data, 1)\n",
        "            total_val_samples += targets.size(0)\n",
        "            correct_val_predictions += (predicted == targets).sum().item()\n",
        "\n",
        "    # Check if validation happened at all\n",
        "    if total_val_samples == 0:\n",
        "        print(\"Warning: No valid validation samples processed in this epoch.\")\n",
        "        avg_val_loss = float('inf') # Assign high loss if no validation\n",
        "        val_accuracy = 0.0\n",
        "    else:\n",
        "        avg_val_loss = total_val_loss / total_val_samples\n",
        "        val_accuracy = 100. * correct_val_predictions / total_val_samples\n",
        "\n",
        "    print(f'Epoch [{epoch + 1}/{num_epochs}] Avg Validation Loss: {avg_val_loss:.4f}, Validation Acc: {val_accuracy:.2f}%')\n",
        "\n",
        "    # Step the EPOCH level scheduler AFTER the warmup phase\n",
        "    if epoch >= warmup_epochs:\n",
        "         scheduler.step(avg_val_loss) # Use validation loss\n",
        "\n",
        "    current_lr = optimizer.param_groups[0]['lr'] # Get current LR\n",
        "    print(f'Current LR: {current_lr:.6e}')\n",
        "\n",
        "    # Early Stopping Logic\n",
        "    if avg_val_loss < best_val_loss:\n",
        "        best_val_loss = avg_val_loss\n",
        "        epochs_without_improvement = 0\n",
        "        best_model_state = model.state_dict()\n",
        "        torch.save(best_model_state, model_save_path) # Save the improved model\n",
        "        print(f'---> Validation Loss Improved to {best_val_loss:.4f}, model saved.')\n",
        "    else:\n",
        "        epochs_without_improvement += 1\n",
        "        print(f'---> Validation loss did not improve for {epochs_without_improvement} epochs.')\n",
        "        if epochs_without_improvement >= patience:\n",
        "            print(f'Early stopping triggered at epoch {epoch + 1}.')\n",
        "            break\n",
        "\n",
        "# --- After the loop ---\n",
        "if best_model_state is not None:\n",
        "    print(f'Best model saved during training to {model_save_path} with validation loss: {best_val_loss:.4f}')\n",
        "    # Load the best model state back into the model for final prediction step\n",
        "    model.load_state_dict(best_model_state)\n",
        "else:\n",
        "    print(\"Training finished without improvement or saving a model.\")\n",
        "    # Keep the last state if no improvement was ever made\n",
        "    best_model = model # 'model' already holds the last state\n",
        "\n",
        "print(\"Final training finished!\")\n",
        "\n",
        "\n",
        "# --- Final Prediction on Validation/Test Set (.npy files) and Create CSV ---\n",
        "print(\"\\n--- Generating predictions for submission ---\")\n",
        "# Ensure the best model weights are loaded\n",
        "best_model_to_pred = ConvNeXtSentinel2(num_classes=num_classes, pretrained=False) # Recreate architecture\n",
        "try:\n",
        "    # Use weights_only=True for security when loading external/saved files\n",
        "    best_model_to_pred.load_state_dict(torch.load(model_save_path, map_location=DEVICE, weights_only=True))\n",
        "    print(f\"Loaded best model weights from {model_save_path}\")\n",
        "except FileNotFoundError:\n",
        "    print(f\"Error: Model file not found at {model_save_path}. Using last model state if available.\")\n",
        "    if best_model_state is not None:\n",
        "         best_model_to_pred.load_state_dict(best_model_state) # Use last saved best state\n",
        "    else:\n",
        "         print(\"WARNING: No best model state found, predicting with potentially untrained model!\")\n",
        "         best_model_to_pred = model # Use the model from end of training\n",
        "\n",
        "best_model_to_pred.to(DEVICE)\n",
        "best_model_to_pred.eval() # Set to evaluation mode\n",
        "\n",
        "all_predictions = []\n",
        "all_filenames = []\n",
        "\n",
        "with torch.no_grad():\n",
        "    for batch_data in final_pred_loader: # Use the loader with .npy files\n",
        "        if batch_data is None or batch_data[0] is None:\n",
        "            print(f\"Warning: Skipping empty/invalid prediction batch\")\n",
        "            continue\n",
        "        inputs, _, image_paths = batch_data # Get filenames!\n",
        "\n",
        "        inputs = inputs.to(DEVICE)\n",
        "        with torch.amp.autocast(device_type=DEVICE.type, enabled=USE_CUDA):\n",
        "            outputs = best_model_to_pred(inputs) # Use the loaded best model\n",
        "        _, predicted = torch.max(outputs, 1)\n",
        "\n",
        "        # Use class names defined earlier based on training data folders\n",
        "        predicted_classes = [class_names[pred.item()] for pred in predicted]\n",
        "        all_predictions.extend(predicted_classes)\n",
        "        all_filenames.extend([os.path.basename(path) for path in image_paths])\n",
        "\n",
        "\n",
        "# Create the DataFrame with 'test_id' and 'label'\n",
        "predictions_df = pd.DataFrame({\n",
        "    'test_id': [os.path.splitext(filename)[0] for filename in all_filenames],\n",
        "    'label': all_predictions\n",
        "})\n",
        "\n",
        "predictions_csv_path = \"_track2.csv\" # Ensure correct submission filename\n",
        "predictions_df.to_csv(predictions_csv_path, index=False)\n",
        "print(f\"Submission predictions saved to: {predictions_csv_path}\")"
      ],
      "metadata": {
        "id": "BdCHJISALNQ2"
      },
      "execution_count": null,
      "outputs": []
    }
  ],
  "metadata": {
    "kernelspec": {
      "display_name": "Python 3",
      "name": "python3"
    },
    "language_info": {
      "codemirror_mode": {
        "name": "ipython",
        "version": 3
      },
      "file_extension": ".py",
      "mimetype": "text/x-python",
      "name": "python",
      "nbconvert_exporter": "python",
      "pygments_lexer": "ipython3",
      "version": "3.8.5"
    },
    "colab": {
      "provenance": [],
      "gpuType": "T4",
      "include_colab_link": true
    },
    "accelerator": "GPU"
  },
  "nbformat": 4,
  "nbformat_minor": 0
}